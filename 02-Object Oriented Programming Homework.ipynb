{
 "cells": [
  {
   "cell_type": "markdown",
   "metadata": {},
   "source": [
    "___\n",
    "\n",
    "<a href='https://www.udemy.com/user/joseportilla/'><img src='../Pierian_Data_Logo.png'/></a>\n",
    "___\n",
    "<center><em>Content Copyright by Pierian Data</em></center>"
   ]
  },
  {
   "cell_type": "markdown",
   "metadata": {},
   "source": [
    "# Object Oriented Programming\n",
    "## Homework Assignment\n",
    "\n",
    "#### Problem 1\n",
    "Fill in the Line class methods to accept coordinates as a pair of tuples and return the slope and distance of the line."
   ]
  },
  {
   "cell_type": "code",
   "execution_count": 87,
   "metadata": {},
   "outputs": [],
   "source": [
    "# Type I - INDIVIDUAL CO-ORDINATES\n",
    "\n",
    "# Line distance formula = ((x1 - x2) ** 2 + (y1 - y2) ** 2) ** .5\n",
    "\n",
    "# Line slope formula = (y2 -y1) / (x2 - x1)\n",
    "\n",
    "\n",
    "class Line:\n",
    "    \n",
    "    def __init__(self, x1, y1, x2, y2):\n",
    "        \n",
    "        self.x1 = x1\n",
    "        self.y1 = y1\n",
    "        self.x2 = x2\n",
    "        self.y2 = y2\n",
    "    \n",
    "    def distance(self):\n",
    "        \n",
    "        distance = ((self.x1 - self.x2)** 2 + (self.y1 - self.y2)** 2) ** .5\n",
    "                    \n",
    "        return distance\n",
    "                                     \n",
    "    def slope(self):\n",
    "        \n",
    "        slope = (self.y2 - self.y1) / (self.x2 - self.x1)\n",
    "        \n",
    "        return slope"
   ]
  },
  {
   "cell_type": "code",
   "execution_count": 88,
   "metadata": {},
   "outputs": [],
   "source": [
    "# EXAMPLE OUTPUT\n",
    "\n",
    "li = Line(x1 = 3, y1 = 2, x2 = 8, y2 = 10)"
   ]
  },
  {
   "cell_type": "code",
   "execution_count": 89,
   "metadata": {},
   "outputs": [
    {
     "data": {
      "text/plain": [
       "9.433981132056603"
      ]
     },
     "execution_count": 89,
     "metadata": {},
     "output_type": "execute_result"
    }
   ],
   "source": [
    "li.distance()"
   ]
  },
  {
   "cell_type": "code",
   "execution_count": 90,
   "metadata": {},
   "outputs": [
    {
     "data": {
      "text/plain": [
       "1.6"
      ]
     },
     "execution_count": 90,
     "metadata": {},
     "output_type": "execute_result"
    }
   ],
   "source": [
    "li.slope()"
   ]
  },
  {
   "cell_type": "code",
   "execution_count": null,
   "metadata": {},
   "outputs": [],
   "source": []
  },
  {
   "cell_type": "code",
   "execution_count": 95,
   "metadata": {},
   "outputs": [],
   "source": [
    "# Type II - INDEXING\n",
    "\n",
    "# Line distance formula = ((x1 - x2) ** 2 + (y1 - y2) ** 2) ** .5\n",
    "\n",
    "# Line slope formula = (y2 -y1) / (x2 - x1)\n",
    "\n",
    "\n",
    "class Line:\n",
    "    \n",
    "    def __init__(self,coor1,coor2):\n",
    "        \n",
    "        self.coor1 = coor1   #(x1,y1)\n",
    "        self.coor2 = coor2   #(x2,y2)\n",
    "    \n",
    "    def distance(self):\n",
    "        \n",
    "        distance = ((self.coor1[0] - self.coor2[0])** 2 + (self.coor1[1] - self.coor2[1])** 2) ** .5\n",
    "        \n",
    "        return distance\n",
    "        \n",
    "    \n",
    "    def slope(self):\n",
    "        \n",
    "        slope = (self.coor2[1] - self.coor1[1]) / (self.coor2[0] - self.coor1[0])\n",
    "        \n",
    "        return slope"
   ]
  },
  {
   "cell_type": "code",
   "execution_count": 96,
   "metadata": {},
   "outputs": [],
   "source": [
    "# EXAMPLE OUTPUT\n",
    "\n",
    "coor1 = (3,2)\n",
    "coor2 = (8,10)\n",
    "\n",
    "li = Line(coor1 = (3,2),coor2 = (8,10))"
   ]
  },
  {
   "cell_type": "code",
   "execution_count": 97,
   "metadata": {},
   "outputs": [
    {
     "data": {
      "text/plain": [
       "9.433981132056603"
      ]
     },
     "execution_count": 97,
     "metadata": {},
     "output_type": "execute_result"
    }
   ],
   "source": [
    "li.distance()"
   ]
  },
  {
   "cell_type": "code",
   "execution_count": 98,
   "metadata": {},
   "outputs": [
    {
     "data": {
      "text/plain": [
       "1.6"
      ]
     },
     "execution_count": 98,
     "metadata": {},
     "output_type": "execute_result"
    }
   ],
   "source": [
    "li.slope()"
   ]
  },
  {
   "cell_type": "code",
   "execution_count": null,
   "metadata": {},
   "outputs": [],
   "source": []
  },
  {
   "cell_type": "code",
   "execution_count": 117,
   "metadata": {},
   "outputs": [],
   "source": [
    "# Type III - TUPLE UNPACKING\n",
    "\n",
    "# Line distance formula = ((x1 - x2) ** 2 + (y1 - y2) ** 2) ** .5\n",
    "\n",
    "# Line slope formula = (y2 -y1) / (x2 - x1)\n",
    "\n",
    "\n",
    "class Line:\n",
    "    \n",
    "    def __init__(self,coor1,coor2):\n",
    "        \n",
    "        self.coor1 = coor1   #(x1,y1)\n",
    "        self.coor2 = coor2   #(x2,y2)\n",
    "    \n",
    "    def distance(self):\n",
    "        \n",
    "        x1, y1 = coor1\n",
    "        x2, y2 = coor2\n",
    "        \n",
    "        distance = ((x1 - x2)**2 + (y1-y2)**2) ** .5\n",
    "        \n",
    "        return distance\n",
    "        \n",
    "    \n",
    "    def slope(self):\n",
    "        \n",
    "        x1, y1 = coor1\n",
    "        x2, y2 = coor2\n",
    "        \n",
    "        slope = (y2-y1) / (x2-x1)\n",
    "        \n",
    "        return slope"
   ]
  },
  {
   "cell_type": "code",
   "execution_count": 118,
   "metadata": {},
   "outputs": [],
   "source": [
    "# EXAMPLE OUTPUT\n",
    "\n",
    "coor1 = (3,2)\n",
    "coor2 = (8,10)\n",
    "\n",
    "li = Line(coor1 ,coor2 )"
   ]
  },
  {
   "cell_type": "code",
   "execution_count": 119,
   "metadata": {},
   "outputs": [
    {
     "data": {
      "text/plain": [
       "9.433981132056603"
      ]
     },
     "execution_count": 119,
     "metadata": {},
     "output_type": "execute_result"
    }
   ],
   "source": [
    "li.distance()"
   ]
  },
  {
   "cell_type": "code",
   "execution_count": 120,
   "metadata": {},
   "outputs": [
    {
     "data": {
      "text/plain": [
       "1.6"
      ]
     },
     "execution_count": 120,
     "metadata": {},
     "output_type": "execute_result"
    }
   ],
   "source": [
    "li.slope()"
   ]
  },
  {
   "cell_type": "markdown",
   "metadata": {},
   "source": [
    "________\n",
    "#### Problem 2"
   ]
  },
  {
   "cell_type": "markdown",
   "metadata": {},
   "source": [
    "Fill in the class "
   ]
  },
  {
   "cell_type": "code",
   "execution_count": 121,
   "metadata": {},
   "outputs": [],
   "source": [
    "# Cylinder Volume formula = pi * (radius**2) * height\n",
    "\n",
    "# Cylinder Surface Area formula = 2pi * radius * height + (2pi * radius**2)\n",
    "\n",
    "\n",
    "class Cylinder:\n",
    "    \n",
    "    pi = 3.14\n",
    "    \n",
    "    def __init__(self,height=1,radius=1):\n",
    "        \n",
    "        self.height = height\n",
    "        self.radius = radius\n",
    "        \n",
    "    def volume(self):\n",
    "        \n",
    "        volume = Cylinder.pi * self.radius**2 * self.height\n",
    "        \n",
    "        return volume\n",
    "    \n",
    "    def surface_area(self):\n",
    "        surface_area = (2 * Cylinder.pi * self.radius * self.height) + (2 * Cylinder.pi * self.radius**2)\n",
    "        \n",
    "        return surface_area"
   ]
  },
  {
   "cell_type": "code",
   "execution_count": 122,
   "metadata": {},
   "outputs": [],
   "source": [
    "# EXAMPLE OUTPUT\n",
    "c = Cylinder(2,3)"
   ]
  },
  {
   "cell_type": "code",
   "execution_count": 123,
   "metadata": {},
   "outputs": [
    {
     "data": {
      "text/plain": [
       "__main__.Cylinder"
      ]
     },
     "execution_count": 123,
     "metadata": {},
     "output_type": "execute_result"
    }
   ],
   "source": [
    "type (c)"
   ]
  },
  {
   "cell_type": "code",
   "execution_count": 124,
   "metadata": {},
   "outputs": [
    {
     "data": {
      "text/plain": [
       "3.14"
      ]
     },
     "execution_count": 124,
     "metadata": {},
     "output_type": "execute_result"
    }
   ],
   "source": [
    "Cylinder.pi"
   ]
  },
  {
   "cell_type": "code",
   "execution_count": 125,
   "metadata": {},
   "outputs": [
    {
     "data": {
      "text/plain": [
       "56.52"
      ]
     },
     "execution_count": 125,
     "metadata": {},
     "output_type": "execute_result"
    }
   ],
   "source": [
    "c.volume()"
   ]
  },
  {
   "cell_type": "code",
   "execution_count": 126,
   "metadata": {},
   "outputs": [
    {
     "data": {
      "text/plain": [
       "94.2"
      ]
     },
     "execution_count": 126,
     "metadata": {},
     "output_type": "execute_result"
    }
   ],
   "source": [
    "c.surface_area()"
   ]
  },
  {
   "cell_type": "code",
   "execution_count": null,
   "metadata": {},
   "outputs": [],
   "source": []
  },
  {
   "cell_type": "code",
   "execution_count": null,
   "metadata": {},
   "outputs": [],
   "source": []
  }
 ],
 "metadata": {
  "kernelspec": {
   "display_name": "Python 3",
   "language": "python",
   "name": "python3"
  },
  "language_info": {
   "codemirror_mode": {
    "name": "ipython",
    "version": 3
   },
   "file_extension": ".py",
   "mimetype": "text/x-python",
   "name": "python",
   "nbconvert_exporter": "python",
   "pygments_lexer": "ipython3",
   "version": "3.8.5"
  }
 },
 "nbformat": 4,
 "nbformat_minor": 1
}
