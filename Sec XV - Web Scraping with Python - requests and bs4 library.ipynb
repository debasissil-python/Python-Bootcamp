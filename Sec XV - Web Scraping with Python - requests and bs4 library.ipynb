{
 "cells": [
  {
   "cell_type": "markdown",
   "metadata": {},
   "source": [
    "### Imported requests , bs4 and lxml libraries but it didn't work here. \n",
    "### So imported it within 'site packages' in the root folder and scraped there."
   ]
  },
  {
   "cell_type": "code",
   "execution_count": null,
   "metadata": {},
   "outputs": [],
   "source": []
  },
  {
   "cell_type": "markdown",
   "metadata": {},
   "source": [
    "### Please look in the files mentioned below under 'site-packages'\n",
    "\n",
    "#### http://localhost:8888/tree/18082020/site-packages"
   ]
  },
  {
   "cell_type": "markdown",
   "metadata": {},
   "source": [
    "#### * Sec-XV-Web-Scraping-Examples\n",
    "\n",
    "##### C:\\\\Users\\\\LENOVO\\\\18082020\\\\site-packages\\\\Sec-XV-Web-Scraping-Examples.ipynb"
   ]
  },
  {
   "cell_type": "markdown",
   "metadata": {},
   "source": [
    "#### * Sec-XV-Web-Scraping-with-Python\n",
    "\n",
    "#### C:\\\\Users\\\\LENOVO\\\\18082020\\\\site-packages\\\\Sec-XV-Web-Scraping-with-Python.ipynb"
   ]
  },
  {
   "cell_type": "markdown",
   "metadata": {},
   "source": [
    "#### * 01-Web-Scraping-Exercises-Copy1\n",
    "\n",
    "#### C:\\Users\\LENOVO\\18082020\\site-packages\\01-Web-Scraping-Exercises-Copy1.ipynb"
   ]
  },
  {
   "cell_type": "markdown",
   "metadata": {},
   "source": [
    "#### * 01-Web-Scraping-Exercises\n",
    "\n",
    "#### C:\\Users\\LENOVO\\18082020\\site-packages\\01-Web-Scraping-Exercises.ipynb"
   ]
  },
  {
   "cell_type": "code",
   "execution_count": 1,
   "metadata": {},
   "outputs": [
    {
     "data": {
      "text/plain": [
       "'C:\\\\Users\\\\LENOVO\\\\18082020'"
      ]
     },
     "execution_count": 1,
     "metadata": {},
     "output_type": "execute_result"
    }
   ],
   "source": [
    "pwd"
   ]
  },
  {
   "cell_type": "code",
   "execution_count": null,
   "metadata": {},
   "outputs": [],
   "source": []
  }
 ],
 "metadata": {
  "kernelspec": {
   "display_name": "Python 3",
   "language": "python",
   "name": "python3"
  },
  "language_info": {
   "codemirror_mode": {
    "name": "ipython",
    "version": 3
   },
   "file_extension": ".py",
   "mimetype": "text/x-python",
   "name": "python",
   "nbconvert_exporter": "python",
   "pygments_lexer": "ipython3",
   "version": "3.8.5"
  }
 },
 "nbformat": 4,
 "nbformat_minor": 4
}
