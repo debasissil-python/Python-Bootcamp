{
 "cells": [
  {
   "cell_type": "markdown",
   "metadata": {},
   "source": [
    "define a function"
   ]
  },
  {
   "cell_type": "code",
   "execution_count": 10,
   "metadata": {},
   "outputs": [
    {
     "name": "stdout",
     "output_type": "stream",
     "text": [
      "Hallo Debasis\n"
     ]
    },
    {
     "data": {
      "text/plain": [
       "'Hallo Debasis'"
      ]
     },
     "execution_count": 10,
     "metadata": {},
     "output_type": "execute_result"
    }
   ],
   "source": [
    "# By defining a function you can use it many times in your code\n",
    "#    _ means 'snake casing' - It means using lower cases with underscores\n",
    "\n",
    "# See we use defination (def), then a function (say_hallo) and then a parameter (name)\n",
    "\n",
    "\n",
    "def say_hallo(name):\n",
    "    print (\"Hallo\",name) # It prints out a String and the Input (name). Cannot be saved in a variable\n",
    "    \n",
    "    return \"Hallo \" + name # It can be saved with a variable. Does not print \n",
    "\n",
    "say_hallo('Debasis')\n",
    "    "
   ]
  },
  {
   "cell_type": "code",
   "execution_count": 8,
   "metadata": {},
   "outputs": [
    {
     "name": "stdout",
     "output_type": "stream",
     "text": [
      "The multiplication sum of the numbers 20 and 30 are 600\n"
     ]
    },
    {
     "data": {
      "text/plain": [
       "'The sum of the numbers 20 and 30 are 600'"
      ]
     },
     "execution_count": 8,
     "metadata": {},
     "output_type": "execute_result"
    }
   ],
   "source": [
    "# difference between Return and Print in numbers\n",
    "\n",
    "def diff_nums(n1, n2):\n",
    "    print (\"The multiplication sum of the numbers\", n1, 'and', n2, 'are', n1 * n2) # Print always with ()\n",
    "    \n",
    "    return 'The sum of the numbers ' + str(n1)  + ' and '+ str(n2)  + ' are '+ str(n1*n2) # Return takes only Strings\n",
    "    \n",
    "diff_nums(20,30) # Calling the function"
   ]
  },
  {
   "cell_type": "code",
   "execution_count": 123,
   "metadata": {},
   "outputs": [],
   "source": [
    "# Benefits of Return \n",
    "\n",
    "def many_prints(name,standard,school):\n",
    "    return \"My name is \" + name + \". I study in standard \" + standard + \" and my school's name is \" + school  \n",
    "    \n",
    "check = many_prints('Debasis', 'X', 'SAIE')\n"
   ]
  },
  {
   "cell_type": "code",
   "execution_count": 124,
   "metadata": {},
   "outputs": [
    {
     "name": "stdout",
     "output_type": "stream",
     "text": [
      "My name is Debasis. I study in standard X and my school's name is SAIE\n"
     ]
    }
   ],
   "source": [
    "print(check) # We can use several times by just calling the'variable' without writing the codes again and again."
   ]
  },
  {
   "cell_type": "code",
   "execution_count": 125,
   "metadata": {},
   "outputs": [
    {
     "data": {
      "text/plain": [
       "\"My name is Debasis. I study in standard X and my school's name is SAIE\""
      ]
     },
     "execution_count": 125,
     "metadata": {},
     "output_type": "execute_result"
    }
   ],
   "source": [
    "check # We can use the 'variable' several times in the program without writing it again."
   ]
  },
  {
   "cell_type": "code",
   "execution_count": 127,
   "metadata": {},
   "outputs": [
    {
     "name": "stdout",
     "output_type": "stream",
     "text": [
      "My name is Debasis\n",
      "I study in standard X\n",
      "And my school's name is SAIE\n"
     ]
    }
   ],
   "source": [
    "def many_prints(name,standard,school):\n",
    "    print (\"My name is \"+ name)\n",
    "    print (\"I study in standard \"+ standard)\n",
    "    print (\"And my school's name is \" + school)\n",
    "    \n",
    "many_prints('Debasis', 'X', 'SAIE')\n"
   ]
  },
  {
   "cell_type": "code",
   "execution_count": 130,
   "metadata": {},
   "outputs": [
    {
     "name": "stdout",
     "output_type": "stream",
     "text": [
      "My name is Aryan\n",
      "I study in standard X\n",
      "And my school's name is DPS Newtown\n"
     ]
    }
   ],
   "source": [
    "# The function can be called several times in the program WITHOUT writing the code \n",
    "# The values can be altered according to my requirements\n",
    "\n",
    "many_prints('Aryan', 'XII', 'DPS Newtown') \n"
   ]
  },
  {
   "cell_type": "code",
   "execution_count": 6,
   "metadata": {},
   "outputs": [
    {
     "ename": "NameError",
     "evalue": "name 'total' is not defined",
     "output_type": "error",
     "traceback": [
      "\u001b[1;31m---------------------------------------------------------------------------\u001b[0m",
      "\u001b[1;31mNameError\u001b[0m                                 Traceback (most recent call last)",
      "\u001b[1;32m<ipython-input-6-f5f7acea0338>\u001b[0m in \u001b[0;36m<module>\u001b[1;34m\u001b[0m\n\u001b[1;32m----> 1\u001b[1;33m \u001b[0mtotal\u001b[0m\u001b[1;33m\u001b[0m\u001b[1;33m\u001b[0m\u001b[0m\n\u001b[0m",
      "\u001b[1;31mNameError\u001b[0m: name 'total' is not defined"
     ]
    }
   ],
   "source": [
    "total"
   ]
  },
  {
   "cell_type": "markdown",
   "metadata": {},
   "source": [
    "Calling the function from Input 8"
   ]
  },
  {
   "cell_type": "code",
   "execution_count": 15,
   "metadata": {},
   "outputs": [
    {
     "name": "stdout",
     "output_type": "stream",
     "text": [
      "The multiplication sum of the numbers 200 and 35 are 7000\n"
     ]
    }
   ],
   "source": [
    "total = diff_nums(200,35) # Assigning a variable # Any values can be put in as per requirement"
   ]
  },
  {
   "cell_type": "code",
   "execution_count": 16,
   "metadata": {},
   "outputs": [
    {
     "data": {
      "text/plain": [
       "'The sum of the numbers 200 and 35 are 7000'"
      ]
     },
     "execution_count": 16,
     "metadata": {},
     "output_type": "execute_result"
    }
   ],
   "source": [
    "total # Implementing a variable"
   ]
  },
  {
   "cell_type": "markdown",
   "metadata": {},
   "source": [
    "To check if a number is even through function"
   ]
  },
  {
   "cell_type": "markdown",
   "metadata": {},
   "source": [
    "OPTION I - A few lines code"
   ]
  },
  {
   "cell_type": "code",
   "execution_count": 40,
   "metadata": {},
   "outputs": [],
   "source": [
    "def even_check(number): # See we use defination (def), then a function (even_check) and then a parameter (number)\n",
    "    result = number % 2 == 0    # we gave also used snake casing '_'\n",
    "    return result"
   ]
  },
  {
   "cell_type": "code",
   "execution_count": 41,
   "metadata": {},
   "outputs": [
    {
     "data": {
      "text/plain": [
       "True"
      ]
     },
     "execution_count": 41,
     "metadata": {},
     "output_type": "execute_result"
    }
   ],
   "source": [
    "even_check(20)"
   ]
  },
  {
   "cell_type": "code",
   "execution_count": 42,
   "metadata": {},
   "outputs": [
    {
     "data": {
      "text/plain": [
       "False"
      ]
     },
     "execution_count": 42,
     "metadata": {},
     "output_type": "execute_result"
    }
   ],
   "source": [
    "even_check(99)"
   ]
  },
  {
   "cell_type": "markdown",
   "metadata": {},
   "source": [
    "OPTION II - A One Liner code"
   ]
  },
  {
   "cell_type": "code",
   "execution_count": 45,
   "metadata": {},
   "outputs": [],
   "source": [
    "def even_check(num):    # A One liner code\n",
    "    return num % 2 == 0\n",
    "    "
   ]
  },
  {
   "cell_type": "code",
   "execution_count": 46,
   "metadata": {},
   "outputs": [
    {
     "data": {
      "text/plain": [
       "False"
      ]
     },
     "execution_count": 46,
     "metadata": {},
     "output_type": "execute_result"
    }
   ],
   "source": [
    "even_check(25)"
   ]
  },
  {
   "cell_type": "code",
   "execution_count": 47,
   "metadata": {},
   "outputs": [
    {
     "data": {
      "text/plain": [
       "True"
      ]
     },
     "execution_count": 47,
     "metadata": {},
     "output_type": "execute_result"
    }
   ],
   "source": [
    "even_check(30)"
   ]
  },
  {
   "cell_type": "markdown",
   "metadata": {},
   "source": [
    "Check Even Numbers from a List"
   ]
  },
  {
   "cell_type": "code",
   "execution_count": 72,
   "metadata": {},
   "outputs": [],
   "source": [
    "def even_check_list(numbers_list): # We use defination (def), a function (even_check_list) and a parameter (nums_list)\n",
    "    for nums in numbers_list:\n",
    "        if nums % 2 == 0:\n",
    "            return True\n",
    "        else:\n",
    "            pass # Pass means it will not print anything\n",
    "        "
   ]
  },
  {
   "cell_type": "code",
   "execution_count": 76,
   "metadata": {},
   "outputs": [
    {
     "data": {
      "text/plain": [
       "True"
      ]
     },
     "execution_count": 76,
     "metadata": {},
     "output_type": "execute_result"
    }
   ],
   "source": [
    "even_check_list([1,3,4])"
   ]
  },
  {
   "cell_type": "code",
   "execution_count": 82,
   "metadata": {},
   "outputs": [],
   "source": [
    "even_check_list([1,3,5,7]) # It is Pass(All Odd Numbers). So not printing anything"
   ]
  },
  {
   "cell_type": "code",
   "execution_count": 83,
   "metadata": {},
   "outputs": [
    {
     "data": {
      "text/plain": [
       "True"
      ]
     },
     "execution_count": 83,
     "metadata": {},
     "output_type": "execute_result"
    }
   ],
   "source": [
    "even_check_list([4,3,1])"
   ]
  },
  {
   "cell_type": "code",
   "execution_count": 84,
   "metadata": {},
   "outputs": [
    {
     "data": {
      "text/plain": [
       "True"
      ]
     },
     "execution_count": 84,
     "metadata": {},
     "output_type": "execute_result"
    }
   ],
   "source": [
    "even_check_list([9,7,5,3,1,11,0])"
   ]
  },
  {
   "cell_type": "markdown",
   "metadata": {},
   "source": [
    "Print False if there are any Odd Numbers in the list [Pls Check the Video no 45. Logic with Python Functions]"
   ]
  },
  {
   "cell_type": "code",
   "execution_count": 109,
   "metadata": {},
   "outputs": [],
   "source": [
    "def even_check_list(numbers_list): # We use defination (def), a function (even_check_list) and a parameter (nums_list)\n",
    "    for nums in numbers_list:\n",
    "        if nums % 2 == 0:\n",
    "            return True\n",
    "        else:\n",
    "            pass # Pass means it will not print anything [ Don't do anything]\n",
    "    \n",
    "    return False # The return key was not entered with 'if' indentation because it would have just checked the first \n",
    "                 # number and return False. Now the 'for loop' will run throughout the list and the return False\n",
    "                 # if there are no even Numbers\n",
    "     "
   ]
  },
  {
   "cell_type": "code",
   "execution_count": 110,
   "metadata": {},
   "outputs": [
    {
     "data": {
      "text/plain": [
       "True"
      ]
     },
     "execution_count": 110,
     "metadata": {},
     "output_type": "execute_result"
    }
   ],
   "source": [
    "even_check_list([2,1,7,3,9])"
   ]
  },
  {
   "cell_type": "code",
   "execution_count": 111,
   "metadata": {},
   "outputs": [
    {
     "data": {
      "text/plain": [
       "False"
      ]
     },
     "execution_count": 111,
     "metadata": {},
     "output_type": "execute_result"
    }
   ],
   "source": [
    "even_check_list([3,5,67,9,11])"
   ]
  },
  {
   "cell_type": "code",
   "execution_count": 112,
   "metadata": {},
   "outputs": [
    {
     "data": {
      "text/plain": [
       "True"
      ]
     },
     "execution_count": 112,
     "metadata": {},
     "output_type": "execute_result"
    }
   ],
   "source": [
    "even_check_list([2,5,7,9,11,12])"
   ]
  },
  {
   "cell_type": "markdown",
   "metadata": {},
   "source": [
    "VERY IMPORTANT - WE MUST NOT USE 'RETURN FALSE' IN ELSE: AS THAT WILL GIVE WRONG OUTPUT"
   ]
  },
  {
   "cell_type": "code",
   "execution_count": 117,
   "metadata": {},
   "outputs": [],
   "source": [
    "✨✨✨✨\n",
    "\n",
    "# def even_check_list(numbers_list): # We use defination (def), a function (even_check_list) and a parameter (nums_list)\n",
    "\n",
    "def even_check_list(numbers_list):    \n",
    "    for nums in numbers_list:\n",
    "        if nums % 2 == 0:\n",
    "            return True\n",
    "        else:\n",
    "            return False # WRONG ! WRONG ! WRONG!\n",
    "        \n",
    "✨✨✨✨"
   ]
  },
  {
   "cell_type": "code",
   "execution_count": 118,
   "metadata": {},
   "outputs": [
    {
     "data": {
      "text/plain": [
       "True"
      ]
     },
     "execution_count": 118,
     "metadata": {},
     "output_type": "execute_result"
    }
   ],
   "source": [
    "even_check_list([10,7,9]) # 10 IS A ODD NUMBER BUT IT IS SHOWING FALSE"
   ]
  },
  {
   "cell_type": "code",
   "execution_count": 119,
   "metadata": {},
   "outputs": [
    {
     "data": {
      "text/plain": [
       "False"
      ]
     },
     "execution_count": 119,
     "metadata": {},
     "output_type": "execute_result"
    }
   ],
   "source": [
    "even_check_list([9,10,7]) # The same list with odd no at the back gives an incorrect result. \n",
    "                          # It is because the if statement is not checking the entire list but only the First number\n",
    "             \n",
    "# This is why we need to keep the 'Return False' out of the 'if' statement and keep it with 'for loop', like the code above"
   ]
  },
  {
   "cell_type": "markdown",
   "metadata": {},
   "source": [
    "Now we need to Return all the Even Numbers in the list"
   ]
  },
  {
   "cell_type": "code",
   "execution_count": 176,
   "metadata": {},
   "outputs": [],
   "source": [
    "# Not just True or False but to return the Even numbers \n",
    "\n",
    "def even_check_list(numbers_list):\n",
    "    \n",
    "    # Blank Placeholders\n",
    "    \n",
    "    all_even_numbers =[]                      # these are needed when we want to return a list\n",
    "    \n",
    "    for nums in numbers_list:\n",
    "        if nums % 2 == 0:\n",
    "            all_even_numbers.append(nums)  # Not returning anything here\n",
    "        else:\n",
    "            pass \n",
    "    \n",
    "    return all_even_numbers\n"
   ]
  },
  {
   "cell_type": "code",
   "execution_count": 177,
   "metadata": {},
   "outputs": [
    {
     "data": {
      "text/plain": [
       "[2, 4, 6]"
      ]
     },
     "execution_count": 177,
     "metadata": {},
     "output_type": "execute_result"
    }
   ],
   "source": [
    "even_check_list([2,3,4,5,6])"
   ]
  },
  {
   "cell_type": "code",
   "execution_count": null,
   "metadata": {},
   "outputs": [],
   "source": []
  },
  {
   "cell_type": "code",
   "execution_count": 195,
   "metadata": {},
   "outputs": [
    {
     "name": "stdout",
     "output_type": "stream",
     "text": [
      "The Even Numbers are: [2, 4, 100, 14, 16]\n",
      "The Odd Numbers are- [3, 5, 99, 17, 19]\n"
     ]
    }
   ],
   "source": [
    "# Not just True or False but to return the Even numbers \n",
    "\n",
    "def even_check_list(numbers_list):\n",
    "    \n",
    "    # Blank Placeholders\n",
    "    \n",
    "    all_even_numbers =[]                      # these are needed when we want to return a list\n",
    "    all_odd_numbers = []\n",
    "    \n",
    "    for nums in numbers_list:\n",
    "        if nums % 2 == 0:\n",
    "            all_even_numbers.append(nums)  # Not returning anything here\n",
    "        elif nums % 2 != 0:\n",
    "            all_odd_numbers.append(nums)\n",
    "        else:\n",
    "            pass \n",
    "    \n",
    "    print('The Even Numbers are:',all_even_numbers)\n",
    "    print (\"The Odd Numbers are-\",all_odd_numbers)\n",
    "    \n",
    "even_check_list([2,3,4,5,99,100,14, 16, 17, 19])"
   ]
  },
  {
   "cell_type": "code",
   "execution_count": null,
   "metadata": {},
   "outputs": [],
   "source": []
  },
  {
   "cell_type": "markdown",
   "metadata": {},
   "source": [
    "In a Defination we can also add / subs/ multi /div and add it to the list"
   ]
  },
  {
   "cell_type": "code",
   "execution_count": 57,
   "metadata": {},
   "outputs": [
    {
     "name": "stdout",
     "output_type": "stream",
     "text": [
      "The odd numbers have been added with 10. So the output is [13, 15, 17, 19]\n",
      "The Even Lists are as follows: [4, 16, 36, 64]\n"
     ]
    }
   ],
   "source": [
    "def odd_even_list(num_list):\n",
    "    odd_list = []\n",
    "    even_list = []\n",
    "    \n",
    "    for nums in num_list:\n",
    "        if nums % 2 == 0:\n",
    "            even_list.append(nums ** 2)\n",
    "            \n",
    "        else:\n",
    "            odd_list.append(nums + 10)\n",
    "            \n",
    "    print (\"The odd numbers have been added with 10. So the output is\", odd_list)\n",
    "    print ('The Even Lists are as follows:', even_list)\n",
    "\n",
    "odd_even_list([2,3,4,5,6,7,8,9])"
   ]
  },
  {
   "cell_type": "code",
   "execution_count": null,
   "metadata": {},
   "outputs": [],
   "source": []
  },
  {
   "cell_type": "markdown",
   "metadata": {},
   "source": [
    "Tuples unpacking with functions"
   ]
  },
  {
   "cell_type": "code",
   "execution_count": 21,
   "metadata": {},
   "outputs": [
    {
     "name": "stdout",
     "output_type": "stream",
     "text": [
      "Coffee\n",
      "Sugar\n",
      "Med\n",
      "Sanitizer\n"
     ]
    }
   ],
   "source": [
    "# FIRST WE PRACTICE A BIT OF TUPLE UNPACKING\n",
    "\n",
    "gd_market = [('Coffee', 450),('Sugar',150), ('Med',800), ('Sanitizer', 250)]\n",
    "\n",
    "\n",
    "for goods, prices in gd_market: # individual printing of goods and prices\n",
    "    print (goods)"
   ]
  },
  {
   "cell_type": "code",
   "execution_count": 22,
   "metadata": {},
   "outputs": [
    {
     "name": "stdout",
     "output_type": "stream",
     "text": [
      "450\n",
      "150\n",
      "800\n",
      "250\n"
     ]
    }
   ],
   "source": [
    "for goods, prices in gd_market:\n",
    "    print (prices)\n"
   ]
  },
  {
   "cell_type": "code",
   "execution_count": 23,
   "metadata": {},
   "outputs": [
    {
     "name": "stdout",
     "output_type": "stream",
     "text": [
      "('Coffee', 450)\n",
      "('Sugar', 150)\n",
      "('Med', 800)\n",
      "('Sanitizer', 250)\n"
     ]
    }
   ],
   "source": [
    "for all in gd_market:\n",
    "    print (all)"
   ]
  },
  {
   "cell_type": "code",
   "execution_count": 24,
   "metadata": {},
   "outputs": [
    {
     "name": "stdout",
     "output_type": "stream",
     "text": [
      "472.5\n",
      "157.5\n",
      "840.0\n",
      "262.5\n"
     ]
    }
   ],
   "source": [
    "for values, prices in gd_market:\n",
    "    print (prices +(.05 * prices)) # here we can increase the prices by any percentage and add it together with prices"
   ]
  },
  {
   "cell_type": "code",
   "execution_count": 3,
   "metadata": {},
   "outputs": [],
   "source": [
    "# NOW WE PRACTICE TUPLE UNPACKING WITH FUNCTION\n",
    "\n",
    "# WE WILL FIND OUT WHO THE TOP AGENT IS\n",
    "\n",
    "agents_list = [('Suro',1000), (\"Ramesh\", 900), ('Archit', 85)]\n",
    "\n",
    "def top_agent(agents_list):\n",
    "    \n",
    "    # Blank Placeholders\n",
    "    agent_name = \"\"\n",
    "    no_of_policies = 0\n",
    "    \n",
    "    for agents, total_pols in agents_list:\n",
    "        if total_pols > no_of_policies:\n",
    "            no_of_policies = total_pols\n",
    "            agent_name = agents\n",
    "        else:\n",
    "            pass\n",
    "        \n",
    "    return(agent_name, no_of_policies)"
   ]
  },
  {
   "cell_type": "code",
   "execution_count": 4,
   "metadata": {},
   "outputs": [
    {
     "data": {
      "text/plain": [
       "('Suro', 1000)"
      ]
     },
     "execution_count": 4,
     "metadata": {},
     "output_type": "execute_result"
    }
   ],
   "source": [
    "top_agent(agents_list)"
   ]
  },
  {
   "cell_type": "markdown",
   "metadata": {},
   "source": [
    "Interactios between Functions"
   ]
  },
  {
   "cell_type": "markdown",
   "metadata": {},
   "source": [
    "Let's Create a Game of 3 Glasses and a Ball"
   ]
  },
  {
   "cell_type": "code",
   "execution_count": 2,
   "metadata": {},
   "outputs": [],
   "source": [
    "# FIRST We create a List \n",
    "\n",
    "a = [ 1,2,3,4,5,6,7,8]"
   ]
  },
  {
   "cell_type": "code",
   "execution_count": 3,
   "metadata": {},
   "outputs": [],
   "source": [
    "# SECOND We create a funtion to shuffle the list"
   ]
  },
  {
   "cell_type": "code",
   "execution_count": 4,
   "metadata": {},
   "outputs": [],
   "source": [
    "# Random Function using Shuffle\n",
    "\n",
    "a = [ 1,2,3,4,5,6,7,8]\n",
    "\n",
    "# Step I\n",
    "\n",
    "from random import shuffle\n",
    "\n",
    "shuffle(a)"
   ]
  },
  {
   "cell_type": "code",
   "execution_count": 5,
   "metadata": {},
   "outputs": [
    {
     "data": {
      "text/plain": [
       "[8, 5, 2, 6, 7, 1, 4, 3]"
      ]
     },
     "execution_count": 5,
     "metadata": {},
     "output_type": "execute_result"
    }
   ],
   "source": [
    "a"
   ]
  },
  {
   "cell_type": "code",
   "execution_count": 6,
   "metadata": {},
   "outputs": [],
   "source": [
    "# Step II"
   ]
  },
  {
   "cell_type": "code",
   "execution_count": 7,
   "metadata": {},
   "outputs": [],
   "source": [
    "import random\n",
    "\n",
    "random.shuffle(a)"
   ]
  },
  {
   "cell_type": "code",
   "execution_count": 8,
   "metadata": {},
   "outputs": [
    {
     "data": {
      "text/plain": [
       "[1, 7, 2, 5, 4, 3, 8, 6]"
      ]
     },
     "execution_count": 8,
     "metadata": {},
     "output_type": "execute_result"
    }
   ],
   "source": [
    "a"
   ]
  },
  {
   "cell_type": "code",
   "execution_count": 9,
   "metadata": {},
   "outputs": [],
   "source": [
    "# Shuffle does not return anything as everything is happening within the list\n",
    "\n",
    "z = shuffle(a) # When variable is added it does not return anything"
   ]
  },
  {
   "cell_type": "code",
   "execution_count": 10,
   "metadata": {},
   "outputs": [
    {
     "data": {
      "text/plain": [
       "NoneType"
      ]
     },
     "execution_count": 10,
     "metadata": {},
     "output_type": "execute_result"
    }
   ],
   "source": [
    "type(z) # It is None Type"
   ]
  },
  {
   "cell_type": "code",
   "execution_count": 11,
   "metadata": {},
   "outputs": [],
   "source": [
    "# So, we need to create a function with shuffle that returns (with a variable)\n",
    "\n",
    "def shuffle_list(list):\n",
    "    shuffle(list)\n",
    "    return list\n",
    "    \n",
    "x = shuffle_list(a)"
   ]
  },
  {
   "cell_type": "code",
   "execution_count": 12,
   "metadata": {},
   "outputs": [
    {
     "data": {
      "text/plain": [
       "[7, 5, 8, 6, 1, 3, 4, 2]"
      ]
     },
     "execution_count": 12,
     "metadata": {},
     "output_type": "execute_result"
    }
   ],
   "source": [
    "x"
   ]
  },
  {
   "cell_type": "code",
   "execution_count": 13,
   "metadata": {},
   "outputs": [],
   "source": [
    "# THIRD we create a funtion to Guess the Ball"
   ]
  },
  {
   "cell_type": "code",
   "execution_count": 14,
   "metadata": {},
   "outputs": [],
   "source": [
    "# Creating a Guessing Game, where in a player has to guess where the O is located\n",
    "\n",
    "# Make a list with 3 spaces (including 1 with a O)\n",
    "guess_list = [' ', 'O', ' ']"
   ]
  },
  {
   "cell_type": "code",
   "execution_count": 15,
   "metadata": {},
   "outputs": [],
   "source": [
    "x = shuffle_list(guess_list)"
   ]
  },
  {
   "cell_type": "code",
   "execution_count": 16,
   "metadata": {},
   "outputs": [
    {
     "data": {
      "text/plain": [
       "['O', ' ', ' ']"
      ]
     },
     "execution_count": 16,
     "metadata": {},
     "output_type": "execute_result"
    }
   ],
   "source": [
    "x"
   ]
  },
  {
   "cell_type": "markdown",
   "metadata": {},
   "source": [
    "Using For Loop"
   ]
  },
  {
   "cell_type": "code",
   "execution_count": 17,
   "metadata": {},
   "outputs": [],
   "source": [
    "# Now the Player will have to take a guess where the O is located\n",
    "\n",
    "def player_guess():\n",
    "    \n",
    "    guess = ' '\n",
    "    \n",
    "    for guesses in range(0,2):\n",
    "        guess = input(\"Guess one of the Three Numbers 0, 1 or 2 : \")\n",
    "        \n",
    "        if guess >= '0' and guess <= '2':\n",
    "            return int(guess)\n",
    "    else:\n",
    "        return guess\n",
    "        "
   ]
  },
  {
   "cell_type": "code",
   "execution_count": 18,
   "metadata": {},
   "outputs": [
    {
     "name": "stdout",
     "output_type": "stream",
     "text": [
      "Guess one of the Three Numbers 0, 1 or 2 : \n",
      "Guess one of the Three Numbers 0, 1 or 2 : \n"
     ]
    },
    {
     "data": {
      "text/plain": [
       "''"
      ]
     },
     "execution_count": 18,
     "metadata": {},
     "output_type": "execute_result"
    }
   ],
   "source": [
    "player_guess()"
   ]
  },
  {
   "cell_type": "markdown",
   "metadata": {},
   "source": [
    "While Loop"
   ]
  },
  {
   "cell_type": "code",
   "execution_count": 19,
   "metadata": {},
   "outputs": [],
   "source": [
    "def player_guess():\n",
    "    \n",
    "    guess = ' '\n",
    "    \n",
    "    while guess not in ['0', '1' ,'2']:\n",
    "        guess = input(\"Guess one of the Three Numbers 0, 1 or 2 : \")\n",
    "        \n",
    "    return int(guess)  "
   ]
  },
  {
   "cell_type": "code",
   "execution_count": 20,
   "metadata": {},
   "outputs": [
    {
     "name": "stdout",
     "output_type": "stream",
     "text": [
      "Guess one of the Three Numbers 0, 1 or 2 : 2\n"
     ]
    },
    {
     "data": {
      "text/plain": [
       "2"
      ]
     },
     "execution_count": 20,
     "metadata": {},
     "output_type": "execute_result"
    }
   ],
   "source": [
    "player_guess()"
   ]
  },
  {
   "cell_type": "code",
   "execution_count": 21,
   "metadata": {},
   "outputs": [],
   "source": [
    "# FOURTH We create a function combining the last two functions."
   ]
  },
  {
   "cell_type": "code",
   "execution_count": 44,
   "metadata": {},
   "outputs": [],
   "source": [
    "# This is where the functions will interact with each other\n",
    "\n",
    "# We create a Function which - \n",
    "                      #   FIRST Shuffles the list from the list we created\n",
    "                      #   SECOND Takes an user guess \n",
    "                      #   THIRD Returns the output \n",
    "                      #   FOURTH Prints the result along with the Shuffeled list\n",
    "                \n",
    "\n",
    "                \n",
    "def guess_output(guess_list, guess):\n",
    "    \n",
    "    if guess_list[guess] == 'O':        # guess_list[guess] means from guess_list what we are guessing must be equal to 'O'\n",
    "        print (\"Bingo ! You hit a jackpot\")\n",
    "    \n",
    "    else:\n",
    "        print (\"Give it another shot\")\n",
    "    print (guess_list)"
   ]
  },
  {
   "cell_type": "code",
   "execution_count": null,
   "metadata": {},
   "outputs": [],
   "source": []
  },
  {
   "cell_type": "markdown",
   "metadata": {},
   "source": [
    "Creating a LOGIC for better Understanding"
   ]
  },
  {
   "cell_type": "code",
   "execution_count": 47,
   "metadata": {},
   "outputs": [
    {
     "name": "stdout",
     "output_type": "stream",
     "text": [
      "Guess one of the Three Numbers 0, 1 or 2 : 2\n",
      "Give it another shot\n",
      "['O', ' ', ' ']\n"
     ]
    }
   ],
   "source": [
    "# FIRST Create a list \n",
    "\n",
    "guess_list = [' ', 'O', ' ']\n",
    "\n",
    "# SECOND Shuffles the list from the list we created                      \n",
    "\n",
    "x = shuffle_list(guess_list)\n",
    "\n",
    "# THIRD Takes an user guess \n",
    "\n",
    "y = player_guess()\n",
    "\n",
    "# FOURTH Returns the output \n",
    "                         \n",
    "guess_output(x,y)\n",
    "   \n",
    "# FIFTH Prints the result along with the Shuffeled list\n",
    "   "
   ]
  },
  {
   "cell_type": "code",
   "execution_count": null,
   "metadata": {},
   "outputs": [],
   "source": []
  },
  {
   "cell_type": "markdown",
   "metadata": {},
   "source": [
    "We may as well do it like this"
   ]
  },
  {
   "cell_type": "code",
   "execution_count": 70,
   "metadata": {},
   "outputs": [
    {
     "name": "stdout",
     "output_type": "stream",
     "text": [
      "Guess one of the Three Numbers 0, 1 or 2 : 1\n",
      "Bingo ! You hit a jackpot\n",
      "[' ', 'O', ' ']\n"
     ]
    }
   ],
   "source": [
    "guess_output (shuffle_list(guess_list), player_guess())"
   ]
  },
  {
   "cell_type": "code",
   "execution_count": null,
   "metadata": {},
   "outputs": [],
   "source": []
  }
 ],
 "metadata": {
  "kernelspec": {
   "display_name": "Python 3",
   "language": "python",
   "name": "python3"
  },
  "language_info": {
   "codemirror_mode": {
    "name": "ipython",
    "version": 3
   },
   "file_extension": ".py",
   "mimetype": "text/x-python",
   "name": "python",
   "nbconvert_exporter": "python",
   "pygments_lexer": "ipython3",
   "version": "3.8.5"
  }
 },
 "nbformat": 4,
 "nbformat_minor": 4
}
