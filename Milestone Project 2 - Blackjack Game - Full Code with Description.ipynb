{
 "cells": [
  {
   "cell_type": "markdown",
   "metadata": {},
   "source": [
    "## Building Blackjack Game"
   ]
  },
  {
   "cell_type": "markdown",
   "metadata": {},
   "source": [
    "##To play a hand of Blackjack the following steps must be followed:\n",
    "1. Create a deck of 52 cards\n",
    "2. Shuffle the deck\n",
    "3. Ask the Player for their bet\n",
    "4. Make sure that the Player's bet does not exceed their available chips\n",
    "5. Deal two cards to the Dealer and two cards to the Player\n",
    "6. Show only one of the Dealer's cards, the other remains hidden\n",
    "7. Show both of the Player's cards\n",
    "8. Ask the Player if they wish to Hit, and take another card\n",
    "9. If the Player's hand doesn't Bust (go over 21), ask if they'd like to Hit again.\n",
    "10. If a Player Stands, play the Dealer's hand. The dealer will always Hit until the Dealer's value meets or exceeds 17\n",
    "11. Determine the winner and adjust the Player's chips accordingly\n",
    "12. Ask the Player if they'd like to play again"
   ]
  },
  {
   "cell_type": "markdown",
   "metadata": {},
   "source": [
    "#### Step I"
   ]
  },
  {
   "cell_type": "code",
   "execution_count": 1,
   "metadata": {},
   "outputs": [],
   "source": [
    "# For Shuffeling the deck\n",
    "\n",
    "from random import shuffle "
   ]
  },
  {
   "cell_type": "code",
   "execution_count": 2,
   "metadata": {},
   "outputs": [],
   "source": [
    "suits = ('Hearts', 'Spades', 'Diamonds', 'Clubs')\n",
    "ranks = ( 'Two', 'Three', 'Four', 'Five', 'Six', 'Seven', 'Eight', 'Nine', 'Ten', 'Jack', 'Queen', 'King', 'Ace')\n",
    "values = {'Two':2 , 'Three':3, 'Four':4, 'Five':5, 'Six':6, 'Seven':7, 'Eight':8, \n",
    "            'Nine':9, 'Ten':10, 'Jack':10, 'Queen':10, 'King':10, 'Ace':11}\n",
    "\n",
    "playing = True"
   ]
  },
  {
   "cell_type": "markdown",
   "metadata": {},
   "source": [
    "#### Create a Card - It is used to show what card is played"
   ]
  },
  {
   "cell_type": "markdown",
   "metadata": {},
   "source": [
    "#### Step 2"
   ]
  },
  {
   "cell_type": "code",
   "execution_count": 3,
   "metadata": {},
   "outputs": [],
   "source": [
    "class Card():\n",
    "    \n",
    "    def __init__(self, suit, rank):\n",
    "        \n",
    "        self.suit = suit\n",
    "        self.rank = rank       \n",
    "        \n",
    "    def __str__(self):        \n",
    "        return self.rank +' of ' + self.suit"
   ]
  },
  {
   "cell_type": "code",
   "execution_count": 4,
   "metadata": {},
   "outputs": [],
   "source": [
    "#check_card = Card('Diamonds','Four')"
   ]
  },
  {
   "cell_type": "code",
   "execution_count": 5,
   "metadata": {},
   "outputs": [],
   "source": [
    "#type(check_card)"
   ]
  },
  {
   "cell_type": "code",
   "execution_count": 6,
   "metadata": {},
   "outputs": [],
   "source": [
    "#check_card.suits"
   ]
  },
  {
   "cell_type": "code",
   "execution_count": 7,
   "metadata": {},
   "outputs": [],
   "source": [
    "#check_card.ranks"
   ]
  },
  {
   "cell_type": "code",
   "execution_count": 8,
   "metadata": {},
   "outputs": [],
   "source": [
    "#check_card.values"
   ]
  },
  {
   "cell_type": "code",
   "execution_count": 9,
   "metadata": {},
   "outputs": [],
   "source": [
    "#print(check_card)"
   ]
  },
  {
   "cell_type": "markdown",
   "metadata": {},
   "source": [
    "#### Creating a Deck wherein all 52 cards are kept\n"
   ]
  },
  {
   "cell_type": "markdown",
   "metadata": {},
   "source": [
    "#### Step 3"
   ]
  },
  {
   "cell_type": "code",
   "execution_count": 4,
   "metadata": {},
   "outputs": [],
   "source": [
    "class Deck():\n",
    "    \n",
    "    def __init__(self):\n",
    "        \n",
    "        self.all_cards = []\n",
    "        \n",
    "        for suit in suits:\n",
    "            for rank in ranks:\n",
    "                new_deck = Card(suit,rank)\n",
    "                \n",
    "                self.all_cards.append(new_deck)\n",
    "                shuffle(self.all_cards)\n",
    "        \n",
    "    def remove_cards(self):        \n",
    "        removed_card = self.all_cards.pop()\n",
    "        return removed_card   "
   ]
  },
  {
   "cell_type": "code",
   "execution_count": 11,
   "metadata": {},
   "outputs": [],
   "source": [
    "# check_deck = Deck()"
   ]
  },
  {
   "cell_type": "code",
   "execution_count": 12,
   "metadata": {},
   "outputs": [],
   "source": [
    "# full_deck = check_deck.all_cards"
   ]
  },
  {
   "cell_type": "code",
   "execution_count": 13,
   "metadata": {},
   "outputs": [],
   "source": [
    "# Here after check_deck. (use Tab). We will find all_cards, remove_cards, add_cards\n",
    "\n",
    "#check_deck.remove_cards"
   ]
  },
  {
   "cell_type": "code",
   "execution_count": 14,
   "metadata": {},
   "outputs": [],
   "source": [
    "# print (len(full_deck))\n",
    "\n",
    "#for cards in full_deck:\n",
    "#    print (cards)"
   ]
  },
  {
   "cell_type": "code",
   "execution_count": 15,
   "metadata": {},
   "outputs": [],
   "source": [
    "# Using Pop option - Taking a card out of the deck\n",
    "\n",
    "\n",
    "#check_deck.all_cards.pop(0)"
   ]
  },
  {
   "cell_type": "markdown",
   "metadata": {},
   "source": [
    "#### This class is defined for the Value of cards at hand , either of the player or of the dealer"
   ]
  },
  {
   "cell_type": "markdown",
   "metadata": {},
   "source": [
    "#### Step 4"
   ]
  },
  {
   "cell_type": "markdown",
   "metadata": {},
   "source": [
    "#### This class is defined for the Value of cards at hand , either of the player or of the dealer"
   ]
  },
  {
   "cell_type": "code",
   "execution_count": 5,
   "metadata": {},
   "outputs": [],
   "source": [
    "class ValueAtHand():\n",
    "    \n",
    "    def __init__(self):\n",
    "        \n",
    "        self.new_card = []\n",
    "        self.value_at_hand = 0\n",
    "        self.aces = 0\n",
    "           \n",
    "    def add_cards(self, new_card):\n",
    "        # cards has two options - suits and ranks\n",
    "        self.new_card.append(new_card)\n",
    "        self.value_at_hand += values[new_card.rank] # Grabbing the Removed Cards rank and getting the value\n",
    "                                                    # Putting the value to self.value_at_hand        \n",
    "        if new_card.rank == 'Ace':\n",
    "            self.aces += 1\n",
    "                  \n",
    "    def aces_value(self):        \n",
    "        while self.value_at_hand > 21 and self.aces:            \n",
    "            self.value_at_hand -= 10\n",
    "            self.aces -= 1                       "
   ]
  },
  {
   "cell_type": "code",
   "execution_count": 17,
   "metadata": {},
   "outputs": [],
   "source": [
    "#check_deck = Deck()\n",
    "#card_value = ValueAtHand()\n",
    "\n",
    "#pop_card = check_deck.remove_cards()\n",
    "\n",
    "#card_value.add_cards(pop_card)\n",
    "#card_value.add_cards(check_deck.remove_cards())\n",
    "\n",
    "\n",
    "#print (card_value.value_at_hand)\n",
    "\n",
    "# Printing the Two Cards at hand\n",
    "#for cards in card_value.card:\n",
    "#    print(cards)"
   ]
  },
  {
   "cell_type": "code",
   "execution_count": 18,
   "metadata": {},
   "outputs": [],
   "source": [
    "#card_value.aces"
   ]
  },
  {
   "cell_type": "markdown",
   "metadata": {},
   "source": [
    "#### In addition to decks of cards and hands, we need to keep track of a Player's starting chips, bets, and ongoing winnings."
   ]
  },
  {
   "cell_type": "markdown",
   "metadata": {},
   "source": [
    "#### Step 5"
   ]
  },
  {
   "cell_type": "code",
   "execution_count": 6,
   "metadata": {},
   "outputs": [],
   "source": [
    "class Chips():\n",
    "    \n",
    "    def __init__(self, total_chips = 100): # Here we have kept it on user input so that it can be changed later\n",
    "        \n",
    "        self.total_chips = 100\n",
    "        self.total_bets = 0\n",
    "        \n",
    "    def win_bets(self):                    # If a hand wins it gets added\n",
    "        self.total_chips += self.total_bets\n",
    "        \n",
    "    def lost_bets(self):                   # If a hand looses it gets deducted\n",
    "        self.total_chips -= self.total_bets"
   ]
  },
  {
   "cell_type": "markdown",
   "metadata": {},
   "source": [
    "## Creating Function Definations"
   ]
  },
  {
   "cell_type": "markdown",
   "metadata": {},
   "source": [
    "#### Function for Taking Bets"
   ]
  },
  {
   "cell_type": "markdown",
   "metadata": {},
   "source": [
    "#### Step 6"
   ]
  },
  {
   "cell_type": "code",
   "execution_count": 7,
   "metadata": {},
   "outputs": [],
   "source": [
    "def take_bets(chips):\n",
    "    \n",
    "    while True:\n",
    "        try:\n",
    "            chips.total_bets = int(input(\"How many Chips You want to Bet: \"))\n",
    "            \n",
    "        except ValueError:            \n",
    "            print (\"Please put in a number between 1 to 100\")\n",
    "            \n",
    "        else:\n",
    "            if chips.total_bets > chips.total_chips:\n",
    "                print (\"Please enter a number within {}\".format(chips.total_chips))\n",
    "                \n",
    "            else:\n",
    "                break"
   ]
  },
  {
   "cell_type": "markdown",
   "metadata": {},
   "source": [
    "#### There are Two things to do - Take Hits (To Play) or Stand (To wait and pass to the next player)\n",
    "\n",
    "##### Now a Function for Taking Hits"
   ]
  },
  {
   "cell_type": "markdown",
   "metadata": {},
   "source": [
    "#### Step 7"
   ]
  },
  {
   "cell_type": "code",
   "execution_count": 8,
   "metadata": {},
   "outputs": [],
   "source": [
    "def take_hits(deck, valueathand):\n",
    "    \n",
    "    valueathand.add_cards(deck.remove_cards())     # A Card is taken from Deck and added to valueathand\n",
    "    valueathand.aces_value()                       # Then it is adjusted in case of Ace"
   ]
  },
  {
   "cell_type": "markdown",
   "metadata": {},
   "source": [
    "##### Now a Function asking User input for Hit or Stand"
   ]
  },
  {
   "cell_type": "markdown",
   "metadata": {},
   "source": [
    "#### Step 8"
   ]
  },
  {
   "cell_type": "code",
   "execution_count": 9,
   "metadata": {},
   "outputs": [],
   "source": [
    "def hit_or_stand(deck, valueathand):\n",
    "    \n",
    "    global playing\n",
    "\n",
    "    while True:\n",
    "        \n",
    "        ask_player = str(input(\"Do You want to Hit or Stand: \"))\n",
    "\n",
    "        if ask_player[0].lower() == 'h':\n",
    "            take_hits(deck, valueathand)           \n",
    "\n",
    "        elif ask_player[0].lower() == 's':\n",
    "            print (\"\\nPlayer Stands! Dealer's Turn\")\n",
    "            playing = False\n",
    "\n",
    "        else: \n",
    "            print (\"Please select either 'Hit' or 'Stand'\")\n",
    "            continue\n",
    "        break        "
   ]
  },
  {
   "cell_type": "markdown",
   "metadata": {},
   "source": [
    "##### Display Card"
   ]
  },
  {
   "cell_type": "markdown",
   "metadata": {},
   "source": [
    "When the game starts, and after each time Player takes a card, the dealer's first card is hidden \n",
    "and all of Player's cards are visible"
   ]
  },
  {
   "cell_type": "markdown",
   "metadata": {},
   "source": [
    "#### Step 9"
   ]
  },
  {
   "cell_type": "code",
   "execution_count": 10,
   "metadata": {},
   "outputs": [],
   "source": [
    "def display_some(player, dealer):\n",
    "    \n",
    "    print (\"\\n Dealer's Hand\")\n",
    "    print(\" <card hidden>\")\n",
    "    print('',dealer.new_card[1]) \n",
    "    print(\"\\nPlayer's Hand:\", *player.new_card, sep='\\n ')\n",
    "    print(\"Player's Hand =\", player.value_at_hand)\n",
    "    \n",
    "def display_all(player,dealer):\n",
    "    \n",
    "    print(\"\\nDealer's Hand:\", *dealer.new_card, sep='\\n ')\n",
    "    print(\"Dealer's Hand =\", dealer.value_at_hand)\n",
    "    print(\"\\nPlayer's Hand:\", *player.new_card, sep='\\n ')\n",
    "    print(\"Player's Hand =\", player.value_at_hand)"
   ]
  },
  {
   "cell_type": "markdown",
   "metadata": {},
   "source": [
    "The asterisk <code>*</code> symbol is used to print every item in a collection, \n",
    "and the <code>sep='\\n '</code> argument prints each item on a separate line.\n"
   ]
  },
  {
   "cell_type": "markdown",
   "metadata": {},
   "source": [
    "##### Handle End of Game Scenarios"
   ]
  },
  {
   "cell_type": "markdown",
   "metadata": {},
   "source": [
    "#### Pass player's hand, dealer's hand and chips as needed."
   ]
  },
  {
   "cell_type": "markdown",
   "metadata": {},
   "source": [
    "##### Step 10"
   ]
  },
  {
   "cell_type": "code",
   "execution_count": 11,
   "metadata": {},
   "outputs": [],
   "source": [
    "def player_busts(player, dealer, chips):    \n",
    "    print (\"\\nPlayer Busts. Dealer Wins!\")\n",
    "    chips.lost_bets()\n",
    "    \n",
    "def player_wins(player, dealer, chips):   \n",
    "    print (\"\\nPlayer wins! Dealer Busts\")\n",
    "    chips.win_bets()\n",
    "    \n",
    "def dealer_busts(player, dealer, chips):    \n",
    "    print (\"\\nDealer Busts. Player Wins!\")\n",
    "    chips.lost_bets()\n",
    "    \n",
    "def dealer_wins(player, dealer, chips):   \n",
    "    print (\"\\nDealer wins! Player Busts!\")\n",
    "    chips.win_bets()\n",
    "    \n",
    "def push(player, dealer):    \n",
    "    print (\"\\nIt's a Push! Tie between Player and Dealer\")"
   ]
  },
  {
   "cell_type": "code",
   "execution_count": null,
   "metadata": {},
   "outputs": [],
   "source": []
  },
  {
   "cell_type": "markdown",
   "metadata": {},
   "source": [
    "## Final Coding for the Game"
   ]
  },
  {
   "cell_type": "code",
   "execution_count": 13,
   "metadata": {},
   "outputs": [
    {
     "name": "stdout",
     "output_type": "stream",
     "text": [
      "\n",
      "Welcome to Black Jack!\n",
      "\n",
      "Try to Get as close to 21 as You can without going over!\n",
      "\n",
      "Dealer hits until she reaches 21. Aces count as 1 or 11.\n",
      "\n",
      "Jack, King & Queen count as 10. All the Best! Happy Playing :D\n",
      "How many Chips You want to Bet: 25\n",
      "\n",
      " Dealer's Hand\n",
      " <card hidden>\n",
      " Four of Diamonds\n",
      "\n",
      "Player's Hand:\n",
      " Six of Diamonds\n",
      " Seven of Diamonds\n",
      "Player's Hand = 13\n",
      "\n",
      "Dealer's Hand:\n",
      " Two of Spades\n",
      " Four of Diamonds\n",
      " Six of Spades\n",
      "Dealer's Hand = 12\n",
      "\n",
      "Player's Hand:\n",
      " Six of Diamonds\n",
      " Seven of Diamonds\n",
      "Player's Hand = 13\n",
      "\n",
      "Dealer's Hand:\n",
      " Two of Spades\n",
      " Four of Diamonds\n",
      " Six of Spades\n",
      " King of Diamonds\n",
      "Dealer's Hand = 22\n",
      "\n",
      "Player's Hand:\n",
      " Six of Diamonds\n",
      " Seven of Diamonds\n",
      "Player's Hand = 13\n",
      "\n",
      "Dealer Busts. Player Wins!\n",
      "Do You want to Play Another Game: n\n",
      "Thank's for playing\n"
     ]
    }
   ],
   "source": [
    "while True:\n",
    "    \n",
    "    print ('\\nWelcome to Black Jack!')\n",
    "    print(\"\\nTry to Get as close to 21 as You can without going over!\")\n",
    "    print(\"\\nDealer hits until she reaches 21. Aces count as 1 or 11.\")\n",
    "    print(\"\\nJack, King & Queen count as 10. All the Best! Happy Playing :D\")\n",
    "\n",
    "    # Call the Deck Class\n",
    "    deck = Deck()\n",
    "\n",
    "    # Call the Player Card values in ValueAtHand Class\n",
    "    players_card = ValueAtHand()\n",
    "\n",
    "    # Add 2 cards to ValueAtHand from the Deck \n",
    "    players_card.add_cards(deck.remove_cards())\n",
    "    players_card.add_cards(deck.remove_cards())\n",
    "\n",
    "\n",
    "    # Call the Dealer Card Values in ValueAtHand Class\n",
    "    dealers_card = ValueAtHand()\n",
    "    dealers_card.add_cards(deck.remove_cards())\n",
    "    dealers_card.add_cards(deck.remove_cards())\n",
    "\n",
    "    players_chips = Chips() # Default value is 100\n",
    "\n",
    "    # Now the player take bets\n",
    "    take_bets(players_chips)\n",
    "\n",
    "    # Show cards\n",
    "    display_some(players_card, dealers_card)\n",
    "    \n",
    "    while playing:     \n",
    "\n",
    "        # Ask Player to Hit (play) or Stand (wait)\n",
    "        hit_or_stand(deck, players_card)\n",
    "        \n",
    "        display_some(players_card, dealers_card)\n",
    "\n",
    "        # If hit\n",
    "        if players_card.value_at_hand > 21:\n",
    "            player_busts(players_card, dealers_card, players_chips)\n",
    "            break\n",
    "\n",
    "        # If Stand\n",
    "    if players_card.value_at_hand <= 21:\n",
    "        \n",
    "            # Scenario 1\n",
    "        while dealers_card.value_at_hand < 21:\n",
    "            take_hits(deck, dealers_card)\n",
    "            display_all(players_card, dealers_card)\n",
    "\n",
    "            # Scenario 2\n",
    "        if dealers_card.value_at_hand > 21:\n",
    "            dealer_busts(players_card, dealers_card, players_chips)\n",
    "\n",
    "        elif dealers_card.value_at_hand > players_card.value_at_hand:\n",
    "            dealer_wins(players_card, dealers_card, players_chips)\n",
    "\n",
    "        elif dealers_card.value_at_hand < players_card.value_at_hand:\n",
    "            player_wins(players_card, dealers_card, players_chips)\n",
    "\n",
    "        elif dealers_card.value_at_hand == players_card.value_at_hand:\n",
    "            push(players_card, dealers_card)   \n",
    "            \n",
    "    new_game = input('Do You want to Play Another Game: ')\n",
    "\n",
    "    if new_game[0].upper() == 'Y':\n",
    "        playing = True\n",
    "        continue\n",
    "\n",
    "    else:\n",
    "        print(\"Thank's for playing\")\n",
    "        break"
   ]
  },
  {
   "cell_type": "code",
   "execution_count": null,
   "metadata": {},
   "outputs": [],
   "source": []
  },
  {
   "cell_type": "code",
   "execution_count": null,
   "metadata": {},
   "outputs": [],
   "source": []
  },
  {
   "cell_type": "code",
   "execution_count": null,
   "metadata": {},
   "outputs": [],
   "source": []
  },
  {
   "cell_type": "code",
   "execution_count": null,
   "metadata": {},
   "outputs": [],
   "source": []
  },
  {
   "cell_type": "code",
   "execution_count": null,
   "metadata": {},
   "outputs": [],
   "source": []
  }
 ],
 "metadata": {
  "kernelspec": {
   "display_name": "Python 3",
   "language": "python",
   "name": "python3"
  },
  "language_info": {
   "codemirror_mode": {
    "name": "ipython",
    "version": 3
   },
   "file_extension": ".py",
   "mimetype": "text/x-python",
   "name": "python",
   "nbconvert_exporter": "python",
   "pygments_lexer": "ipython3",
   "version": "3.8.5"
  }
 },
 "nbformat": 4,
 "nbformat_minor": 4
}
