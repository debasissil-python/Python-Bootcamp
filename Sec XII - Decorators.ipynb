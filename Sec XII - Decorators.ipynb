{
 "cells": [
  {
   "cell_type": "markdown",
   "metadata": {},
   "source": [
    "Passing a Function into other function"
   ]
  },
  {
   "cell_type": "code",
   "execution_count": 14,
   "metadata": {},
   "outputs": [],
   "source": [
    "def greeting():\n",
    "    return 'Hallo!'"
   ]
  },
  {
   "cell_type": "code",
   "execution_count": 15,
   "metadata": {},
   "outputs": [
    {
     "data": {
      "text/plain": [
       "<function __main__.greeting()>"
      ]
     },
     "execution_count": 15,
     "metadata": {},
     "output_type": "execute_result"
    }
   ],
   "source": [
    "greeting"
   ]
  },
  {
   "cell_type": "code",
   "execution_count": 16,
   "metadata": {},
   "outputs": [
    {
     "data": {
      "text/plain": [
       "'Hallo!'"
      ]
     },
     "execution_count": 16,
     "metadata": {},
     "output_type": "execute_result"
    }
   ],
   "source": [
    "greeting()"
   ]
  },
  {
   "cell_type": "code",
   "execution_count": 17,
   "metadata": {},
   "outputs": [],
   "source": [
    "wishing = greeting"
   ]
  },
  {
   "cell_type": "code",
   "execution_count": 18,
   "metadata": {},
   "outputs": [
    {
     "data": {
      "text/plain": [
       "'Hallo!'"
      ]
     },
     "execution_count": 18,
     "metadata": {},
     "output_type": "execute_result"
    }
   ],
   "source": [
    "wishing()"
   ]
  },
  {
   "cell_type": "code",
   "execution_count": 19,
   "metadata": {},
   "outputs": [
    {
     "data": {
      "text/plain": [
       "'Hallo!'"
      ]
     },
     "execution_count": 19,
     "metadata": {},
     "output_type": "execute_result"
    }
   ],
   "source": [
    "greeting()"
   ]
  },
  {
   "cell_type": "code",
   "execution_count": 20,
   "metadata": {},
   "outputs": [],
   "source": [
    "# deleting greeting now\n",
    "del greeting"
   ]
  },
  {
   "cell_type": "code",
   "execution_count": 21,
   "metadata": {},
   "outputs": [
    {
     "ename": "NameError",
     "evalue": "name 'greeting' is not defined",
     "output_type": "error",
     "traceback": [
      "\u001b[1;31m---------------------------------------------------------------------------\u001b[0m",
      "\u001b[1;31mNameError\u001b[0m                                 Traceback (most recent call last)",
      "\u001b[1;32m<ipython-input-21-4ed53eb4af36>\u001b[0m in \u001b[0;36m<module>\u001b[1;34m\u001b[0m\n\u001b[0;32m      1\u001b[0m \u001b[1;31m#checking greeting\u001b[0m\u001b[1;33m\u001b[0m\u001b[1;33m\u001b[0m\u001b[1;33m\u001b[0m\u001b[0m\n\u001b[1;32m----> 2\u001b[1;33m \u001b[0mgreeting\u001b[0m\u001b[1;33m(\u001b[0m\u001b[1;33m)\u001b[0m\u001b[1;33m\u001b[0m\u001b[1;33m\u001b[0m\u001b[0m\n\u001b[0m",
      "\u001b[1;31mNameError\u001b[0m: name 'greeting' is not defined"
     ]
    }
   ],
   "source": [
    "#checking greeting\n",
    "greeting()"
   ]
  },
  {
   "cell_type": "code",
   "execution_count": 22,
   "metadata": {},
   "outputs": [
    {
     "data": {
      "text/plain": [
       "'Hallo!'"
      ]
     },
     "execution_count": 22,
     "metadata": {},
     "output_type": "execute_result"
    }
   ],
   "source": [
    "#checking wishing\n",
    "wishing()"
   ]
  },
  {
   "cell_type": "code",
   "execution_count": null,
   "metadata": {},
   "outputs": [],
   "source": []
  },
  {
   "cell_type": "code",
   "execution_count": null,
   "metadata": {},
   "outputs": [],
   "source": []
  },
  {
   "cell_type": "markdown",
   "metadata": {},
   "source": [
    "### RETURN Function Inside a Function"
   ]
  },
  {
   "cell_type": "code",
   "execution_count": 76,
   "metadata": {},
   "outputs": [],
   "source": [
    "def megastore(name = 'Giant'):\n",
    "    print ('Welcome to Giant, Your Megastore!')\n",
    "    \n",
    "    def product():\n",
    "        return '\\tWe have products ranging from Apricot to Zucchini'\n",
    "    \n",
    "    def locations():\n",
    "        return 'Our presence is in 5 Continents!'\n",
    "    \n",
    "        print (product())                           # When we call prit inside the internal function , it is Not Printed\n",
    "    print ('\\t',locations())                        # When we call print outside the Internal function, It is printed"
   ]
  },
  {
   "cell_type": "code",
   "execution_count": 77,
   "metadata": {},
   "outputs": [
    {
     "data": {
      "text/plain": [
       "<function __main__.megastore(name='Giant')>"
      ]
     },
     "execution_count": 77,
     "metadata": {},
     "output_type": "execute_result"
    }
   ],
   "source": [
    "megastore"
   ]
  },
  {
   "cell_type": "code",
   "execution_count": 78,
   "metadata": {},
   "outputs": [
    {
     "name": "stdout",
     "output_type": "stream",
     "text": [
      "Welcome to Giant, Your Megastore!\n",
      "\t Our presence is in 5 Continents!\n"
     ]
    }
   ],
   "source": [
    "megastore()"
   ]
  },
  {
   "cell_type": "code",
   "execution_count": 80,
   "metadata": {},
   "outputs": [
    {
     "ename": "NameError",
     "evalue": "name 'locations' is not defined",
     "output_type": "error",
     "traceback": [
      "\u001b[1;31m---------------------------------------------------------------------------\u001b[0m",
      "\u001b[1;31mNameError\u001b[0m                                 Traceback (most recent call last)",
      "\u001b[1;32m<ipython-input-80-26d336ee0862>\u001b[0m in \u001b[0;36m<module>\u001b[1;34m\u001b[0m\n\u001b[1;32m----> 1\u001b[1;33m \u001b[0mlocations\u001b[0m\u001b[1;33m(\u001b[0m\u001b[1;33m)\u001b[0m                             \u001b[1;31m# Location is only available within the Main function (Megastore)\u001b[0m\u001b[1;33m\u001b[0m\u001b[1;33m\u001b[0m\u001b[0m\n\u001b[0m",
      "\u001b[1;31mNameError\u001b[0m: name 'locations' is not defined"
     ]
    }
   ],
   "source": [
    "locations()                             # Location is only available within the Main function (Megastore)"
   ]
  },
  {
   "cell_type": "code",
   "execution_count": null,
   "metadata": {},
   "outputs": [],
   "source": []
  },
  {
   "cell_type": "code",
   "execution_count": 81,
   "metadata": {},
   "outputs": [],
   "source": [
    "def megastore(name = 'Giant'):\n",
    "    print ('Welcome to Giant, Your Megastore!')\n",
    "    \n",
    "    def product():\n",
    "        return '\\tWe have products ranging from Apricot to Zucchini'\n",
    "    \n",
    "    def locations():\n",
    "        return 'Our presence is in 5 Continents!'   \n",
    "    \n",
    "    print ('This is Us - The Giant!')"
   ]
  },
  {
   "cell_type": "code",
   "execution_count": 82,
   "metadata": {},
   "outputs": [
    {
     "name": "stdout",
     "output_type": "stream",
     "text": [
      "Welcome to Giant, Your Megastore!\n",
      "This is Us - The Giant!\n"
     ]
    }
   ],
   "source": [
    "megastore()"
   ]
  },
  {
   "cell_type": "code",
   "execution_count": null,
   "metadata": {},
   "outputs": [],
   "source": []
  },
  {
   "cell_type": "code",
   "execution_count": 83,
   "metadata": {},
   "outputs": [],
   "source": [
    "def megastore(name = 'Giant'):\n",
    "    print ('Welcome to Giant, Your Megastore!')\n",
    "    \n",
    "    def product():\n",
    "        return '\\tWe have products ranging from Apricot to Zucchini'\n",
    "    \n",
    "    def locations():\n",
    "        return 'Our presence is in 5 Continents!'\n",
    "    \n",
    "    print (product())                           \n",
    "    print ('\\t',locations())\n",
    "    \n",
    "    print ('This is Us - The Giant!')"
   ]
  },
  {
   "cell_type": "code",
   "execution_count": 84,
   "metadata": {},
   "outputs": [
    {
     "name": "stdout",
     "output_type": "stream",
     "text": [
      "Welcome to Giant, Your Megastore!\n",
      "\tWe have products ranging from Apricot to Zucchini\n",
      "\t Our presence is in 5 Continents!\n",
      "This is Us - The Giant!\n"
     ]
    }
   ],
   "source": [
    "# when print is indented properly in the same line, all are printed\n",
    "\n",
    "megastore()"
   ]
  },
  {
   "cell_type": "code",
   "execution_count": null,
   "metadata": {},
   "outputs": [],
   "source": []
  },
  {
   "cell_type": "code",
   "execution_count": 2,
   "metadata": {},
   "outputs": [],
   "source": [
    "def megastore(name = 'Giant'):\n",
    "    print ('Welcome to Giant, Your Megastore!')\n",
    "    \n",
    "    def product():\n",
    "        return '\\tWe have products ranging from Apricot to Zucchini'\n",
    "    \n",
    "    def locations():\n",
    "        return '\\tOur presence is in 5 Continents!'\n",
    "    \n",
    "    if name == 'Giant':\n",
    "        return product()           # We are using 'return' here\n",
    "        \n",
    "    else:\n",
    "        print (locations())        # We are using 'print' here\n",
    "    \n",
    "    \n",
    "    print ('This is Us - The Giant!')"
   ]
  },
  {
   "cell_type": "code",
   "execution_count": 3,
   "metadata": {},
   "outputs": [
    {
     "name": "stdout",
     "output_type": "stream",
     "text": [
      "Welcome to Giant, Your Megastore!\n"
     ]
    },
    {
     "data": {
      "text/plain": [
       "'\\tWe have products ranging from Apricot to Zucchini'"
      ]
     },
     "execution_count": 3,
     "metadata": {},
     "output_type": "execute_result"
    }
   ],
   "source": [
    "megastore()     # As we used Return the Total is printed including ''\\t'"
   ]
  },
  {
   "cell_type": "code",
   "execution_count": null,
   "metadata": {},
   "outputs": [],
   "source": []
  },
  {
   "cell_type": "code",
   "execution_count": 109,
   "metadata": {},
   "outputs": [],
   "source": [
    "def megastore(name = 'Giant'):\n",
    "    print ('Welcome to Giant, Your Megastore!')\n",
    "    \n",
    "    def product():\n",
    "        return '\\tWe have products ranging from Apricot to Zucchini'\n",
    "    \n",
    "    def locations():\n",
    "        return '\\tOur presence is in 5 Continents!'\n",
    "    \n",
    "    if name == 'Giant_Store':\n",
    "        print (product())\n",
    "        \n",
    "    else:\n",
    "        print (locations())\n",
    "        \n",
    "    print ('This is Us - The Giant!')"
   ]
  },
  {
   "cell_type": "code",
   "execution_count": 110,
   "metadata": {},
   "outputs": [
    {
     "name": "stdout",
     "output_type": "stream",
     "text": [
      "Welcome to Giant, Your Megastore!\n",
      "\tOur presence is in 5 Continents!\n",
      "This is Us - The Giant!\n"
     ]
    }
   ],
   "source": [
    "megastore()"
   ]
  },
  {
   "cell_type": "code",
   "execution_count": null,
   "metadata": {},
   "outputs": [],
   "source": []
  },
  {
   "cell_type": "code",
   "execution_count": 126,
   "metadata": {},
   "outputs": [],
   "source": [
    "def megastore(name = 'Giant'):\n",
    "    print ('Welcome to Giant, Your Megastore!')\n",
    "    \n",
    "    def product():\n",
    "        return '\\tWe have products ranging from Apricot to Zucchini'\n",
    "    \n",
    "    def locations():\n",
    "        return '\\tOur presence is in 5 Continents!'\n",
    "    \n",
    "    print ('This is Us - The Giant!')\n",
    "    \n",
    "    if name == 'Giant':\n",
    "        return product             # We are using 'return' here\n",
    "        \n",
    "    else:\n",
    "        print (locations())        # We are using 'print' here    "
   ]
  },
  {
   "cell_type": "code",
   "execution_count": 127,
   "metadata": {},
   "outputs": [
    {
     "name": "stdout",
     "output_type": "stream",
     "text": [
      "Welcome to Giant, Your Megastore!\n",
      "This is Us - The Giant!\n"
     ]
    }
   ],
   "source": [
    "universal_store = megastore()"
   ]
  },
  {
   "cell_type": "markdown",
   "metadata": {},
   "source": [
    "#### It actually executes the product function"
   ]
  },
  {
   "cell_type": "code",
   "execution_count": 138,
   "metadata": {},
   "outputs": [
    {
     "data": {
      "text/plain": [
       "<function __main__.megastore.<locals>.product()>"
      ]
     },
     "execution_count": 138,
     "metadata": {},
     "output_type": "execute_result"
    }
   ],
   "source": [
    "# Returning a Function within a Function\n",
    "universal_store"
   ]
  },
  {
   "cell_type": "raw",
   "metadata": {},
   "source": []
  },
  {
   "cell_type": "markdown",
   "metadata": {},
   "source": [
    "### Executes a Function inside a Function"
   ]
  },
  {
   "cell_type": "code",
   "execution_count": 139,
   "metadata": {},
   "outputs": [],
   "source": [
    "def my_friend():\n",
    "    return 'Mallika'"
   ]
  },
  {
   "cell_type": "code",
   "execution_count": 150,
   "metadata": {},
   "outputs": [],
   "source": [
    "# Just passing a function here. NOT EXECUTING IT . Not using () for execution\n",
    "def good_friend(passing_a_function):\n",
    "    print ('Executing other Function here')\n",
    "    print (passing_a_function())    # <---------- Here the Other Function will be Executed with ()\n",
    "    "
   ]
  },
  {
   "cell_type": "code",
   "execution_count": 152,
   "metadata": {},
   "outputs": [
    {
     "name": "stdout",
     "output_type": "stream",
     "text": [
      "Executing other Function here\n",
      "Mallika\n"
     ]
    }
   ],
   "source": [
    "good_friend(my_friend)       # <----- Only putting the function name and NOT ()"
   ]
  },
  {
   "cell_type": "code",
   "execution_count": null,
   "metadata": {},
   "outputs": [],
   "source": []
  },
  {
   "cell_type": "code",
   "execution_count": null,
   "metadata": {},
   "outputs": [],
   "source": []
  },
  {
   "cell_type": "markdown",
   "metadata": {},
   "source": [
    "### Using Decorators"
   ]
  },
  {
   "cell_type": "code",
   "execution_count": 4,
   "metadata": {},
   "outputs": [],
   "source": [
    "def megastore(gsl):\n",
    "        \n",
    "    \n",
    "    def product():\n",
    "        print ('Welcome to The Giant, Your Megastore!')\n",
    "        print ('\\n\\tWe have products ranging from Apricot to Zucchini\\n')\n",
    "    \n",
    "        gsl()\n",
    "    \n",
    "        print('\\n\\tOur presence is in 5 Continents!')\n",
    "        print ('\\nThis is Us - The Giant!')\n",
    "        \n",
    "    return product()\n",
    "    "
   ]
  },
  {
   "cell_type": "code",
   "execution_count": 5,
   "metadata": {},
   "outputs": [
    {
     "data": {
      "text/plain": [
       "<function __main__.megastore(gsl)>"
      ]
     },
     "execution_count": 5,
     "metadata": {},
     "output_type": "execute_result"
    }
   ],
   "source": [
    "megastore"
   ]
  },
  {
   "cell_type": "code",
   "execution_count": 6,
   "metadata": {},
   "outputs": [],
   "source": [
    "def giant_stores_ltd():\n",
    "    print ('GIANT STORES LTD')"
   ]
  },
  {
   "cell_type": "code",
   "execution_count": null,
   "metadata": {},
   "outputs": [],
   "source": []
  },
  {
   "cell_type": "code",
   "execution_count": 7,
   "metadata": {},
   "outputs": [
    {
     "name": "stdout",
     "output_type": "stream",
     "text": [
      "Welcome to The Giant, Your Megastore!\n",
      "\n",
      "\tWe have products ranging from Apricot to Zucchini\n",
      "\n",
      "GIANT STORES LTD\n",
      "\n",
      "\tOur presence is in 5 Continents!\n",
      "\n",
      "This is Us - The Giant!\n"
     ]
    }
   ],
   "source": [
    "# Using 'giant_stores_ltd' inside megastore function is a way to do\n",
    "\n",
    "megastore(giant_stores_ltd)"
   ]
  },
  {
   "cell_type": "code",
   "execution_count": null,
   "metadata": {},
   "outputs": [],
   "source": []
  },
  {
   "cell_type": "code",
   "execution_count": 243,
   "metadata": {},
   "outputs": [
    {
     "name": "stdout",
     "output_type": "stream",
     "text": [
      "Welcome to The Giant, Your Megastore!\n",
      "\n",
      "\tWe have products ranging from Apricot to Zucchini\n",
      "\n",
      "GIANT STORES LTD\n",
      "\n",
      "\tOur presence is in 5 Continents!\n",
      "\n",
      "This is Us - The Giant!\n"
     ]
    }
   ],
   "source": [
    "# Using @megastore at the top of another function simply wraps that function and prints both  \n",
    "\n",
    "@megastore\n",
    "def giant_stores_ltd():\n",
    "    print ('GIANT STORES LTD')"
   ]
  },
  {
   "cell_type": "code",
   "execution_count": null,
   "metadata": {},
   "outputs": [],
   "source": []
  },
  {
   "cell_type": "code",
   "execution_count": null,
   "metadata": {},
   "outputs": [],
   "source": []
  },
  {
   "cell_type": "code",
   "execution_count": 245,
   "metadata": {},
   "outputs": [],
   "source": [
    "# Commenting @megastore at the top of another function simply omits that function and prints only the main function  \n",
    "\n",
    "\n",
    "#@megastore\n",
    "\n",
    "def giant_stores_ltd():\n",
    "    print ('GIANT STORES LTD')"
   ]
  },
  {
   "cell_type": "code",
   "execution_count": 246,
   "metadata": {},
   "outputs": [
    {
     "name": "stdout",
     "output_type": "stream",
     "text": [
      "GIANT STORES LTD\n"
     ]
    }
   ],
   "source": [
    "giant_stores_ltd()"
   ]
  },
  {
   "cell_type": "code",
   "execution_count": null,
   "metadata": {},
   "outputs": [],
   "source": []
  }
 ],
 "metadata": {
  "kernelspec": {
   "display_name": "Python 3",
   "language": "python",
   "name": "python3"
  },
  "language_info": {
   "codemirror_mode": {
    "name": "ipython",
    "version": 3
   },
   "file_extension": ".py",
   "mimetype": "text/x-python",
   "name": "python",
   "nbconvert_exporter": "python",
   "pygments_lexer": "ipython3",
   "version": "3.8.5"
  }
 },
 "nbformat": 4,
 "nbformat_minor": 4
}
