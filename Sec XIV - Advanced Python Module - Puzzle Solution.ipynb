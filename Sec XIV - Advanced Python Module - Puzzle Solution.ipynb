{
 "cells": [
  {
   "cell_type": "markdown",
   "metadata": {},
   "source": [
    "### Puzzle Solution"
   ]
  },
  {
   "cell_type": "markdown",
   "metadata": {},
   "source": [
    "Good work on unzipping the file!\n",
    "\n",
    "#### File path - 18082020/unzipped_for_instructions/extracted_content\n",
    "\n",
    "You should now see 5 folders, each with a lot of random .txt files.\n",
    "\n",
    "Within one of these text files is a telephone number formated ###-###-#### \n",
    "\n",
    "Use the Python os module and regular expressions to iterate through each file, open it, and search for a telephone number.\n",
    "\n",
    "Good luck!\n"
   ]
  },
  {
   "cell_type": "markdown",
   "metadata": {},
   "source": [
    "## UNZIPPING THE FILE"
   ]
  },
  {
   "cell_type": "code",
   "execution_count": 1,
   "metadata": {},
   "outputs": [],
   "source": [
    "import shutil"
   ]
  },
  {
   "cell_type": "code",
   "execution_count": 2,
   "metadata": {},
   "outputs": [],
   "source": [
    "shutil.unpack_archive('unzip_me_for_instructions.zip','','zip')\n",
    "\n",
    "# By default it will unzip to 'extracted_content'"
   ]
  },
  {
   "cell_type": "markdown",
   "metadata": {},
   "source": [
    "### CHECKING THE UNZIPPED FILE - BY DEFAULT IT WILL UNZIP TO 'EXTRACTED_CONTENT'"
   ]
  },
  {
   "cell_type": "code",
   "execution_count": 3,
   "metadata": {},
   "outputs": [],
   "source": [
    "import os"
   ]
  },
  {
   "cell_type": "code",
   "execution_count": 4,
   "metadata": {},
   "outputs": [
    {
     "data": {
      "text/plain": [
       "'C:\\\\Users\\\\LENOVO\\\\18082020'"
      ]
     },
     "execution_count": 4,
     "metadata": {},
     "output_type": "execute_result"
    }
   ],
   "source": [
    "os.getcwd()"
   ]
  },
  {
   "cell_type": "code",
   "execution_count": 5,
   "metadata": {},
   "outputs": [
    {
     "data": {
      "text/plain": [
       "['.ipynb_checkpoints',\n",
       " '00-Collections-Module.ipynb',\n",
       " '00-Milestone-2-Warmup-Project.ipynb',\n",
       " '00-Warm-Up-Project-Exercises.ipynb',\n",
       " '01-Iterators and Generators.ipynb',\n",
       " '01-Milestone Project 2 - Assignment.ipynb',\n",
       " '02-Decorators Homework.ipynb',\n",
       " '02-Errors and Exceptions Homework.ipynb',\n",
       " '02-Functions.ipynb',\n",
       " '02-Iterators and Generators Homework.ipynb',\n",
       " '02-Milestone Project 1 - Walkthrough Steps Workbook.ipynb',\n",
       " '02-Milestone Project 2 - Walkthrough Steps Workbook.ipynb',\n",
       " '02-Object Oriented Programming Homework.ipynb',\n",
       " '03-Function Practice Exercises.ipynb',\n",
       " '03-Milestone Project 1 - Complete Walkthrough Solution.ipynb',\n",
       " '03-Milestone Project 2 - Complete Walkthrough Solution.ipynb',\n",
       " '04-OOP Challenge.ipynb',\n",
       " '05-Overview-of-Regular-Expressions.ipynb',\n",
       " '06-Nested Statements and Scope.ipynb',\n",
       " '07-Statements Assessment Test.ipynb',\n",
       " '08-Functions and Methods Homework.ipynb',\n",
       " '09-Guessing Game Challenge.ipynb',\n",
       " '09-Objects and Data Structures Assessment Test.ipynb',\n",
       " 'chumu.py',\n",
       " 'Codacademy Practice different procedures.ipynb',\n",
       " 'Debasis Sil - Copy',\n",
       " 'extracted_content',\n",
       " 'firstnotebook.ipynb',\n",
       " 'kacha.txt',\n",
       " 'kachagolla.txt',\n",
       " 'Milestone Project 2 - Blackjack Game - Full Code with Description.ipynb',\n",
       " 'Milestone Project 2 - Blackjack Game - Full Code.ipynb',\n",
       " 'Newfile.txt',\n",
       " 'NewFile.zip',\n",
       " 'NewFileTwo.txt',\n",
       " 'NewZip.zip',\n",
       " 'Practice Split, Slice, Enumerate, etc. etc..ipynb',\n",
       " 'Practice_Folder',\n",
       " 'Sec V  Python Statements.ipynb',\n",
       " 'Sec V  Video 36  Pass, Continue and Break.ipynb',\n",
       " 'Sec V Video 37 Useful Operators.ipynb',\n",
       " 'Sec V Video 38 List Comprehensions.ipynb',\n",
       " 'Sec VI Video 41 onwards Methods and Py Documentations.ipynb',\n",
       " 'Sec VII Milestone Project 1 - Tic Tac Toe (New Version).ipynb',\n",
       " 'Sec VII Milestone Project 1 - Tic Tac Toe.ipynb',\n",
       " 'Sec VII Milestone Project 1.ipynb',\n",
       " 'Sec VIII - Object Oriented Programming - Attributes and Class.ipynb',\n",
       " 'Sec XI - Milestone Project 2 - War Game-Copy1.ipynb',\n",
       " 'Sec XI - Milestone Project 2 - War Game.ipynb',\n",
       " 'Sec XII - Decorators.ipynb',\n",
       " 'Sec XIII - Python Generators.ipynb',\n",
       " 'Sec XIV - Advanced Python Module - Collections Module.ipynb',\n",
       " 'Sec XIV - Advanced Python Module - Datetime Module.ipynb',\n",
       " 'Sec XIV - Advanced Python Module - Math and Random Module.ipynb',\n",
       " 'Sec XIV - Advanced Python Module - OS Module.ipynb',\n",
       " 'Sec XIV - Advanced Python Module - Puzzle Solution.ipynb',\n",
       " 'Sec XIV - Advanced Python Module - Puzzle.ipynb',\n",
       " 'Sec XIV - Advanced Python Module - Py Regular Expressions.ipynb',\n",
       " 'Sec XIV - Advanced python Module - Python Debugger.ipynb',\n",
       " 'Sec XIV - Advanced Python Module - Timing Your Python Code.ipynb',\n",
       " 'Sec XIV - Advanced Python Module - Zipping and Unzipping Files.ipynb',\n",
       " 'Secondnotebook.ipynb',\n",
       " 'textfiles.txt',\n",
       " 'Thirdnotebook.ipynb',\n",
       " 'Tic Tac Toe - Own Version.ipynb',\n",
       " 'Untitled.ipynb',\n",
       " 'Untitled1.ipynb',\n",
       " 'unzipped_for_instructions',\n",
       " 'unzip_me_for_instructions.zip',\n",
       " 'Useful_Info_Notebook.ipynb',\n",
       " 'Video 49 args and  kwargs.ipynb',\n",
       " 'Video 55 Lambda, Map and Filter.ipynb',\n",
       " 'Video 56 Nested Statements and Scope.ipynb',\n",
       " 'Zip_Extracts']"
      ]
     },
     "execution_count": 5,
     "metadata": {},
     "output_type": "execute_result"
    }
   ],
   "source": [
    "os.listdir('C:\\\\Users\\\\LENOVO\\\\18082020')"
   ]
  },
  {
   "cell_type": "markdown",
   "metadata": {},
   "source": [
    "### READING THE FILE THROUGH PYTHON"
   ]
  },
  {
   "cell_type": "code",
   "execution_count": 6,
   "metadata": {},
   "outputs": [
    {
     "name": "stdout",
     "output_type": "stream",
     "text": [
      "Good work on unzipping the file!\n",
      "You should now see 5 folders, each with a lot of random .txt files.\n",
      "Within one of these text files is a telephone number formated ###-###-#### \n",
      "Use the Python os module and regular expressions to iterate through each file, open it, and search for a telephone number.\n",
      "Good luck!\n"
     ]
    }
   ],
   "source": [
    "# Opening The Instructions.txt file in Python - OPTION 1\n",
    "\n",
    "f = open('C:\\\\Users\\\\LENOVO\\\\18082020\\\\extracted_content/Instructions.txt','r')\n",
    "print (f.read())"
   ]
  },
  {
   "cell_type": "code",
   "execution_count": 7,
   "metadata": {},
   "outputs": [
    {
     "name": "stdout",
     "output_type": "stream",
     "text": [
      "Good work on unzipping the file!\n",
      "You should now see 5 folders, each with a lot of random .txt files.\n",
      "Within one of these text files is a telephone number formated ###-###-#### \n",
      "Use the Python os module and regular expressions to iterate through each file, open it, and search for a telephone number.\n",
      "Good luck!\n"
     ]
    }
   ],
   "source": [
    "# Opening The Instructions.txt file in Python - OPTION 2\n",
    "\n",
    "with open ('C:\\\\Users\\\\LENOVO\\\\18082020\\\\extracted_content/Instructions.txt') as f:\n",
    "    print (f.read())    "
   ]
  },
  {
   "cell_type": "markdown",
   "metadata": {},
   "source": [
    "#### USE REGEX(RE) TO FIND THE PHONE NUMBER"
   ]
  },
  {
   "cell_type": "code",
   "execution_count": 24,
   "metadata": {},
   "outputs": [],
   "source": [
    "import re"
   ]
  },
  {
   "cell_type": "code",
   "execution_count": 25,
   "metadata": {},
   "outputs": [],
   "source": [
    "pattern = r'\\d{3}-\\d{3}-\\d{4}'"
   ]
  },
  {
   "cell_type": "code",
   "execution_count": 26,
   "metadata": {},
   "outputs": [],
   "source": [
    "path = 'C:\\\\Users\\\\LENOVO\\\\18082020\\\\extracted_content'"
   ]
  },
  {
   "cell_type": "code",
   "execution_count": 27,
   "metadata": {},
   "outputs": [],
   "source": [
    "# Testing ...\n",
    "test_str = 'My phone number is 983-026-8966'"
   ]
  },
  {
   "cell_type": "code",
   "execution_count": 28,
   "metadata": {},
   "outputs": [
    {
     "data": {
      "text/plain": [
       "['983-026-8966']"
      ]
     },
     "execution_count": 28,
     "metadata": {},
     "output_type": "execute_result"
    }
   ],
   "source": [
    "re.findall(pattern,test_str)"
   ]
  },
  {
   "cell_type": "markdown",
   "metadata": {},
   "source": [
    "#### Create a function to go through all the files individually in the folder so that it can be read as a str"
   ]
  },
  {
   "cell_type": "code",
   "execution_count": 40,
   "metadata": {},
   "outputs": [],
   "source": [
    "# Open the file with read mode to look for the Pattern\n",
    "# If the pattern is found return the Pattern else Pass\n",
    "\n",
    "def file_search(file,pattern= r'\\d{3}-\\d{3}-\\d{4}'):\n",
    "    \n",
    "    with open(file) as f:\n",
    "        text = f.read()\n",
    "        \n",
    "    if re.findall(pattern, text):\n",
    "        return re.findall(pattern, text)\n",
    "    else:\n",
    "        pass\n",
    "    "
   ]
  },
  {
   "cell_type": "markdown",
   "metadata": {},
   "source": [
    "#### Use os.walk to go through each folders, sub_folders and files\n",
    "#### Append the result (output) - an empty list\n",
    "#### full_path has to be given so that all folders, sub_folders and files are covered"
   ]
  },
  {
   "cell_type": "code",
   "execution_count": 60,
   "metadata": {},
   "outputs": [],
   "source": [
    "result = []"
   ]
  },
  {
   "cell_type": "code",
   "execution_count": 61,
   "metadata": {},
   "outputs": [],
   "source": [
    "# os.walk()\n",
    "\n",
    "for folders, sub_folders, files in os.walk(path):\n",
    "    \n",
    "    for f in files:\n",
    "        full_path = folders+'\\\\'+f\n",
    "        \n",
    "        result.append(file_search(full_path))"
   ]
  },
  {
   "cell_type": "code",
   "execution_count": 62,
   "metadata": {},
   "outputs": [
    {
     "data": {
      "text/plain": [
       "[None,\n",
       " None,\n",
       " None,\n",
       " None,\n",
       " None,\n",
       " None,\n",
       " None,\n",
       " None,\n",
       " None,\n",
       " None,\n",
       " None,\n",
       " None,\n",
       " None,\n",
       " None,\n",
       " None,\n",
       " None,\n",
       " None,\n",
       " None,\n",
       " None,\n",
       " None,\n",
       " None,\n",
       " None,\n",
       " None,\n",
       " None,\n",
       " None,\n",
       " None,\n",
       " None,\n",
       " ['719-266-2837'],\n",
       " None,\n",
       " None,\n",
       " None,\n",
       " None,\n",
       " None,\n",
       " None,\n",
       " None,\n",
       " None,\n",
       " None,\n",
       " None,\n",
       " None,\n",
       " None,\n",
       " None,\n",
       " None,\n",
       " None,\n",
       " None,\n",
       " None,\n",
       " None,\n",
       " None,\n",
       " None,\n",
       " None,\n",
       " None,\n",
       " None,\n",
       " None,\n",
       " None,\n",
       " None,\n",
       " None,\n",
       " None,\n",
       " None,\n",
       " None,\n",
       " None,\n",
       " None,\n",
       " None,\n",
       " None,\n",
       " None,\n",
       " None,\n",
       " None,\n",
       " None,\n",
       " None,\n",
       " None,\n",
       " None,\n",
       " None,\n",
       " None,\n",
       " None,\n",
       " None,\n",
       " None,\n",
       " None,\n",
       " None,\n",
       " None,\n",
       " None,\n",
       " None,\n",
       " None,\n",
       " None,\n",
       " None,\n",
       " None,\n",
       " None,\n",
       " None,\n",
       " None,\n",
       " None,\n",
       " None,\n",
       " None,\n",
       " None,\n",
       " None,\n",
       " None,\n",
       " None,\n",
       " None,\n",
       " None,\n",
       " None,\n",
       " None,\n",
       " None,\n",
       " None,\n",
       " None,\n",
       " None,\n",
       " None,\n",
       " None,\n",
       " None,\n",
       " None,\n",
       " None,\n",
       " None,\n",
       " None,\n",
       " None,\n",
       " None,\n",
       " None,\n",
       " None,\n",
       " None,\n",
       " None,\n",
       " None,\n",
       " None,\n",
       " None,\n",
       " None,\n",
       " None,\n",
       " None,\n",
       " None]"
      ]
     },
     "execution_count": 62,
     "metadata": {},
     "output_type": "execute_result"
    }
   ],
   "source": [
    "result"
   ]
  },
  {
   "cell_type": "code",
   "execution_count": 63,
   "metadata": {},
   "outputs": [
    {
     "name": "stdout",
     "output_type": "stream",
     "text": [
      "['719-266-2837']\n"
     ]
    }
   ],
   "source": [
    "for r in result:\n",
    "    if r != None:\n",
    "        print (r)"
   ]
  },
  {
   "cell_type": "code",
   "execution_count": 57,
   "metadata": {},
   "outputs": [],
   "source": []
  },
  {
   "cell_type": "code",
   "execution_count": null,
   "metadata": {},
   "outputs": [],
   "source": []
  }
 ],
 "metadata": {
  "kernelspec": {
   "display_name": "Python 3",
   "language": "python",
   "name": "python3"
  },
  "language_info": {
   "codemirror_mode": {
    "name": "ipython",
    "version": 3
   },
   "file_extension": ".py",
   "mimetype": "text/x-python",
   "name": "python",
   "nbconvert_exporter": "python",
   "pygments_lexer": "ipython3",
   "version": "3.8.5"
  }
 },
 "nbformat": 4,
 "nbformat_minor": 4
}
