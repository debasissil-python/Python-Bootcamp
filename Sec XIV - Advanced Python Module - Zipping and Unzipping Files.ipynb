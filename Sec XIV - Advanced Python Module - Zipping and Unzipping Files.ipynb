{
 "cells": [
  {
   "cell_type": "markdown",
   "metadata": {},
   "source": [
    "#### Zipping and Unzipping Files"
   ]
  },
  {
   "cell_type": "code",
   "execution_count": 1,
   "metadata": {},
   "outputs": [],
   "source": [
    "import os"
   ]
  },
  {
   "cell_type": "code",
   "execution_count": 2,
   "metadata": {},
   "outputs": [
    {
     "data": {
      "text/plain": [
       "'C:\\\\Users\\\\LENOVO\\\\18082020'"
      ]
     },
     "execution_count": 2,
     "metadata": {},
     "output_type": "execute_result"
    }
   ],
   "source": [
    "os.getcwd()"
   ]
  },
  {
   "cell_type": "code",
   "execution_count": 3,
   "metadata": {},
   "outputs": [],
   "source": [
    "import shutil"
   ]
  },
  {
   "cell_type": "code",
   "execution_count": 4,
   "metadata": {},
   "outputs": [],
   "source": [
    "# This will move the required directory to a new folder in current directory. In thi case,'cwd' is the one\n",
    "\n",
    "# shutil.move('C:\\\\Users\\\\LENOVO\\\\Desktop\\\\Debasis Sil - Copy','cwd')"
   ]
  },
  {
   "cell_type": "code",
   "execution_count": 27,
   "metadata": {},
   "outputs": [
    {
     "data": {
      "text/plain": [
       "'C:\\\\Users\\\\LENOVO\\\\Desktop\\\\Debasis Sil - Copy'"
      ]
     },
     "execution_count": 27,
     "metadata": {},
     "output_type": "execute_result"
    }
   ],
   "source": [
    "shutil.move('C:\\\\Users\\\\LENOVO\\\\18082020\\\\cwd','C:\\\\Users\\\\LENOVO\\\\Desktop\\\\Debasis Sil - Copy')"
   ]
  },
  {
   "cell_type": "code",
   "execution_count": 28,
   "metadata": {},
   "outputs": [
    {
     "data": {
      "text/plain": [
       "'C:\\\\Users\\\\LENOVO\\\\18082020\\\\Debasis Sil - Copy'"
      ]
     },
     "execution_count": 28,
     "metadata": {},
     "output_type": "execute_result"
    }
   ],
   "source": [
    "shutil.move('C:\\\\Users\\\\LENOVO\\\\Desktop\\\\Debasis Sil - Copy', 'C:\\\\Users\\\\LENOVO\\\\18082020')"
   ]
  },
  {
   "cell_type": "code",
   "execution_count": 5,
   "metadata": {},
   "outputs": [
    {
     "data": {
      "text/plain": [
       "['.ipynb_checkpoints',\n",
       " '00-Collections-Module.ipynb',\n",
       " '00-Milestone-2-Warmup-Project.ipynb',\n",
       " '00-Warm-Up-Project-Exercises.ipynb',\n",
       " '01-Iterators and Generators.ipynb',\n",
       " '01-Milestone Project 2 - Assignment.ipynb',\n",
       " '02-Decorators Homework.ipynb',\n",
       " '02-Errors and Exceptions Homework.ipynb',\n",
       " '02-Functions.ipynb',\n",
       " '02-Iterators and Generators Homework.ipynb',\n",
       " '02-Milestone Project 1 - Walkthrough Steps Workbook.ipynb',\n",
       " '02-Milestone Project 2 - Walkthrough Steps Workbook.ipynb',\n",
       " '02-Object Oriented Programming Homework.ipynb',\n",
       " '03-Function Practice Exercises.ipynb',\n",
       " '03-Milestone Project 1 - Complete Walkthrough Solution.ipynb',\n",
       " '03-Milestone Project 2 - Complete Walkthrough Solution.ipynb',\n",
       " '04-OOP Challenge.ipynb',\n",
       " '05-Overview-of-Regular-Expressions.ipynb',\n",
       " '06-Nested Statements and Scope.ipynb',\n",
       " '07-Statements Assessment Test.ipynb',\n",
       " '08-Functions and Methods Homework.ipynb',\n",
       " '09-Guessing Game Challenge.ipynb',\n",
       " '09-Objects and Data Structures Assessment Test.ipynb',\n",
       " 'chumu.py',\n",
       " 'Codacademy Practice different procedures.ipynb',\n",
       " 'Debasis Sil - Copy',\n",
       " 'firstnotebook.ipynb',\n",
       " 'kacha.txt',\n",
       " 'kachagolla.txt',\n",
       " 'Milestone Project 2 - Blackjack Game - Full Code with Description.ipynb',\n",
       " 'Milestone Project 2 - Blackjack Game - Full Code.ipynb',\n",
       " 'Newfile.txt',\n",
       " 'NewFile.zip',\n",
       " 'NewFileTwo.txt',\n",
       " 'NewZip.zip',\n",
       " 'Practice Split, Slice, Enumerate, etc. etc..ipynb',\n",
       " 'Practice_Folder',\n",
       " 'Sec V  Python Statements.ipynb',\n",
       " 'Sec V  Video 36  Pass, Continue and Break.ipynb',\n",
       " 'Sec V Video 37 Useful Operators.ipynb',\n",
       " 'Sec V Video 38 List Comprehensions.ipynb',\n",
       " 'Sec VI Video 41 onwards Methods and Py Documentations.ipynb',\n",
       " 'Sec VII Milestone Project 1 - Tic Tac Toe (New Version).ipynb',\n",
       " 'Sec VII Milestone Project 1 - Tic Tac Toe.ipynb',\n",
       " 'Sec VII Milestone Project 1.ipynb',\n",
       " 'Sec VIII - Object Oriented Programming - Attributes and Class.ipynb',\n",
       " 'Sec XI - Milestone Project 2 - War Game-Copy1.ipynb',\n",
       " 'Sec XI - Milestone Project 2 - War Game.ipynb',\n",
       " 'Sec XII - Decorators.ipynb',\n",
       " 'Sec XIII - Python Generators.ipynb',\n",
       " 'Sec XIV - Advanced Python Module - Collections Module.ipynb',\n",
       " 'Sec XIV - Advanced Python Module - Datetime Module.ipynb',\n",
       " 'Sec XIV - Advanced Python Module - Math and Random Module.ipynb',\n",
       " 'Sec XIV - Advanced Python Module - OS Module.ipynb',\n",
       " 'Sec XIV - Advanced Python Module - Py Regular Expressions.ipynb',\n",
       " 'Sec XIV - Advanced python Module - Python Debugger.ipynb',\n",
       " 'Sec XIV - Advanced Python Module - Timing Your Python Code.ipynb',\n",
       " 'Sec XIV - Advanced Python Module - Zipping and Unzipping Files.ipynb',\n",
       " 'Secondnotebook.ipynb',\n",
       " 'textfiles.txt',\n",
       " 'Thirdnotebook.ipynb',\n",
       " 'Tic Tac Toe - Own Version.ipynb',\n",
       " 'Untitled.ipynb',\n",
       " 'Untitled1.ipynb',\n",
       " 'Useful_Info_Notebook.ipynb',\n",
       " 'Video 49 args and  kwargs.ipynb',\n",
       " 'Video 55 Lambda, Map and Filter.ipynb',\n",
       " 'Video 56 Nested Statements and Scope.ipynb',\n",
       " 'Zip_Extracts']"
      ]
     },
     "execution_count": 5,
     "metadata": {},
     "output_type": "execute_result"
    }
   ],
   "source": [
    "os.listdir()"
   ]
  },
  {
   "cell_type": "markdown",
   "metadata": {},
   "source": [
    "#### Now we need to zip the file we got from Desktop"
   ]
  },
  {
   "cell_type": "code",
   "execution_count": 6,
   "metadata": {},
   "outputs": [
    {
     "data": {
      "text/plain": [
       "'C:\\\\Users\\\\LENOVO\\\\18082020'"
      ]
     },
     "execution_count": 6,
     "metadata": {},
     "output_type": "execute_result"
    }
   ],
   "source": [
    "os.getcwd()"
   ]
  },
  {
   "cell_type": "code",
   "execution_count": 7,
   "metadata": {},
   "outputs": [],
   "source": [
    "dir_to_zip = 'C:\\\\Users\\\\LENOVO\\\\18082020\\\\Debasis Sil - Copy'"
   ]
  },
  {
   "cell_type": "code",
   "execution_count": 8,
   "metadata": {},
   "outputs": [],
   "source": [
    "file_output = 'Debasis Sil All Canada'"
   ]
  },
  {
   "cell_type": "code",
   "execution_count": 9,
   "metadata": {},
   "outputs": [
    {
     "data": {
      "text/plain": [
       "'C:\\\\Users\\\\LENOVO\\\\18082020\\\\Debasis Sil All Canada.zip'"
      ]
     },
     "execution_count": 9,
     "metadata": {},
     "output_type": "execute_result"
    }
   ],
   "source": [
    "# shutil.make_archive(base_name,'zip',root_path)\n",
    "\n",
    "shutil.make_archive(file_output,'zip',dir_to_zip)"
   ]
  },
  {
   "cell_type": "markdown",
   "metadata": {},
   "source": [
    "#### Move the Zip file Back to Desktop"
   ]
  },
  {
   "cell_type": "code",
   "execution_count": 13,
   "metadata": {},
   "outputs": [
    {
     "data": {
      "text/plain": [
       "'C:\\\\Users\\\\LENOVO\\\\Desktop\\\\Debasis Sil All Canada.zip'"
      ]
     },
     "execution_count": 13,
     "metadata": {},
     "output_type": "execute_result"
    }
   ],
   "source": [
    "shutil.move('C:\\\\Users\\\\LENOVO\\\\18082020\\\\Debasis Sil All Canada.zip'\n",
    ",'C:\\\\Users\\\\LENOVO\\\\Desktop')"
   ]
  },
  {
   "cell_type": "markdown",
   "metadata": {},
   "source": [
    "#### Unpack the zip folder"
   ]
  },
  {
   "cell_type": "code",
   "execution_count": 15,
   "metadata": {},
   "outputs": [],
   "source": [
    "shutil.unpack_archive('C:\\\\Users\\\\LENOVO\\\\Desktop\\\\Debasis Sil All Canada.zip','C:\\\\Users\\\\LENOVO\\\\Desktop\\\\Debasis Sil All Canada','zip')"
   ]
  },
  {
   "cell_type": "markdown",
   "metadata": {},
   "source": [
    "#### How to Create, Open, Write and Close a File"
   ]
  },
  {
   "cell_type": "code",
   "execution_count": 68,
   "metadata": {},
   "outputs": [],
   "source": [
    "file = open('NewFile.txt','w+')\n",
    "file.write ('Hi , This is a New FIle I Created. I created it on 10th Jan 2021')\n",
    "file.close()"
   ]
  },
  {
   "cell_type": "code",
   "execution_count": 69,
   "metadata": {},
   "outputs": [],
   "source": [
    "file = open('NewFileTwo.txt','w+')\n",
    "file.write(\"Another File I created using Python on 10th Jan 2021\")\n",
    "file.close()"
   ]
  },
  {
   "cell_type": "markdown",
   "metadata": {},
   "source": [
    "#### How to zip a Single File/s"
   ]
  },
  {
   "cell_type": "code",
   "execution_count": 70,
   "metadata": {},
   "outputs": [],
   "source": [
    "import zipfile"
   ]
  },
  {
   "cell_type": "code",
   "execution_count": 71,
   "metadata": {},
   "outputs": [],
   "source": [
    "NewZip = zipfile.ZipFile('NewZip.zip','w')"
   ]
  },
  {
   "cell_type": "code",
   "execution_count": 72,
   "metadata": {},
   "outputs": [],
   "source": [
    "NewZip.write('NewFile.txt', compress_type = zipfile.ZIP_DEFLATED)"
   ]
  },
  {
   "cell_type": "code",
   "execution_count": 73,
   "metadata": {},
   "outputs": [],
   "source": [
    "NewZip.write('NewFileTwo.txt',compress_type = zipfile.ZIP_DEFLATED)"
   ]
  },
  {
   "cell_type": "code",
   "execution_count": 74,
   "metadata": {},
   "outputs": [],
   "source": [
    "# NewZip now contains 2 zip files - NewFile.txt , NewFileTwo.txt\n",
    "\n",
    "NewZip.close()"
   ]
  },
  {
   "cell_type": "markdown",
   "metadata": {},
   "source": [
    "#### Extracting Zip Files to a Folder"
   ]
  },
  {
   "cell_type": "code",
   "execution_count": 75,
   "metadata": {},
   "outputs": [],
   "source": [
    "Zip_Extracts = zipfile.ZipFile('NewZip.zip','r')"
   ]
  },
  {
   "cell_type": "code",
   "execution_count": 76,
   "metadata": {},
   "outputs": [
    {
     "data": {
      "text/plain": [
       "'C:\\\\Users\\\\LENOVO\\\\18082020\\\\NewFile.txt'"
      ]
     },
     "execution_count": 76,
     "metadata": {},
     "output_type": "execute_result"
    }
   ],
   "source": [
    "# To Extract a Single File\n",
    "\n",
    "Zip_Extracts.extract('NewFile.txt')"
   ]
  },
  {
   "cell_type": "code",
   "execution_count": 77,
   "metadata": {},
   "outputs": [],
   "source": [
    "# To Extract All Files from a Zip folder - Simply use a new Folder name with extractall\n",
    "\n",
    "Zip_Extracts.extractall('Zip_Extracts')"
   ]
  },
  {
   "cell_type": "code",
   "execution_count": null,
   "metadata": {},
   "outputs": [],
   "source": []
  },
  {
   "cell_type": "code",
   "execution_count": null,
   "metadata": {},
   "outputs": [],
   "source": []
  }
 ],
 "metadata": {
  "kernelspec": {
   "display_name": "Python 3",
   "language": "python",
   "name": "python3"
  },
  "language_info": {
   "codemirror_mode": {
    "name": "ipython",
    "version": 3
   },
   "file_extension": ".py",
   "mimetype": "text/x-python",
   "name": "python",
   "nbconvert_exporter": "python",
   "pygments_lexer": "ipython3",
   "version": "3.8.5"
  }
 },
 "nbformat": 4,
 "nbformat_minor": 4
}
