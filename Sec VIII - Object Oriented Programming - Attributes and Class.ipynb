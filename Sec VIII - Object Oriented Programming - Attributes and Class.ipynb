{
 "cells": [
  {
   "cell_type": "code",
   "execution_count": 1,
   "metadata": {},
   "outputs": [],
   "source": [
    "# Object Oriented programming (OOP) - It helps to creat your own class "
   ]
  },
  {
   "cell_type": "markdown",
   "metadata": {},
   "source": [
    "CLASS AND ATTRIBUTES"
   ]
  },
  {
   "cell_type": "code",
   "execution_count": 8,
   "metadata": {},
   "outputs": [],
   "source": [
    "# Camel Casing - Every word starts with a Capital\n",
    "class NameOfClass(): \n",
    "\n",
    "    # It looks a lot like Function but in actality it is called 'Method'\n",
    "    def __init__(self,parameter1,parameter2):\n",
    "        \n",
    "        # self. is to be used to connect to the parameters\n",
    "        self.parameter1 = parameter1                       # parameter1 is the attribute\n",
    "        self.parameter2 = parameter2                       # parameter2 is the attribute\n",
    "        \n",
    "    \n",
    "    # It looks a lot like Function.\n",
    "    def anything_else(self):                               # 'Self' here denotes it is connected to the class above\n",
    "        \n",
    "        # Here self. is used to perform some action\n",
    "        print (self.parameter1)\n",
    "        print (self.parameter2)\n",
    "        "
   ]
  },
  {
   "cell_type": "code",
   "execution_count": 10,
   "metadata": {},
   "outputs": [],
   "source": [
    "my_list = [1,2,3,4,5]"
   ]
  },
  {
   "cell_type": "code",
   "execution_count": 11,
   "metadata": {},
   "outputs": [
    {
     "data": {
      "text/plain": [
       "list"
      ]
     },
     "execution_count": 11,
     "metadata": {},
     "output_type": "execute_result"
    }
   ],
   "source": [
    "type(my_list)"
   ]
  },
  {
   "cell_type": "code",
   "execution_count": 17,
   "metadata": {},
   "outputs": [],
   "source": [
    "my_list       #.Tab will show us a list of functions we can use\n",
    "pass"
   ]
  },
  {
   "cell_type": "code",
   "execution_count": 12,
   "metadata": {},
   "outputs": [],
   "source": [
    "my_set = set()"
   ]
  },
  {
   "cell_type": "code",
   "execution_count": 13,
   "metadata": {},
   "outputs": [
    {
     "data": {
      "text/plain": [
       "set"
      ]
     },
     "execution_count": 13,
     "metadata": {},
     "output_type": "execute_result"
    }
   ],
   "source": [
    "type(my_set)"
   ]
  },
  {
   "cell_type": "code",
   "execution_count": 19,
   "metadata": {},
   "outputs": [],
   "source": [
    "my_set         #.Tab will show us a list of functions we can use\n",
    "pass"
   ]
  },
  {
   "cell_type": "markdown",
   "metadata": {},
   "source": [
    "Now let us create a class"
   ]
  },
  {
   "cell_type": "code",
   "execution_count": 23,
   "metadata": {},
   "outputs": [],
   "source": [
    "# Notice here we use Camel Casing instead of Snake Casing\n",
    "\n",
    "class AnythingHere():\n",
    "    pass"
   ]
  },
  {
   "cell_type": "code",
   "execution_count": 24,
   "metadata": {},
   "outputs": [],
   "source": [
    "anything_here = AnythingHere()"
   ]
  },
  {
   "cell_type": "code",
   "execution_count": 25,
   "metadata": {},
   "outputs": [
    {
     "data": {
      "text/plain": [
       "__main__.AnythingHere"
      ]
     },
     "execution_count": 25,
     "metadata": {},
     "output_type": "execute_result"
    }
   ],
   "source": [
    "type(anything_here)"
   ]
  },
  {
   "cell_type": "code",
   "execution_count": null,
   "metadata": {},
   "outputs": [],
   "source": []
  },
  {
   "cell_type": "code",
   "execution_count": 146,
   "metadata": {},
   "outputs": [],
   "source": [
    "class AllAboutTravel():\n",
    "    \n",
    "    # Class Object Attribute\n",
    "    # Remains the same for any instance of a Class\n",
    "    travel = 'Free Mind'\n",
    "    \n",
    "                   # Attributes\n",
    "    def __init__(self, place, cost, pax):           \n",
    "                  \n",
    "        \n",
    "        self.place = place\n",
    "        self.cost = cost\n",
    "        self.pax = pax\n",
    "        \n",
    "    \n",
    "             # This is called Method\n",
    "    def sofia_diaries(self,number):\n",
    "             # Through 'self', it is connecting with __init__ and all attributes can be used here\n",
    "             # Independent parameter 'number' is added. the number will have to be mentioned while calling 'Methods' \n",
    "        \n",
    "                        # Using .format here.                            \n",
    "                        # Note in Number we have not put self.number . This is because 'number' is out of the Attributes\n",
    "                        # 'Number' is an independent parameter\n",
    "                \n",
    "        print(\"I'll go to {} with {} pax & pay {}.I want it for {} days\".format(self.place, self.pax, self.cost, number))\n",
    "        \n",
    "        \n",
    "        "
   ]
  },
  {
   "cell_type": "code",
   "execution_count": 147,
   "metadata": {},
   "outputs": [],
   "source": [
    "travel_stories = AllAboutTravel('Luisiana', 2000, 2)"
   ]
  },
  {
   "cell_type": "code",
   "execution_count": 148,
   "metadata": {},
   "outputs": [
    {
     "data": {
      "text/plain": [
       "__main__.AllAboutTravel"
      ]
     },
     "execution_count": 148,
     "metadata": {},
     "output_type": "execute_result"
    }
   ],
   "source": [
    "type(travel_stories)"
   ]
  },
  {
   "cell_type": "code",
   "execution_count": 149,
   "metadata": {},
   "outputs": [
    {
     "data": {
      "text/plain": [
       "'Luisiana'"
      ]
     },
     "execution_count": 149,
     "metadata": {},
     "output_type": "execute_result"
    }
   ],
   "source": [
    "# while calling Attributes no ( ) are required.\n",
    "\n",
    "travel_stories.place"
   ]
  },
  {
   "cell_type": "code",
   "execution_count": 150,
   "metadata": {},
   "outputs": [
    {
     "data": {
      "text/plain": [
       "2"
      ]
     },
     "execution_count": 150,
     "metadata": {},
     "output_type": "execute_result"
    }
   ],
   "source": [
    "travel_stories.pax"
   ]
  },
  {
   "cell_type": "code",
   "execution_count": 151,
   "metadata": {},
   "outputs": [
    {
     "data": {
      "text/plain": [
       "2000"
      ]
     },
     "execution_count": 151,
     "metadata": {},
     "output_type": "execute_result"
    }
   ],
   "source": [
    "travel_stories.cost"
   ]
  },
  {
   "cell_type": "code",
   "execution_count": 152,
   "metadata": {},
   "outputs": [
    {
     "data": {
      "text/plain": [
       "'Free Mind'"
      ]
     },
     "execution_count": 152,
     "metadata": {},
     "output_type": "execute_result"
    }
   ],
   "source": [
    "travel_stories.travel"
   ]
  },
  {
   "cell_type": "code",
   "execution_count": 153,
   "metadata": {},
   "outputs": [
    {
     "data": {
      "text/plain": [
       "<bound method AllAboutTravel.sofia_diaries of <__main__.AllAboutTravel object at 0x000001E08B188D00>>"
      ]
     },
     "execution_count": 153,
     "metadata": {},
     "output_type": "execute_result"
    }
   ],
   "source": [
    "# Note it'll throw error if we follow the Attribute rule (not giving ( ))\n",
    "# While calling Methods ( ) are required.\n",
    "\n",
    "travel_stories.sofia_diaries   "
   ]
  },
  {
   "cell_type": "code",
   "execution_count": 154,
   "metadata": {},
   "outputs": [
    {
     "name": "stdout",
     "output_type": "stream",
     "text": [
      "I'll go to Luisiana with 2 pax & pay 2000.I want it for 10 days\n"
     ]
    }
   ],
   "source": [
    "# While calling Methods ( ) are required.\n",
    "# Note it'll now give the output when we put in ( )\n",
    "# Independent parameter 'number' is added with the Method function. \n",
    "# The number will have to be mentioned while calling 'Methods'. Here it is 10 \n",
    "\n",
    "travel_stories.sofia_diaries(10)"
   ]
  },
  {
   "cell_type": "code",
   "execution_count": null,
   "metadata": {},
   "outputs": [],
   "source": []
  },
  {
   "cell_type": "code",
   "execution_count": null,
   "metadata": {},
   "outputs": [],
   "source": []
  },
  {
   "cell_type": "code",
   "execution_count": null,
   "metadata": {},
   "outputs": [],
   "source": []
  },
  {
   "cell_type": "code",
   "execution_count": null,
   "metadata": {},
   "outputs": [],
   "source": []
  },
  {
   "cell_type": "code",
   "execution_count": 182,
   "metadata": {},
   "outputs": [],
   "source": [
    "class HobbyNetworking():\n",
    "    \n",
    "    \n",
    "    # Class Object Attribute\n",
    "    about = 'HN is all about Human Passion'\n",
    "    mode = 'It is available Online'\n",
    "    \n",
    "    def __init__ (self, hobbies, members, groups):\n",
    "        \n",
    "        self.hobbies = hobbies\n",
    "        self.members = members\n",
    "        self.groups = groups\n",
    "        \n",
    "    # number mentioned here means it is outside attributes and has to be provided\n",
    "    def hobbyists_story(self,number):     \n",
    "        \n",
    "        \n",
    "        # Multiple print options can be given\n",
    "        print (\"Hi I'm Maria, a member of HN\")\n",
    "        \n",
    "        # Using .format             \n",
    "        # 'self' is used to connect with class of attributes\n",
    "        print (\"My hobbies are {}.There are {} members of HN with over {} groups\".format(self.hobbies,self.members,self.groups))\n",
    "        \n",
    "        # 'number' is used without 'self' as it is taken from outside class / attributes\n",
    "        print (\"The membership is expected to grow by {} every year\".format(number))\n",
    "        \n",
    "        \n",
    "    def maria_story(self): \n",
    "        \n",
    "        # Here only [2] of dict is taken\n",
    "        print (\"My hobbies are {}.There are {} members of HN with over {} groups\".format(self.hobbies[2],self.members,self.groups))\n",
    "        "
   ]
  },
  {
   "cell_type": "code",
   "execution_count": 183,
   "metadata": {},
   "outputs": [],
   "source": [
    "all_about_hobbies = HobbyNetworking ({1:'Photography', 2:'Adventure', 3:'Travel'}, 200000 , 30)"
   ]
  },
  {
   "cell_type": "code",
   "execution_count": 184,
   "metadata": {},
   "outputs": [
    {
     "data": {
      "text/plain": [
       "__main__.HobbyNetworking"
      ]
     },
     "execution_count": 184,
     "metadata": {},
     "output_type": "execute_result"
    }
   ],
   "source": [
    "type(all_about_hobbies)"
   ]
  },
  {
   "cell_type": "code",
   "execution_count": 185,
   "metadata": {},
   "outputs": [
    {
     "data": {
      "text/plain": [
       "'HN is all about Human Passion'"
      ]
     },
     "execution_count": 185,
     "metadata": {},
     "output_type": "execute_result"
    }
   ],
   "source": [
    "all_about_hobbies.about"
   ]
  },
  {
   "cell_type": "code",
   "execution_count": 186,
   "metadata": {},
   "outputs": [
    {
     "data": {
      "text/plain": [
       "'It is available Online'"
      ]
     },
     "execution_count": 186,
     "metadata": {},
     "output_type": "execute_result"
    }
   ],
   "source": [
    "all_about_hobbies.mode"
   ]
  },
  {
   "cell_type": "code",
   "execution_count": 187,
   "metadata": {},
   "outputs": [
    {
     "data": {
      "text/plain": [
       "{1: 'Photography', 2: 'Adventure', 3: 'Travel'}"
      ]
     },
     "execution_count": 187,
     "metadata": {},
     "output_type": "execute_result"
    }
   ],
   "source": [
    "all_about_hobbies.hobbies"
   ]
  },
  {
   "cell_type": "code",
   "execution_count": 188,
   "metadata": {},
   "outputs": [
    {
     "data": {
      "text/plain": [
       "200000"
      ]
     },
     "execution_count": 188,
     "metadata": {},
     "output_type": "execute_result"
    }
   ],
   "source": [
    "all_about_hobbies.members"
   ]
  },
  {
   "cell_type": "code",
   "execution_count": 189,
   "metadata": {},
   "outputs": [
    {
     "data": {
      "text/plain": [
       "30"
      ]
     },
     "execution_count": 189,
     "metadata": {},
     "output_type": "execute_result"
    }
   ],
   "source": [
    "all_about_hobbies.groups"
   ]
  },
  {
   "cell_type": "code",
   "execution_count": 190,
   "metadata": {},
   "outputs": [
    {
     "name": "stdout",
     "output_type": "stream",
     "text": [
      "Hi I'm Maria, a member of HN\n",
      "My hobbies are {1: 'Photography', 2: 'Adventure', 3: 'Travel'}.There are 200000 members of HN with over 30 groups\n",
      "The membership is expected to grow by 200000 every year\n"
     ]
    }
   ],
   "source": [
    "# as 'number' is outside attributes, it is provided here\n",
    "\n",
    "all_about_hobbies.hobbyists_story(200000)  "
   ]
  },
  {
   "cell_type": "code",
   "execution_count": 191,
   "metadata": {},
   "outputs": [
    {
     "name": "stdout",
     "output_type": "stream",
     "text": [
      "My hobbies are Adventure.There are 200000 members of HN with over 30 groups\n"
     ]
    }
   ],
   "source": [
    "# Here only [2] of dict is taken.\n",
    "\n",
    "all_about_hobbies.maria_story()    "
   ]
  },
  {
   "cell_type": "code",
   "execution_count": null,
   "metadata": {},
   "outputs": [],
   "source": []
  },
  {
   "cell_type": "code",
   "execution_count": null,
   "metadata": {},
   "outputs": [],
   "source": []
  },
  {
   "cell_type": "code",
   "execution_count": null,
   "metadata": {},
   "outputs": [],
   "source": []
  },
  {
   "cell_type": "code",
   "execution_count": null,
   "metadata": {},
   "outputs": [],
   "source": []
  },
  {
   "cell_type": "code",
   "execution_count": 243,
   "metadata": {},
   "outputs": [],
   "source": [
    "class CircleDetails():\n",
    "    \n",
    "    # Class Object Attribute \n",
    "    pi = 3.14\n",
    "    \n",
    "    # '__init__' method ---> Attribute. Always with 'self'. We can provide default parameters here\n",
    "    def __init__ (self, radius = 2):\n",
    "        \n",
    "        self.radius = radius\n",
    "        \n",
    "    \n",
    "    # Method 1\n",
    "    def find_circumferance(self):\n",
    "        \n",
    "        # formula of circumferance = radius * pi * 2\n",
    "        # Here instead of self.pi we use CircleDetails.pi as pi is a Class Object Attribute\n",
    "        circumferance = self.radius * CircleDetails.pi * 2\n",
    "        \n",
    "        return circumferance\n",
    "    \n",
    "    \n",
    "    # Method 2\n",
    "    def find_diameter(self):\n",
    "        \n",
    "        # formula of diameter = 2 * radius\n",
    "        diameter = 2 * self.radius\n",
    "        \n",
    "        return diameter"
   ]
  },
  {
   "cell_type": "code",
   "execution_count": 250,
   "metadata": {},
   "outputs": [],
   "source": [
    "# Even though a default radius is given (radius = 2), we can alsway overwrite it by giving a value here\n",
    "\n",
    "circle_fun = CircleDetails(20)"
   ]
  },
  {
   "cell_type": "code",
   "execution_count": 251,
   "metadata": {},
   "outputs": [
    {
     "data": {
      "text/plain": [
       "__main__.CircleDetails"
      ]
     },
     "execution_count": 251,
     "metadata": {},
     "output_type": "execute_result"
    }
   ],
   "source": [
    "type(circle_fun)"
   ]
  },
  {
   "cell_type": "code",
   "execution_count": 252,
   "metadata": {},
   "outputs": [
    {
     "data": {
      "text/plain": [
       "20"
      ]
     },
     "execution_count": 252,
     "metadata": {},
     "output_type": "execute_result"
    }
   ],
   "source": [
    "circle_fun.radius"
   ]
  },
  {
   "cell_type": "code",
   "execution_count": 253,
   "metadata": {},
   "outputs": [
    {
     "data": {
      "text/plain": [
       "3.14"
      ]
     },
     "execution_count": 253,
     "metadata": {},
     "output_type": "execute_result"
    }
   ],
   "source": [
    "# Here instead of using the variable 'circle_fun' we use 'CircleDetails' from the class. As it is a Class Object Attribute\n",
    "\n",
    "CircleDetails.pi"
   ]
  },
  {
   "cell_type": "code",
   "execution_count": 254,
   "metadata": {},
   "outputs": [
    {
     "data": {
      "text/plain": [
       "125.60000000000001"
      ]
     },
     "execution_count": 254,
     "metadata": {},
     "output_type": "execute_result"
    }
   ],
   "source": [
    "circle_fun.find_circumferance()"
   ]
  },
  {
   "cell_type": "code",
   "execution_count": 255,
   "metadata": {},
   "outputs": [
    {
     "data": {
      "text/plain": [
       "40"
      ]
     },
     "execution_count": 255,
     "metadata": {},
     "output_type": "execute_result"
    }
   ],
   "source": [
    "circle_fun.find_diameter()"
   ]
  },
  {
   "cell_type": "code",
   "execution_count": null,
   "metadata": {},
   "outputs": [],
   "source": []
  },
  {
   "cell_type": "code",
   "execution_count": null,
   "metadata": {},
   "outputs": [],
   "source": []
  },
  {
   "cell_type": "code",
   "execution_count": null,
   "metadata": {},
   "outputs": [],
   "source": []
  },
  {
   "cell_type": "code",
   "execution_count": null,
   "metadata": {},
   "outputs": [],
   "source": []
  },
  {
   "cell_type": "markdown",
   "metadata": {},
   "source": [
    "Class Inheritance "
   ]
  },
  {
   "cell_type": "code",
   "execution_count": 256,
   "metadata": {},
   "outputs": [],
   "source": [
    "# MAIN CLASS\n",
    "\n",
    "\n",
    "class NewHobbyNetworking():\n",
    "    \n",
    "    passion = 'Deep inner feeling of Happiness'\n",
    "    \n",
    "    def __init__(self, total_hobbies, celebrity_hobbyists):\n",
    "        \n",
    "        print ('Hobby is a passion')\n",
    "        \n",
    "        self.total_hobbies = total_hobbies\n",
    "        \n",
    "        self.celebrity_hobbyists = celebrity_hobbyists\n",
    "        \n",
    "    def how_to_connect(self, social_medias, facebook):\n",
    "        \n",
    "        print ('Ask your friends to join HN')\n",
    "        \n",
    "        self.social_medias = social_medias\n",
    "        \n",
    "        self.facebook = facebook\n",
    "        \n",
    "        \n",
    "    def what_to_sell(self, own_creations, hobby_products):\n",
    "        \n",
    "        print ('Here is where you monetise')\n",
    "        \n",
    "        self.own_creations = own_creations\n",
    "        \n",
    "        self.hobby_products = hobby_products\n",
    "               "
   ]
  },
  {
   "cell_type": "code",
   "execution_count": 257,
   "metadata": {},
   "outputs": [
    {
     "name": "stdout",
     "output_type": "stream",
     "text": [
      "Hobby is a passion\n"
     ]
    }
   ],
   "source": [
    "check_details = NewHobbyNetworking(total_hobbies = 101, celebrity_hobbyists = 'Alex Ramlhow') "
   ]
  },
  {
   "cell_type": "code",
   "execution_count": 258,
   "metadata": {},
   "outputs": [
    {
     "name": "stdout",
     "output_type": "stream",
     "text": [
      "Here is where you monetise\n"
     ]
    }
   ],
   "source": [
    "check_details.what_to_sell(own_creations = 'Sell at Barter Point', hobby_products = 'Sell at Hobby Shop')"
   ]
  },
  {
   "cell_type": "code",
   "execution_count": 259,
   "metadata": {},
   "outputs": [
    {
     "name": "stdout",
     "output_type": "stream",
     "text": [
      "Ask your friends to join HN\n"
     ]
    }
   ],
   "source": [
    "check_details.how_to_connect (social_medias = 'Ask members to join', facebook = 'Through FB Login details')"
   ]
  },
  {
   "cell_type": "code",
   "execution_count": 260,
   "metadata": {},
   "outputs": [
    {
     "data": {
      "text/plain": [
       "__main__.NewHobbyNetworking"
      ]
     },
     "execution_count": 260,
     "metadata": {},
     "output_type": "execute_result"
    }
   ],
   "source": [
    "type(check_details)"
   ]
  },
  {
   "cell_type": "code",
   "execution_count": 261,
   "metadata": {},
   "outputs": [
    {
     "data": {
      "text/plain": [
       "'Deep inner feeling of Happiness'"
      ]
     },
     "execution_count": 261,
     "metadata": {},
     "output_type": "execute_result"
    }
   ],
   "source": [
    "NewHobbyNetworking.passion"
   ]
  },
  {
   "cell_type": "code",
   "execution_count": 262,
   "metadata": {},
   "outputs": [
    {
     "data": {
      "text/plain": [
       "101"
      ]
     },
     "execution_count": 262,
     "metadata": {},
     "output_type": "execute_result"
    }
   ],
   "source": [
    "check_details.total_hobbies"
   ]
  },
  {
   "cell_type": "code",
   "execution_count": 263,
   "metadata": {},
   "outputs": [
    {
     "data": {
      "text/plain": [
       "'Alex Ramlhow'"
      ]
     },
     "execution_count": 263,
     "metadata": {},
     "output_type": "execute_result"
    }
   ],
   "source": [
    "check_details.celebrity_hobbyists"
   ]
  },
  {
   "cell_type": "code",
   "execution_count": 264,
   "metadata": {},
   "outputs": [
    {
     "data": {
      "text/plain": [
       "'Ask members to join'"
      ]
     },
     "execution_count": 264,
     "metadata": {},
     "output_type": "execute_result"
    }
   ],
   "source": [
    "check_details.social_medias"
   ]
  },
  {
   "cell_type": "code",
   "execution_count": 265,
   "metadata": {},
   "outputs": [
    {
     "data": {
      "text/plain": [
       "'Through FB Login details'"
      ]
     },
     "execution_count": 265,
     "metadata": {},
     "output_type": "execute_result"
    }
   ],
   "source": [
    "check_details.facebook"
   ]
  },
  {
   "cell_type": "code",
   "execution_count": 266,
   "metadata": {},
   "outputs": [
    {
     "data": {
      "text/plain": [
       "'Sell at Barter Point'"
      ]
     },
     "execution_count": 266,
     "metadata": {},
     "output_type": "execute_result"
    }
   ],
   "source": [
    "check_details.own_creations"
   ]
  },
  {
   "cell_type": "code",
   "execution_count": 267,
   "metadata": {},
   "outputs": [
    {
     "data": {
      "text/plain": [
       "'Sell at Hobby Shop'"
      ]
     },
     "execution_count": 267,
     "metadata": {},
     "output_type": "execute_result"
    }
   ],
   "source": [
    "check_details.hobby_products"
   ]
  },
  {
   "cell_type": "code",
   "execution_count": null,
   "metadata": {},
   "outputs": [],
   "source": []
  },
  {
   "cell_type": "code",
   "execution_count": 268,
   "metadata": {},
   "outputs": [],
   "source": [
    "# INHERITANCE CLASS - This Class inherites the Main CLass so that the codes of the main class can be used\n",
    "# In Inherited Class, Methods (def) from Main class can be amended and altered \n",
    "# New Methods (def) can be added\n",
    "\n",
    "\n",
    "class Photography(NewHobbyNetworking):\n",
    "    \n",
    "    love = 'Love for Photography'\n",
    "    \n",
    "    def __init__(self, connected_hobbies):\n",
    "        \n",
    "        NewHobbyNetworking.__init__(self,total_hobbies = 1001, celebrity_hobbyists = 'Alex Ramlhow & Debasis Sil')\n",
    "        \n",
    "        self.connected_hobbies = connected_hobbies\n",
    "        \n",
    "        print('Camera is a requirement')\n",
    "    \n",
    "    \n",
    "    def what_to_sell(self, own_creations, hobby_products, virtual_advice):\n",
    "        \n",
    "        print ('The Best Place to Monetise Your Passion')\n",
    "        \n",
    "        self.own_creations = own_creations\n",
    "        \n",
    "        self.hobby_products = hobby_products\n",
    "        \n",
    "        self.virtual_advice = virtual_advice\n",
    "        \n",
    "        "
   ]
  },
  {
   "cell_type": "code",
   "execution_count": 269,
   "metadata": {},
   "outputs": [
    {
     "name": "stdout",
     "output_type": "stream",
     "text": [
      "Hobby is a passion\n",
      "Camera is a requirement\n"
     ]
    }
   ],
   "source": [
    "new_hobby = Photography(connected_hobbies = 'Travel')"
   ]
  },
  {
   "cell_type": "code",
   "execution_count": 270,
   "metadata": {},
   "outputs": [
    {
     "data": {
      "text/plain": [
       "'Love for Photography'"
      ]
     },
     "execution_count": 270,
     "metadata": {},
     "output_type": "execute_result"
    }
   ],
   "source": [
    "new_hobby.love"
   ]
  },
  {
   "cell_type": "code",
   "execution_count": 271,
   "metadata": {},
   "outputs": [
    {
     "data": {
      "text/plain": [
       "'Deep inner feeling of Happiness'"
      ]
     },
     "execution_count": 271,
     "metadata": {},
     "output_type": "execute_result"
    }
   ],
   "source": [
    "new_hobby.passion"
   ]
  },
  {
   "cell_type": "code",
   "execution_count": 272,
   "metadata": {},
   "outputs": [
    {
     "data": {
      "text/plain": [
       "'Travel'"
      ]
     },
     "execution_count": 272,
     "metadata": {},
     "output_type": "execute_result"
    }
   ],
   "source": [
    "new_hobby.connected_hobbies"
   ]
  },
  {
   "cell_type": "code",
   "execution_count": 273,
   "metadata": {},
   "outputs": [
    {
     "data": {
      "text/plain": [
       "'Alex Ramlhow & Debasis Sil'"
      ]
     },
     "execution_count": 273,
     "metadata": {},
     "output_type": "execute_result"
    }
   ],
   "source": [
    "new_hobby.celebrity_hobbyists"
   ]
  },
  {
   "cell_type": "code",
   "execution_count": 274,
   "metadata": {},
   "outputs": [
    {
     "data": {
      "text/plain": [
       "1001"
      ]
     },
     "execution_count": 274,
     "metadata": {},
     "output_type": "execute_result"
    }
   ],
   "source": [
    "new_hobby.total_hobbies"
   ]
  },
  {
   "cell_type": "code",
   "execution_count": 275,
   "metadata": {},
   "outputs": [
    {
     "name": "stdout",
     "output_type": "stream",
     "text": [
      "Ask your friends to join HN\n"
     ]
    }
   ],
   "source": [
    "new_hobby.how_to_connect(social_medias = 'Ask members to join', facebook = 'Through FB Login details')"
   ]
  },
  {
   "cell_type": "code",
   "execution_count": 276,
   "metadata": {},
   "outputs": [
    {
     "name": "stdout",
     "output_type": "stream",
     "text": [
      "The Best Place to Monetise Your Passion\n"
     ]
    }
   ],
   "source": [
    "new_hobby.what_to_sell('Sell at Barter Point Shoppe', 'Selling is a cakewalk at Hobby Shop', 'Paid Advice from Experts')"
   ]
  },
  {
   "cell_type": "code",
   "execution_count": 277,
   "metadata": {},
   "outputs": [
    {
     "data": {
      "text/plain": [
       "'Through FB Login details'"
      ]
     },
     "execution_count": 277,
     "metadata": {},
     "output_type": "execute_result"
    }
   ],
   "source": [
    "new_hobby.facebook"
   ]
  },
  {
   "cell_type": "code",
   "execution_count": 278,
   "metadata": {},
   "outputs": [
    {
     "data": {
      "text/plain": [
       "'Selling is a cakewalk at Hobby Shop'"
      ]
     },
     "execution_count": 278,
     "metadata": {},
     "output_type": "execute_result"
    }
   ],
   "source": [
    "new_hobby.hobby_products"
   ]
  },
  {
   "cell_type": "code",
   "execution_count": 279,
   "metadata": {},
   "outputs": [
    {
     "data": {
      "text/plain": [
       "'Ask members to join'"
      ]
     },
     "execution_count": 279,
     "metadata": {},
     "output_type": "execute_result"
    }
   ],
   "source": [
    "new_hobby.social_medias"
   ]
  },
  {
   "cell_type": "code",
   "execution_count": 280,
   "metadata": {},
   "outputs": [
    {
     "data": {
      "text/plain": [
       "'Sell at Barter Point Shoppe'"
      ]
     },
     "execution_count": 280,
     "metadata": {},
     "output_type": "execute_result"
    }
   ],
   "source": [
    "new_hobby.own_creations"
   ]
  },
  {
   "cell_type": "code",
   "execution_count": 281,
   "metadata": {},
   "outputs": [
    {
     "data": {
      "text/plain": [
       "'Paid Advice from Experts'"
      ]
     },
     "execution_count": 281,
     "metadata": {},
     "output_type": "execute_result"
    }
   ],
   "source": [
    "new_hobby.virtual_advice"
   ]
  },
  {
   "cell_type": "code",
   "execution_count": null,
   "metadata": {},
   "outputs": [],
   "source": []
  },
  {
   "cell_type": "markdown",
   "metadata": {},
   "source": [
    "POLYMORPHISM"
   ]
  },
  {
   "cell_type": "code",
   "execution_count": 3,
   "metadata": {},
   "outputs": [],
   "source": [
    "# It is a way where same Method (def) name is used for different classes"
   ]
  },
  {
   "cell_type": "code",
   "execution_count": 29,
   "metadata": {},
   "outputs": [],
   "source": [
    "class Computer():\n",
    "    \n",
    "    def __init__ (self, data_analysis):\n",
    "        self.data_analysis = data_analysis\n",
    "        \n",
    "    def what_it_does(self):    \n",
    "        return self.data_analysis + \" Yay! I'm a Computer\"\n",
    "    \n",
    "# Only difference here is the 'return' and class name. Attributes and Method remains the same"
   ]
  },
  {
   "cell_type": "code",
   "execution_count": 48,
   "metadata": {},
   "outputs": [],
   "source": [
    "class Laptop():\n",
    "    \n",
    "    def __init__ (self, data_analysis):\n",
    "        self.data_analysis = data_analysis\n",
    "        \n",
    "    def what_it_does(self):    \n",
    "        return self.data_analysis + \" Yay! I'm a Laptop\"\n",
    "    \n",
    "# Only difference here is the 'return' and class name. Attributes and Method remains the same"
   ]
  },
  {
   "cell_type": "code",
   "execution_count": 49,
   "metadata": {},
   "outputs": [],
   "source": [
    "comp = Computer(data_analysis = '200000 TetraByte per second')\n",
    "lap = Laptop(data_analysis = '250000 TetraByte per second')"
   ]
  },
  {
   "cell_type": "code",
   "execution_count": 50,
   "metadata": {},
   "outputs": [
    {
     "name": "stdout",
     "output_type": "stream",
     "text": [
      "200000 TetraByte per second Yay! I'm a Computer\n"
     ]
    }
   ],
   "source": [
    "print (comp.what_it_does())"
   ]
  },
  {
   "cell_type": "code",
   "execution_count": 51,
   "metadata": {},
   "outputs": [
    {
     "name": "stdout",
     "output_type": "stream",
     "text": [
      "250000 TetraByte per second Yay! I'm a Laptop\n"
     ]
    }
   ],
   "source": [
    "print (lap.what_it_does())"
   ]
  },
  {
   "cell_type": "markdown",
   "metadata": {},
   "source": [
    "Using for loop"
   ]
  },
  {
   "cell_type": "code",
   "execution_count": 53,
   "metadata": {},
   "outputs": [
    {
     "name": "stdout",
     "output_type": "stream",
     "text": [
      "200000 TetraByte per second Yay! I'm a Computer\n",
      "250000 TetraByte per second Yay! I'm a Laptop\n"
     ]
    }
   ],
   "source": [
    "for machine in [comp,lap]:\n",
    "    \n",
    "    print (machine.what_it_does())\n",
    "    "
   ]
  },
  {
   "cell_type": "markdown",
   "metadata": {},
   "source": [
    "Using def"
   ]
  },
  {
   "cell_type": "code",
   "execution_count": 58,
   "metadata": {},
   "outputs": [],
   "source": [
    "def machine_working(machine):\n",
    "    \n",
    "    print (machine.what_it_does())"
   ]
  },
  {
   "cell_type": "code",
   "execution_count": 59,
   "metadata": {},
   "outputs": [
    {
     "name": "stdout",
     "output_type": "stream",
     "text": [
      "200000 TetraByte per second Yay! I'm a Computer\n"
     ]
    }
   ],
   "source": [
    "machine_working(comp)"
   ]
  },
  {
   "cell_type": "code",
   "execution_count": 60,
   "metadata": {},
   "outputs": [
    {
     "name": "stdout",
     "output_type": "stream",
     "text": [
      "250000 TetraByte per second Yay! I'm a Laptop\n"
     ]
    }
   ],
   "source": [
    "machine_working(lap)"
   ]
  },
  {
   "cell_type": "code",
   "execution_count": null,
   "metadata": {},
   "outputs": [],
   "source": []
  },
  {
   "cell_type": "code",
   "execution_count": null,
   "metadata": {},
   "outputs": [],
   "source": []
  },
  {
   "cell_type": "markdown",
   "metadata": {},
   "source": [
    "Object Oriented Programming - Magic / Dundar Methods"
   ]
  },
  {
   "cell_type": "code",
   "execution_count": 61,
   "metadata": {},
   "outputs": [],
   "source": [
    "# This uses __abc__ method and helps to derive what we want using our own class"
   ]
  },
  {
   "cell_type": "code",
   "execution_count": 221,
   "metadata": {},
   "outputs": [],
   "source": [
    "class enigmatic_hotel():\n",
    "    \n",
    "    def __init__ (self, name, location, rooms, staff):\n",
    "        \n",
    "        self.name = name\n",
    "        self.location = location\n",
    "        self.rooms = rooms\n",
    "        self.staff = staff\n",
    "        \n",
    "        \n",
    "    def __str__(self):\n",
    "        \n",
    "        return \"{} welcome You in {}.\\nWe have {} impeccable rooms and {} most efficient staffs.\".format(self.name,self.location,self.rooms,self.staff)\n",
    "        \n",
    "    \n",
    "    def __len__(self): \n",
    "        \n",
    "        return self.rooms \n",
    "    \n",
    "    \n",
    "    \n",
    "    "
   ]
  },
  {
   "cell_type": "code",
   "execution_count": 222,
   "metadata": {},
   "outputs": [],
   "source": [
    "boutique_hotel = enigmatic_hotel(name = 'Bob Of Seals', location = 'Yukon', rooms = 20 , staff = 10)"
   ]
  },
  {
   "cell_type": "code",
   "execution_count": 223,
   "metadata": {},
   "outputs": [
    {
     "data": {
      "text/plain": [
       "__main__.enigmatic_hotel"
      ]
     },
     "execution_count": 223,
     "metadata": {},
     "output_type": "execute_result"
    }
   ],
   "source": [
    "type(boutique_hotel)"
   ]
  },
  {
   "cell_type": "code",
   "execution_count": 224,
   "metadata": {},
   "outputs": [
    {
     "data": {
      "text/plain": [
       "'Bob Of Seals'"
      ]
     },
     "execution_count": 224,
     "metadata": {},
     "output_type": "execute_result"
    }
   ],
   "source": [
    "boutique_hotel.name"
   ]
  },
  {
   "cell_type": "code",
   "execution_count": 225,
   "metadata": {},
   "outputs": [
    {
     "name": "stdout",
     "output_type": "stream",
     "text": [
      "Bob Of Seals welcome You in Yukon.\n",
      "We have 20 impeccable rooms and 10 most efficient staffs.\n"
     ]
    }
   ],
   "source": [
    "print (boutique_hotel)"
   ]
  },
  {
   "cell_type": "code",
   "execution_count": 226,
   "metadata": {},
   "outputs": [
    {
     "data": {
      "text/plain": [
       "'Bob Of Seals welcome You in Yukon.\\nWe have 20 impeccable rooms and 10 most efficient staffs.'"
      ]
     },
     "execution_count": 226,
     "metadata": {},
     "output_type": "execute_result"
    }
   ],
   "source": [
    "str(boutique_hotel)"
   ]
  },
  {
   "cell_type": "code",
   "execution_count": 227,
   "metadata": {},
   "outputs": [
    {
     "name": "stdout",
     "output_type": "stream",
     "text": [
      "20\n"
     ]
    }
   ],
   "source": [
    "print(len(boutique_hotel))"
   ]
  },
  {
   "cell_type": "code",
   "execution_count": null,
   "metadata": {},
   "outputs": [],
   "source": []
  },
  {
   "cell_type": "markdown",
   "metadata": {},
   "source": [
    "HOMEWORK ASSIGNMENTS"
   ]
  },
  {
   "cell_type": "code",
   "execution_count": null,
   "metadata": {},
   "outputs": [],
   "source": []
  },
  {
   "cell_type": "code",
   "execution_count": null,
   "metadata": {},
   "outputs": [],
   "source": []
  },
  {
   "cell_type": "code",
   "execution_count": null,
   "metadata": {},
   "outputs": [],
   "source": []
  },
  {
   "cell_type": "code",
   "execution_count": null,
   "metadata": {},
   "outputs": [],
   "source": [
    "\n",
    "            \n",
    "        \n",
    "    \n",
    "\n",
    "\n"
   ]
  },
  {
   "cell_type": "code",
   "execution_count": null,
   "metadata": {},
   "outputs": [],
   "source": []
  },
  {
   "cell_type": "code",
   "execution_count": null,
   "metadata": {},
   "outputs": [],
   "source": []
  },
  {
   "cell_type": "code",
   "execution_count": null,
   "metadata": {},
   "outputs": [],
   "source": [
    "round_num = 0\n",
    "while game_on:\n",
    "    \n",
    "    round_num += 1\n",
    "    print(f\"Round {round_num}\")\n",
    "    \n",
    "    # Check to see if a player is out of cards:\n",
    "    if len(player_1) == 0:\n",
    "        print(\"Player One out of cards! Game Over\")\n",
    "        print(\"Player Two Wins!\")\n",
    "        game_on = False\n",
    "        break\n",
    "        \n",
    "    if len(player_2) == 0:\n",
    "        print(\"Player Two out of cards! Game Over\")\n",
    "        print(\"Player One Wins!\")\n",
    "        game_on = False\n",
    "        break\n",
    "    \n",
    "    # Otherwise, the game is still on!\n",
    "    \n",
    "    # Start a new round and reset current cards \"on the table\"\n",
    "    player_1_cards = []\n",
    "    player_1_cards.append(player_1.pop())\n",
    "    \n",
    "    player_2_cards = []\n",
    "    player_2_cards.append(player_2.pop())\n",
    "    \n",
    "    at_war = True\n",
    "\n",
    "    while at_war:\n",
    "\n",
    "\n",
    "        if player_1_cards[-1].values > player_2_cards[-1].values:\n",
    "\n",
    "            # Player One gets the cards\n",
    "            player_1.extend(player_1_cards)\n",
    "            player_1.extend(player_2_cards)\n",
    "            \n",
    "            \n",
    "            # No Longer at \"war\" , time for next round\n",
    "            at_war = False\n",
    "        \n",
    "        # Player Two Has higher Card\n",
    "        elif player_1_cards[-1].values < player_2_cards[-1].values:\n",
    "\n",
    "            # Player Two gets the cards\n",
    "            player_2.extend(player_1_cards)\n",
    "            player_2.extend(player_2_cards)\n",
    "            \n",
    "            # No Longer at \"war\" , time for next round\n",
    "            at_war = False\n",
    "\n",
    "        else:\n",
    "            print('WAR!')\n",
    "            # This occurs when the cards are equal.\n",
    "            # We'll grab another card each and continue the current war.\n",
    "            \n",
    "            # First check to see if player has enough cards\n",
    "            \n",
    "            # Check to see if a player is out of cards:\n",
    "            if len(player_1) < 5:\n",
    "                print(\"Player One unable to play war! Game Over at War\")\n",
    "                print(\"Player Two Wins! Player One Loses!\")\n",
    "                game_on = False\n",
    "                break\n",
    "\n",
    "            elif len(player_2) < 5:\n",
    "                print(\"Player Two unable to play war! Game Over at War\")\n",
    "                print(\"Player One Wins! Player One Loses!\")\n",
    "                game_on = False\n",
    "                break\n",
    "            # Otherwise, we're still at war, so we'll add the next cards\n",
    "            else:\n",
    "                for num in range(5):\n",
    "                    player_1_cards.append(player_1.pop())\n",
    "                    player_2_cards.append(player_2.pop())\n",
    "        "
   ]
  }
 ],
 "metadata": {
  "kernelspec": {
   "display_name": "Python 3",
   "language": "python",
   "name": "python3"
  },
  "language_info": {
   "codemirror_mode": {
    "name": "ipython",
    "version": 3
   },
   "file_extension": ".py",
   "mimetype": "text/x-python",
   "name": "python",
   "nbconvert_exporter": "python",
   "pygments_lexer": "ipython3",
   "version": "3.8.5"
  }
 },
 "nbformat": 4,
 "nbformat_minor": 4
}
