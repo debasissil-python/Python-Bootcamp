{
 "cells": [
  {
   "cell_type": "markdown",
   "metadata": {},
   "source": [
    "Displaying Information"
   ]
  },
  {
   "cell_type": "code",
   "execution_count": 45,
   "metadata": {},
   "outputs": [],
   "source": [
    "r1 = [' ', ' ', ' ']\n",
    "r2 = [' ', ' ', ' ']\n",
    "r3 = [' ', ' ', ' ']"
   ]
  },
  {
   "cell_type": "code",
   "execution_count": 46,
   "metadata": {},
   "outputs": [
    {
     "data": {
      "text/plain": [
       "[' ', ' ', ' ']"
      ]
     },
     "metadata": {},
     "output_type": "display_data"
    },
    {
     "data": {
      "text/plain": [
       "[' ', ' ', ' ']"
      ]
     },
     "metadata": {},
     "output_type": "display_data"
    },
    {
     "data": {
      "text/plain": [
       "[' ', ' ', ' ']"
      ]
     },
     "metadata": {},
     "output_type": "display_data"
    }
   ],
   "source": [
    "# Using Display Function\n",
    "\n",
    "display (r1, r2, r3)"
   ]
  },
  {
   "cell_type": "code",
   "execution_count": 47,
   "metadata": {},
   "outputs": [],
   "source": [
    "# Changing the index positions of r1, r2 and r3\n",
    "\n",
    "r2[2] = 'X'\n",
    "r3[0] = 'O'\n",
    "r1[1] = 'X'"
   ]
  },
  {
   "cell_type": "code",
   "execution_count": 48,
   "metadata": {},
   "outputs": [
    {
     "name": "stdout",
     "output_type": "stream",
     "text": [
      "[' ', 'X', ' ']\n",
      "[' ', ' ', 'X']\n",
      "['O', ' ', ' ']\n"
     ]
    }
   ],
   "source": [
    "print (r1)\n",
    "print (r2)\n",
    "print (r3)"
   ]
  },
  {
   "cell_type": "code",
   "execution_count": 49,
   "metadata": {},
   "outputs": [
    {
     "data": {
      "text/plain": [
       "[' ', 'X', ' ']"
      ]
     },
     "metadata": {},
     "output_type": "display_data"
    },
    {
     "data": {
      "text/plain": [
       "[' ', ' ', 'X']"
      ]
     },
     "metadata": {},
     "output_type": "display_data"
    },
    {
     "data": {
      "text/plain": [
       "['O', ' ', ' ']"
      ]
     },
     "metadata": {},
     "output_type": "display_data"
    }
   ],
   "source": [
    "# Using Display Function\n",
    "\n",
    "display (r1,r2,r3)"
   ]
  },
  {
   "cell_type": "markdown",
   "metadata": {},
   "source": [
    "User Input"
   ]
  },
  {
   "cell_type": "code",
   "execution_count": 2,
   "metadata": {},
   "outputs": [
    {
     "name": "stdout",
     "output_type": "stream",
     "text": [
      "Hallo: Hi, I am Debasis Sil\n"
     ]
    },
    {
     "data": {
      "text/plain": [
       "'Hi, I am Debasis Sil'"
      ]
     },
     "execution_count": 2,
     "metadata": {},
     "output_type": "execute_result"
    }
   ],
   "source": [
    "# Without a variable the output is immediately given\n",
    "\n",
    "input('Hallo: ')"
   ]
  },
  {
   "cell_type": "code",
   "execution_count": 3,
   "metadata": {},
   "outputs": [
    {
     "name": "stdout",
     "output_type": "stream",
     "text": [
      "Hallo: Hi, I am Debasis Sil\n"
     ]
    }
   ],
   "source": [
    "# With a variable, the output is stored\n",
    "\n",
    "a = input('Hallo: ')"
   ]
  },
  {
   "cell_type": "code",
   "execution_count": 5,
   "metadata": {},
   "outputs": [
    {
     "data": {
      "text/plain": [
       "'Hi, I am Debasis Sil'"
      ]
     },
     "execution_count": 5,
     "metadata": {},
     "output_type": "execute_result"
    }
   ],
   "source": [
    "# Here whenever the variabler is called later, the output is given\n",
    "\n",
    "a"
   ]
  },
  {
   "cell_type": "code",
   "execution_count": 9,
   "metadata": {},
   "outputs": [
    {
     "data": {
      "text/plain": [
       "str"
      ]
     },
     "execution_count": 9,
     "metadata": {},
     "output_type": "execute_result"
    }
   ],
   "source": [
    "# The type of output is always a string\n",
    "\n",
    "type(a)"
   ]
  },
  {
   "cell_type": "code",
   "execution_count": 7,
   "metadata": {},
   "outputs": [
    {
     "name": "stdout",
     "output_type": "stream",
     "text": [
      "Please enter a number: 25\n"
     ]
    }
   ],
   "source": [
    "# With a variable, the output is stored\n",
    "\n",
    "z = input('Please enter a number: ')"
   ]
  },
  {
   "cell_type": "code",
   "execution_count": 11,
   "metadata": {},
   "outputs": [
    {
     "data": {
      "text/plain": [
       "str"
      ]
     },
     "execution_count": 11,
     "metadata": {},
     "output_type": "execute_result"
    }
   ],
   "source": [
    "# The type of output is always a string\n",
    "\n",
    "type(z)"
   ]
  },
  {
   "cell_type": "code",
   "execution_count": 12,
   "metadata": {},
   "outputs": [
    {
     "data": {
      "text/plain": [
       "'25'"
      ]
     },
     "execution_count": 12,
     "metadata": {},
     "output_type": "execute_result"
    }
   ],
   "source": [
    "z"
   ]
  },
  {
   "cell_type": "code",
   "execution_count": 14,
   "metadata": {},
   "outputs": [],
   "source": [
    "# To change it to int simply put int()\n",
    "\n",
    "y = int(z)"
   ]
  },
  {
   "cell_type": "code",
   "execution_count": 15,
   "metadata": {},
   "outputs": [
    {
     "data": {
      "text/plain": [
       "int"
      ]
     },
     "execution_count": 15,
     "metadata": {},
     "output_type": "execute_result"
    }
   ],
   "source": [
    "type(y)"
   ]
  },
  {
   "cell_type": "code",
   "execution_count": 16,
   "metadata": {},
   "outputs": [
    {
     "data": {
      "text/plain": [
       "25"
      ]
     },
     "execution_count": 16,
     "metadata": {},
     "output_type": "execute_result"
    }
   ],
   "source": [
    "y"
   ]
  },
  {
   "cell_type": "code",
   "execution_count": 17,
   "metadata": {},
   "outputs": [
    {
     "name": "stdout",
     "output_type": "stream",
     "text": [
      "Please enter a number: 25\n"
     ]
    }
   ],
   "source": [
    "# we can also do it directly in Python\n",
    "\n",
    "z = int(input('Please enter a number: '))"
   ]
  },
  {
   "cell_type": "code",
   "execution_count": 18,
   "metadata": {},
   "outputs": [
    {
     "data": {
      "text/plain": [
       "25"
      ]
     },
     "execution_count": 18,
     "metadata": {},
     "output_type": "execute_result"
    }
   ],
   "source": [
    "z"
   ]
  },
  {
   "cell_type": "code",
   "execution_count": 20,
   "metadata": {},
   "outputs": [
    {
     "data": {
      "text/plain": [
       "int"
      ]
     },
     "execution_count": 20,
     "metadata": {},
     "output_type": "execute_result"
    }
   ],
   "source": [
    "type(z)"
   ]
  },
  {
   "cell_type": "markdown",
   "metadata": {},
   "source": [
    "Validating User Input"
   ]
  },
  {
   "cell_type": "code",
   "execution_count": 7,
   "metadata": {},
   "outputs": [
    {
     "name": "stdout",
     "output_type": "stream",
     "text": [
      "Please give a number (1-10): 5\n"
     ]
    },
    {
     "data": {
      "text/plain": [
       "5"
      ]
     },
     "execution_count": 7,
     "metadata": {},
     "output_type": "execute_result"
    }
   ],
   "source": [
    "# Let's ask for an input\n",
    "\n",
    "int(input('Please give a number (1-10): '))"
   ]
  },
  {
   "cell_type": "code",
   "execution_count": 8,
   "metadata": {},
   "outputs": [
    {
     "name": "stdout",
     "output_type": "stream",
     "text": [
      "Please give a number (1-10): One\n"
     ]
    },
    {
     "ename": "ValueError",
     "evalue": "invalid literal for int() with base 10: 'One'",
     "output_type": "error",
     "traceback": [
      "\u001b[1;31m---------------------------------------------------------------------------\u001b[0m",
      "\u001b[1;31mValueError\u001b[0m                                Traceback (most recent call last)",
      "\u001b[1;32m<ipython-input-8-c6e8de3cdc3d>\u001b[0m in \u001b[0;36m<module>\u001b[1;34m\u001b[0m\n\u001b[0;32m      2\u001b[0m \u001b[1;33m\u001b[0m\u001b[0m\n\u001b[0;32m      3\u001b[0m \u001b[1;33m\u001b[0m\u001b[0m\n\u001b[1;32m----> 4\u001b[1;33m \u001b[0mint\u001b[0m\u001b[1;33m(\u001b[0m\u001b[0minput\u001b[0m\u001b[1;33m(\u001b[0m\u001b[1;34m'Please give a number (1-10): '\u001b[0m\u001b[1;33m)\u001b[0m\u001b[1;33m)\u001b[0m\u001b[1;33m\u001b[0m\u001b[1;33m\u001b[0m\u001b[0m\n\u001b[0m\u001b[0;32m      5\u001b[0m \u001b[1;33m\u001b[0m\u001b[0m\n\u001b[0;32m      6\u001b[0m \u001b[1;31m# Error 1 - When a String is given as an input that cannot be converted into an int, it will throw an error\u001b[0m\u001b[1;33m\u001b[0m\u001b[1;33m\u001b[0m\u001b[1;33m\u001b[0m\u001b[0m\n",
      "\u001b[1;31mValueError\u001b[0m: invalid literal for int() with base 10: 'One'"
     ]
    }
   ],
   "source": [
    "# There are 2 specific problems to it - Error 1\n",
    "\n",
    "\n",
    "int(input('Please give a number (1-10): '))\n",
    "\n",
    "# Error 1 - When a String is given as an input that cannot be converted into an int, it will throw an error"
   ]
  },
  {
   "cell_type": "code",
   "execution_count": 9,
   "metadata": {},
   "outputs": [
    {
     "name": "stdout",
     "output_type": "stream",
     "text": [
      "Please give a number (1-10): 100\n"
     ]
    },
    {
     "data": {
      "text/plain": [
       "100"
      ]
     },
     "execution_count": 9,
     "metadata": {},
     "output_type": "execute_result"
    }
   ],
   "source": [
    "# There are 2 specific problems to it - Error 2\n",
    "\n",
    "\n",
    "int(input('Please give a number (1-10): '))\n",
    "\n",
    "# Error 2 - Even though a parameter is set to enter (1-10), there is no check for the same. Any number , it will take."
   ]
  },
  {
   "cell_type": "markdown",
   "metadata": {},
   "source": [
    "How to FIX the errors"
   ]
  },
  {
   "cell_type": "code",
   "execution_count": 247,
   "metadata": {},
   "outputs": [],
   "source": [
    "# Fixing Error 1\n",
    "# When a String is given as an input that cannot be converted into an int, it will throw an error\n",
    "\n",
    "# Start with def\n",
    "def right_num():\n",
    "    \n",
    "    # Set some parameters within def\n",
    "    \n",
    "    a = 'Cannot be converted to int'\n",
    "    b = 'You need to enter a Number only'\n",
    "    c = 'You need to enter numbers between 1 to 10 only'\n",
    "    d = 'Thank You'\n",
    "    \n",
    "    # Start with a while loop, as while loop wil continue infinitely until the parameter is True\n",
    "    \n",
    "    while a.isdigit() == False:\n",
    "        \n",
    "        a = input('Please enter a number (1-10): ')\n",
    "    \n",
    "    # Put an if statement for fecilitate the user\n",
    "    \n",
    "        if a.isdigit() == False:\n",
    "            print (b)\n",
    "            \n",
    "        else:\n",
    "            print(d)\n",
    "    \n",
    "    # Lastly when all things are in place return the 'str(by default)' with an 'int'\n",
    "    \n",
    "    return int(a)\n",
    "   \n",
    "    "
   ]
  },
  {
   "cell_type": "code",
   "execution_count": 248,
   "metadata": {},
   "outputs": [
    {
     "name": "stdout",
     "output_type": "stream",
     "text": [
      "Please enter a number (1-10): sdbd\n",
      "You need to enter a Number only\n",
      "Please enter a number (1-10): seven\n",
      "You need to enter a Number only\n",
      "Please enter a number (1-10): 99\n",
      "Thank You\n"
     ]
    },
    {
     "data": {
      "text/plain": [
       "99"
      ]
     },
     "execution_count": 248,
     "metadata": {},
     "output_type": "execute_result"
    }
   ],
   "source": [
    "right_num()"
   ]
  },
  {
   "cell_type": "code",
   "execution_count": 70,
   "metadata": {},
   "outputs": [],
   "source": [
    "# Fixing Error 2\n",
    "# Even though a parameter is set to enter (1-10), there is no check for the same. Any number, it will take\n",
    "\n",
    "def right_num():\n",
    "    \n",
    "    \n",
    "    a = 'Cannot be converted to int'\n",
    "    b = 'You need to enter a Number only'\n",
    "    c = 'You need to enter numbers between 1 to 10 only'\n",
    "    d = 'Thank You'\n",
    "    e = range(1,10)\n",
    "    \n",
    "    while a.isdigit() == False or e == False:\n",
    "        a = input('Please enter a number (1-10): ')\n",
    "    \n",
    "        if a.isdigit() == False:\n",
    "            print (b)\n",
    "            \n",
    "        elif e == False:\n",
    "            print (c)\n",
    "                \n",
    "            if a.isdigit() == True:\n",
    "                if int(a) in e:\n",
    "                    print (e)\n",
    "        \n",
    "    return int(a)\n",
    "    "
   ]
  },
  {
   "cell_type": "code",
   "execution_count": 71,
   "metadata": {},
   "outputs": [
    {
     "name": "stdout",
     "output_type": "stream",
     "text": [
      "Please enter a number (1-10): 44\n"
     ]
    },
    {
     "data": {
      "text/plain": [
       "44"
      ]
     },
     "execution_count": 71,
     "metadata": {},
     "output_type": "execute_result"
    }
   ],
   "source": [
    "right_num()"
   ]
  },
  {
   "cell_type": "markdown",
   "metadata": {},
   "source": [
    "BEST SOLUTION I COULD FIND"
   ]
  },
  {
   "cell_type": "code",
   "execution_count": 19,
   "metadata": {},
   "outputs": [
    {
     "name": "stdout",
     "output_type": "stream",
     "text": [
      "Please give a number (1-10): UUU\n",
      "You need to enter a digit only\n",
      "Please give a number (1-10): 654\n",
      "You need to enter a number between 1 and 10\n",
      "Please give a number (1-10): 5\n",
      "Thank You\n",
      "Rate Your Service Provider (1-10): MBNNBBCV4586\n",
      "You need to enter a digit only\n",
      "Rate Your Service Provider (1-10): 698/\n",
      "You need to enter a digit only\n",
      "Rate Your Service Provider (1-10): 65\n",
      "You need to enter a number between 1 and 10\n",
      "Rate Your Service Provider (1-10): 9\n",
      "Thank You\n"
     ]
    }
   ],
   "source": [
    "# wrapping with a def and a prompt will help it use multiple times\n",
    "\n",
    "def specific_nums(prompt):\n",
    "    \n",
    "    # while will ask for infinite times until the specifications are met\n",
    "    while True:\n",
    "        \n",
    "        # Try will roll it everytime\n",
    "        try:\n",
    "            value = int(input(prompt))\n",
    "         \n",
    "        # Except ValueError means that when ever value error occures it will Continue\n",
    "        except ValueError:\n",
    "            print ('You need to enter a digit only')    \n",
    "            \n",
    "            # Contonue means it will Continue to ask till conditions are not met\n",
    "            continue\n",
    "        \n",
    "        # If sets a pre-condition\n",
    "        if value < 1 or value > 10:\n",
    "            print ('You need to enter a number between 1 and 10')\n",
    "            \n",
    "            # With the pre-condition it will Continue\n",
    "            continue\n",
    "            \n",
    "        # When pre-condition breaches it will Break out of the loop    \n",
    "        else:\n",
    "            print('Thank You')\n",
    "            break\n",
    "    \n",
    "    # The Value is returned\n",
    "    return value\n",
    "            \n",
    "# It can be used for a variety of commands\n",
    "number_details = specific_nums('Please give a number (1-10): ') \n",
    "rate_services = specific_nums('Rate Your Service Provider (1-10): ')\n",
    "\n",
    "\n",
    "\"\"\" \n",
    "\n",
    "def specific_nums(prompt):\n",
    "    \n",
    "    while True:\n",
    "        try:\n",
    "            value = int(input(prompt))\n",
    "            \n",
    "        except ValueError:\n",
    "            print ('You need to enter a digit only')    \n",
    "            \n",
    "            continue\n",
    "        \n",
    "        if value < 1 or value > 10:\n",
    "            print ('You need to enter a number between 1 and 10')\n",
    "            \n",
    "            continue\n",
    "             \n",
    "        else:\n",
    "            print('Thank You')\n",
    "            break\n",
    "    \n",
    "    return value\n",
    "            \n",
    "number_details = specific_nums('Please give a number (1-10): ') \n",
    "rate_services = specific_nums('Rate Your Service Provider (1-10): ')\"\"\""
   ]
  },
  {
   "cell_type": "code",
   "execution_count": null,
   "metadata": {},
   "outputs": [],
   "source": []
  },
  {
   "cell_type": "code",
   "execution_count": 21,
   "metadata": {},
   "outputs": [
    {
     "name": "stdout",
     "output_type": "stream",
     "text": [
      "Please enter your age: gtr56\n",
      "Sorry, I didn't understand that.\n",
      "Please enter your age: -9856\n",
      "Sorry, your response must not be negative.\n",
      "Please enter your age: 9\n"
     ]
    }
   ],
   "source": [
    "def get_non_negative_int(prompt):\n",
    "    while True:\n",
    "        try:\n",
    "            a = int(input(prompt))\n",
    "        except ValueError:\n",
    "            print(\"Sorry, I didn't understand that.\")\n",
    "            continue\n",
    "\n",
    "        if a < 0:\n",
    "            print(\"Sorry, your response must not be negative.\")\n",
    "            continue\n",
    "        else:\n",
    "            break\n",
    "    return a\n",
    "\n",
    "age = get_non_negative_int(\"Please enter your age: \")"
   ]
  },
  {
   "cell_type": "code",
   "execution_count": 21,
   "metadata": {},
   "outputs": [],
   "source": [
    "def school_adm(prompt):\n",
    "    \n",
    "    while True:\n",
    "        try:\n",
    "            a = int(input(prompt))\n",
    "        \n",
    "        except ValueError:\n",
    "            print (\"You need to enter digits only. It is not a digit\")\n",
    "            continue\n",
    "            \n",
    "        if a < 5 or a > 15:\n",
    "            print('Please enter a valid number between 5 and 15')\n",
    "            continue\n",
    "        \n",
    "        else:\n",
    "            print ('Thank You')\n",
    "            break\n",
    "            \n",
    "    return a    "
   ]
  },
  {
   "cell_type": "code",
   "execution_count": 22,
   "metadata": {},
   "outputs": [
    {
     "name": "stdout",
     "output_type": "stream",
     "text": [
      "What is Your age (5-15): hyt67\n",
      "You need to enter digits only. It is not a digit\n",
      "What is Your age (5-15): -99\n",
      "Please enter a valid number between 5 and 15\n",
      "What is Your age (5-15): 14\n",
      "Thank You\n"
     ]
    },
    {
     "data": {
      "text/plain": [
       "14"
      ]
     },
     "execution_count": 22,
     "metadata": {},
     "output_type": "execute_result"
    }
   ],
   "source": [
    "school_adm('What is Your age (5-15): ')"
   ]
  },
  {
   "cell_type": "code",
   "execution_count": null,
   "metadata": {},
   "outputs": [],
   "source": []
  },
  {
   "cell_type": "markdown",
   "metadata": {},
   "source": [
    "Make a Board Game\n",
    "\n",
    "Here User can choose any position in a Board Game and change it. The change will be reflected"
   ]
  },
  {
   "cell_type": "code",
   "execution_count": 2,
   "metadata": {},
   "outputs": [
    {
     "name": "stdout",
     "output_type": "stream",
     "text": [
      "Here is my Game to Play\n",
      "\n",
      "['0', '1', '2']\n"
     ]
    }
   ],
   "source": [
    "# STEP 1\n",
    "# Let us Built a Board to Play the Game\n",
    "\n",
    "a = ['0', '1', '2']\n",
    "\n",
    "def built_game(a):\n",
    "    print('Here is my Game to Play\\n')\n",
    "    print(a)\n",
    "    \n",
    "built_game(a)"
   ]
  },
  {
   "cell_type": "code",
   "execution_count": 3,
   "metadata": {},
   "outputs": [],
   "source": [
    "# STEP 2\n",
    "# Let us now built the logic - Asking the user to choose any number in the Board to change \n",
    "\n",
    "def game_detail(prompt):\n",
    "    \n",
    "    while True:\n",
    "        \n",
    "        try:\n",
    "            b = int(input(prompt))\n",
    "            \n",
    "        except ValueError:\n",
    "                print ('You need to choose a digit\\n')\n",
    "                continue\n",
    "                \n",
    "        if b<0 or b>2:     \n",
    "            print ('You need to choose between 0, 1 and 2\\n')\n",
    "            continue\n",
    "                \n",
    "        else:\n",
    "            print ('Great!')\n",
    "            break\n",
    "\n",
    "    return b\n"
   ]
  },
  {
   "cell_type": "code",
   "execution_count": 4,
   "metadata": {},
   "outputs": [
    {
     "name": "stdout",
     "output_type": "stream",
     "text": [
      "Please write a string in 0, 1 or 2: 1\n",
      "Great!\n"
     ]
    },
    {
     "data": {
      "text/plain": [
       "1"
      ]
     },
     "execution_count": 4,
     "metadata": {},
     "output_type": "execute_result"
    }
   ],
   "source": [
    "game_detail('Please write a string in 0, 1 or 2: ') "
   ]
  },
  {
   "cell_type": "code",
   "execution_count": 5,
   "metadata": {},
   "outputs": [],
   "source": [
    "# STEP 3\n",
    "# Next, let's ask the user to change it by writing anything he wants against the number he has chosen\n",
    "\n",
    "def change_to_str(a,b):\n",
    "    \n",
    "    c = input('Please write anything against the number you have chosen: ')\n",
    "    \n",
    "    a[b] = c\n",
    "    \n",
    "    return a"
   ]
  },
  {
   "cell_type": "code",
   "execution_count": 6,
   "metadata": {},
   "outputs": [
    {
     "name": "stdout",
     "output_type": "stream",
     "text": [
      "Please write anything against the number you have chosen: Check\n"
     ]
    },
    {
     "data": {
      "text/plain": [
       "['0', 'Check', '2']"
      ]
     },
     "execution_count": 6,
     "metadata": {},
     "output_type": "execute_result"
    }
   ],
   "source": [
    "change_to_str(a,1)"
   ]
  },
  {
   "cell_type": "code",
   "execution_count": 7,
   "metadata": {},
   "outputs": [
    {
     "name": "stdout",
     "output_type": "stream",
     "text": [
      "Please write anything against the number you have chosen: Checkkk\n"
     ]
    },
    {
     "data": {
      "text/plain": [
       "['0', 'Check', 'Checkkk']"
      ]
     },
     "execution_count": 7,
     "metadata": {},
     "output_type": "execute_result"
    }
   ],
   "source": [
    "change_to_str(a,2)"
   ]
  },
  {
   "cell_type": "code",
   "execution_count": 8,
   "metadata": {},
   "outputs": [],
   "source": [
    "# STEP 4\n",
    "# After every number we will ask the user if he wants to play or not\n",
    "\n",
    "def wanna_play(prompt):\n",
    "    \n",
    "    c = 'Wrong'\n",
    "    \n",
    "    while c not in prompt:\n",
    "        \n",
    "        c = input(prompt).upper()\n",
    "        \n",
    "        if c[:1] == 'Y':\n",
    "            return True\n",
    "        \n",
    "        elif c[:1] == 'N':\n",
    "            return False\n",
    "           \n",
    "        else:\n",
    "            print ('Please answer in either Yes or No \\n') \n",
    "            "
   ]
  },
  {
   "cell_type": "code",
   "execution_count": 9,
   "metadata": {},
   "outputs": [
    {
     "name": "stdout",
     "output_type": "stream",
     "text": [
      "Do You want to continue playing? n\n"
     ]
    },
    {
     "data": {
      "text/plain": [
       "False"
      ]
     },
     "execution_count": 9,
     "metadata": {},
     "output_type": "execute_result"
    }
   ],
   "source": [
    "wanna_play('Do You want to continue playing? ')"
   ]
  },
  {
   "cell_type": "code",
   "execution_count": 10,
   "metadata": {},
   "outputs": [
    {
     "name": "stdout",
     "output_type": "stream",
     "text": [
      "Do You Love me: y\n"
     ]
    },
    {
     "data": {
      "text/plain": [
       "True"
      ]
     },
     "execution_count": 10,
     "metadata": {},
     "output_type": "execute_result"
    }
   ],
   "source": [
    "wanna_play('Do You Love me: ')"
   ]
  },
  {
   "cell_type": "code",
   "execution_count": null,
   "metadata": {},
   "outputs": [],
   "source": []
  },
  {
   "cell_type": "code",
   "execution_count": 13,
   "metadata": {},
   "outputs": [
    {
     "name": "stdout",
     "output_type": "stream",
     "text": [
      "Here is my Game to Play\n",
      "\n",
      "['0', '1', '2']\n",
      "You need to choose a digit between 0, 1 and 2: red\n",
      "You need to choose a digit\n",
      "\n",
      "You need to choose a digit between 0, 1 and 2: -9\n",
      "You need to choose between 0, 1 and 2\n",
      "\n",
      "You need to choose a digit between 0, 1 and 2: 0\n",
      "Great!\n",
      "Please write anything against the number you have chosen: Hallo\n",
      "Here is my Game to Play\n",
      "\n",
      "['Hallo', '1', '2']\n",
      "Do You want to continue playing? y\n",
      "Here is my Game to Play\n",
      "\n",
      "['Hallo', '1', '2']\n",
      "You need to choose a digit between 0, 1 and 2: o9i\n",
      "You need to choose a digit\n",
      "\n",
      "You need to choose a digit between 0, 1 and 2: 99.26\n",
      "You need to choose a digit\n",
      "\n",
      "You need to choose a digit between 0, 1 and 2: 2\n",
      "Great!\n",
      "Please write anything against the number you have chosen: World\n",
      "Here is my Game to Play\n",
      "\n",
      "['Hallo', '1', 'World']\n",
      "Do You want to continue playing? y\n",
      "Here is my Game to Play\n",
      "\n",
      "['Hallo', '1', 'World']\n",
      "You need to choose a digit between 0, 1 and 2: e4\n",
      "You need to choose a digit\n",
      "\n",
      "You need to choose a digit between 0, 1 and 2: 2\n",
      "Great!\n",
      "Please write anything against the number you have chosen: People\n",
      "Here is my Game to Play\n",
      "\n",
      "['Hallo', '1', 'People']\n",
      "Do You want to continue playing? n\n"
     ]
    }
   ],
   "source": [
    "# STEP 5\n",
    "# FInally Let's Complete the Game by putting everything in order\n",
    "\n",
    "\n",
    "playing_game = True\n",
    "a = ['0', '1', '2']\n",
    "\n",
    "while playing_game:\n",
    "    \n",
    "    display_game = built_game(a)                                                       # Step 1\n",
    "    \n",
    "    detail = game_detail('You need to choose a digit between 0, 1 and 2: ')            # Step 2\n",
    "    \n",
    "    string = change_to_str(a,detail)                                                   # Step 3\n",
    "    \n",
    "    built_game(string)                                                                            # Step 1 Repeat\n",
    "    \n",
    "    playing_game = wanna_play('Do You want to continue playing? ')                     # Step 4"
   ]
  },
  {
   "cell_type": "code",
   "execution_count": null,
   "metadata": {},
   "outputs": [],
   "source": []
  },
  {
   "cell_type": "code",
   "execution_count": null,
   "metadata": {},
   "outputs": [],
   "source": []
  },
  {
   "cell_type": "code",
   "execution_count": null,
   "metadata": {},
   "outputs": [],
   "source": []
  },
  {
   "cell_type": "code",
   "execution_count": null,
   "metadata": {},
   "outputs": [],
   "source": []
  },
  {
   "cell_type": "code",
   "execution_count": null,
   "metadata": {},
   "outputs": [],
   "source": []
  }
 ],
 "metadata": {
  "kernelspec": {
   "display_name": "Python 3",
   "language": "python",
   "name": "python3"
  },
  "language_info": {
   "codemirror_mode": {
    "name": "ipython",
    "version": 3
   },
   "file_extension": ".py",
   "mimetype": "text/x-python",
   "name": "python",
   "nbconvert_exporter": "python",
   "pygments_lexer": "ipython3",
   "version": "3.8.5"
  }
 },
 "nbformat": 4,
 "nbformat_minor": 4
}
