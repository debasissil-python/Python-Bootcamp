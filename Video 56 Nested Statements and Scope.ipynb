{
 "cells": [
  {
   "cell_type": "markdown",
   "metadata": {},
   "source": [
    "Nested Statements - Statements within a statement (Functions within a Function) are called Nested Statements or \n",
    "Nested Functions"
   ]
  },
  {
   "cell_type": "markdown",
   "metadata": {},
   "source": [
    "L - Local Functions\n",
    "\n",
    "E - Enclosing Functions Local\n",
    "\n",
    "G - Global Functions\n",
    "\n",
    "B - Built-in Functions"
   ]
  },
  {
   "cell_type": "markdown",
   "metadata": {},
   "source": [
    "SCOPE"
   ]
  },
  {
   "cell_type": "code",
   "execution_count": 39,
   "metadata": {},
   "outputs": [
    {
     "name": "stdout",
     "output_type": "stream",
     "text": [
      "300\n"
     ]
    }
   ],
   "source": [
    "# LOCAL FUNCTION\n",
    "\n",
    "\n",
    "x = 500                                                # Global Function\n",
    "\n",
    "def demo():\n",
    "    x = 300                                            # Local Function\n",
    "    print (x)\n",
    "       \n",
    "demo()\n",
    "\n",
    "# Always the Local Fucntion is to be called First [LEGB Method] inside a Function"
   ]
  },
  {
   "cell_type": "code",
   "execution_count": 40,
   "metadata": {},
   "outputs": [
    {
     "name": "stdout",
     "output_type": "stream",
     "text": [
      "300\n",
      "2\n"
     ]
    }
   ],
   "source": [
    "# NESTED FUNCTION\n",
    "\n",
    "\n",
    "x = 500                                                # Global Function\n",
    "\n",
    "def demo():\n",
    "    x = 300                                            # Local Function\n",
    "    print (x)\n",
    "    \n",
    "    def demo_nested():\n",
    "        x = 2                                          # Nested Function\n",
    "        print (x)\n",
    "    demo_nested()\n",
    "        \n",
    "            \n",
    "demo()\n",
    "\n",
    "\n",
    "# Function inside a function [Nested Function] will be printed"
   ]
  },
  {
   "cell_type": "code",
   "execution_count": 41,
   "metadata": {},
   "outputs": [
    {
     "name": "stdout",
     "output_type": "stream",
     "text": [
      "300\n",
      "2\n",
      "500\n"
     ]
    }
   ],
   "source": [
    "# GLOBAL FUNCTION\n",
    "\n",
    "\n",
    "x = 500                                               # Global Function\n",
    "\n",
    "def demo():\n",
    "    x = 300                                           # Local Function\n",
    "    print (x)\n",
    "    \n",
    "    def demo_nested():\n",
    "        x = 2                                         # Nested Function\n",
    "        print (x)\n",
    "    demo_nested()\n",
    "    \n",
    "       \n",
    "demo()\n",
    "print (x)\n",
    "\n",
    "# Outside a Function the Global Function will be printed"
   ]
  },
  {
   "cell_type": "code",
   "execution_count": 43,
   "metadata": {},
   "outputs": [
    {
     "name": "stdout",
     "output_type": "stream",
     "text": [
      "300\n",
      "2\n",
      "300\n"
     ]
    }
   ],
   "source": [
    "# USING GLOBAL KEYWORDS\n",
    "\n",
    "\n",
    "x = 500                                               # Global Function\n",
    "\n",
    "def demo():\n",
    "    \n",
    "    global x                         # GLOBAL KEYWORD\n",
    "    \n",
    "    x = 300                                           # Local Function\n",
    "    print (x)\n",
    "    \n",
    "    def demo_nested():\n",
    "        x = 2                                         # Nested Function\n",
    "        print (x)\n",
    "    demo_nested()\n",
    "    \n",
    "       \n",
    "demo()\n",
    "print (x)\n",
    "\n",
    "# Using GLOBAL() keyword inside a Function changes the Global variable into Local Variable\n",
    "# But it does not change the nested function variable"
   ]
  },
  {
   "cell_type": "code",
   "execution_count": 89,
   "metadata": {},
   "outputs": [
    {
     "name": "stdout",
     "output_type": "stream",
     "text": [
      "100\n",
      "500\n"
     ]
    }
   ],
   "source": [
    "y = 500                                                                    # Global Function\n",
    "\n",
    "def demo_check():\n",
    "    y = 100                                                                # Local Function\n",
    "    return y                        # Prints Local Function Value\n",
    "\n",
    "print (demo_check())\n",
    "print(y)                            # Prints Global Function Value\n",
    "\n"
   ]
  },
  {
   "cell_type": "raw",
   "metadata": {},
   "source": [
    "\n"
   ]
  },
  {
   "cell_type": "code",
   "execution_count": null,
   "metadata": {},
   "outputs": [],
   "source": []
  },
  {
   "cell_type": "code",
   "execution_count": null,
   "metadata": {},
   "outputs": [],
   "source": []
  }
 ],
 "metadata": {
  "kernelspec": {
   "display_name": "Python 3",
   "language": "python",
   "name": "python3"
  },
  "language_info": {
   "codemirror_mode": {
    "name": "ipython",
    "version": 3
   },
   "file_extension": ".py",
   "mimetype": "text/x-python",
   "name": "python",
   "nbconvert_exporter": "python",
   "pygments_lexer": "ipython3",
   "version": "3.8.5"
  }
 },
 "nbformat": 4,
 "nbformat_minor": 4
}
