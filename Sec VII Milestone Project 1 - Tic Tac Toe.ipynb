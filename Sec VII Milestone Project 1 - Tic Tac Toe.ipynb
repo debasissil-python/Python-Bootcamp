{
 "cells": [
  {
   "cell_type": "markdown",
   "metadata": {},
   "source": [
    "Let's Build a Tic Tac Toe game"
   ]
  },
  {
   "cell_type": "code",
   "execution_count": null,
   "metadata": {},
   "outputs": [],
   "source": [
    "# STEP 1 - Creating a Board through a List or Dict\n",
    "\n",
    "# STEP 2 - Building the Logic of the Game. Choosing Player 1 and Player 2 through X or O.\n",
    "\n",
    "# STEP 3 - Playing the Game. P 1 will choose a no. from 1-9 and that no. will change to either X or O\n",
    "\n",
    "# STEP 4 - After P 1 plays , P 2 will play (Same process as Step 3 will follow)\n",
    "\n",
    "# STEP 5 - Checking which player wins after 5 clicks and then after every click\n",
    "\n",
    "# STEP 6 - When a player wins or the game draws, it is announced"
   ]
  },
  {
   "cell_type": "code",
   "execution_count": 16,
   "metadata": {},
   "outputs": [],
   "source": [
    "# STEP 1\n",
    "\n",
    "# Creating a Board through a List\n",
    "\n",
    "from IPython.display import clear_output\n",
    "\n",
    "def build_game(board):\n",
    "    \n",
    "    \n",
    "    clear_output()\n",
    "    \n",
    "    print(board[7] +'  '+'|'   +board[8]+'  '+  '|'+ board[9])\n",
    "    print('---|---|---')\n",
    "    print(board[4] +'  '+'|'   +board[5]+'  '+'|'+board[6])\n",
    "    print('---|---|---')\n",
    "    print(board[1] +'  '+'|'   +board[2]+'  '+'|'+board[3])"
   ]
  },
  {
   "cell_type": "code",
   "execution_count": 17,
   "metadata": {},
   "outputs": [
    {
     "name": "stdout",
     "output_type": "stream",
     "text": [
      "   |   | \n",
      "---|---|---\n",
      "   |   | \n",
      "---|---|---\n",
      "   |   | \n"
     ]
    }
   ],
   "source": [
    "# Creating a Board through a List\n",
    "\n",
    "board_test = ['#',' ',' ',' ',' ',' ',' ',' ',' ',' '] # '#' is given because of the indexing as everything starts from 0\n",
    "board = [' ']* 10\n",
    "build_game(board)"
   ]
  },
  {
   "cell_type": "code",
   "execution_count": 18,
   "metadata": {},
   "outputs": [],
   "source": [
    "\n",
    "# Creating a Board through a Dict\n",
    "\n",
    "#board_format = {'16':' ', '17' :' ','18':' ',\n",
    "#                '13':' ', '14' :' ','15':' ',\n",
    "#                '10':' ', '11' :' ','12':' ',\n",
    "#                 '7':' ', '8' :' ','9':' ',\n",
    "#                 '4':' ', '5' :' ','6':' ',\n",
    "#                 '1':' ', '2' :' ','3':' ',}\n",
    "\n",
    "\n",
    "#def build_game_dict(board):\n",
    "\n",
    "#    display (board_format)\n",
    "    \n",
    "#    print(board['16'] +' '+'|'+board['17']+' '+'|'+board['18'])\n",
    "#    print('--|--|--')\n",
    "#    print(board['13'] +' '+'|'+board['14']+' '+'|'+board['15'])\n",
    "#    print('--|--|--')\n",
    "#    print(board['10'] +' '+'|'+board['11']+' '+'|'+board['12'])\n",
    "#    print('--|--|--')\n",
    "#    print(board['7'] +' '+'|'+board['8']+' '+'|'+board['9'])\n",
    "#    print('--|--|--')\n",
    "#    print(board['4'] +' '+'|'+board['5']+' '+'|'+board['6'])\n",
    "#    print('--|--|--')\n",
    "#    print(board['1'] +' '+'|'+board['2']+' '+'|'+board['3'])\n",
    "    \n",
    "#"
   ]
  },
  {
   "cell_type": "code",
   "execution_count": 19,
   "metadata": {},
   "outputs": [],
   "source": [
    "# build_game_dict(board_format)"
   ]
  },
  {
   "cell_type": "code",
   "execution_count": null,
   "metadata": {},
   "outputs": [],
   "source": []
  },
  {
   "cell_type": "code",
   "execution_count": null,
   "metadata": {},
   "outputs": [],
   "source": []
  },
  {
   "cell_type": "code",
   "execution_count": 20,
   "metadata": {},
   "outputs": [],
   "source": [
    "# STEP 2\n",
    "\n",
    "# Building the Logic of the Game. Choosing Player 1 and Player 2.\n",
    "\n",
    "\n",
    "def build_logic():\n",
    "    \n",
    "    \"\"\"\n",
    "    Output = (P1, P2)                                        # Tuple Unpacking\n",
    "    \"\"\"\n",
    "    \n",
    "    while True:\n",
    "        try:\n",
    "            P1 = str(input('What do you want to choose (X or O)?: \\n')).upper()\n",
    "            \n",
    "        except ValueError:\n",
    "            continue\n",
    "            \n",
    "        if P1 == 'X':\n",
    "            \n",
    "            #print ('Player 1 is' +' ' + P1) \n",
    "            #print ('Player 2 is' +' ' + P2)\n",
    "            return ('X','O')                                 # Tuple Unpacking\n",
    "            break\n",
    "            \n",
    "        elif P1 == 'O':\n",
    "            \n",
    "            #print ('Player 1 is' + ' ' + P1) \n",
    "            #print ('Player 2 is' + ' ' + P2)\n",
    "            return ('O','X')                                 # Tuple Unpacking    \n",
    "            break\n",
    "        "
   ]
  },
  {
   "cell_type": "code",
   "execution_count": 21,
   "metadata": {},
   "outputs": [
    {
     "name": "stdout",
     "output_type": "stream",
     "text": [
      "What do you want to choose (X or O)?: \n",
      "x\n"
     ]
    }
   ],
   "source": [
    "P1, P2 = build_logic()"
   ]
  },
  {
   "cell_type": "code",
   "execution_count": 22,
   "metadata": {},
   "outputs": [
    {
     "data": {
      "text/plain": [
       "'O'"
      ]
     },
     "execution_count": 22,
     "metadata": {},
     "output_type": "execute_result"
    }
   ],
   "source": [
    "P2"
   ]
  },
  {
   "cell_type": "code",
   "execution_count": 23,
   "metadata": {},
   "outputs": [
    {
     "name": "stdout",
     "output_type": "stream",
     "text": [
      "What do you want to choose (X or O)?: \n",
      "o\n"
     ]
    }
   ],
   "source": [
    "P1, P2 = build_logic()"
   ]
  },
  {
   "cell_type": "code",
   "execution_count": 24,
   "metadata": {},
   "outputs": [
    {
     "data": {
      "text/plain": [
       "'X'"
      ]
     },
     "execution_count": 24,
     "metadata": {},
     "output_type": "execute_result"
    }
   ],
   "source": [
    "P2"
   ]
  },
  {
   "cell_type": "code",
   "execution_count": 78,
   "metadata": {},
   "outputs": [],
   "source": [
    "# STEP 3\n",
    "\n",
    "# Finding a Position\n",
    "\n",
    "def finding_position(board):\n",
    "    \n",
    "    position = 0\n",
    "    \n",
    "    \n",
    "    while position not in range(10):\n",
    "        position = input (int('Please choose a position between 1-9: '))\n",
    "        \n",
    "        \n",
    "        \n",
    "        position +=1\n",
    "        \n",
    "\n"
   ]
  },
  {
   "cell_type": "code",
   "execution_count": 79,
   "metadata": {},
   "outputs": [],
   "source": [
    "finding_position(board)"
   ]
  },
  {
   "cell_type": "code",
   "execution_count": null,
   "metadata": {},
   "outputs": [],
   "source": []
  },
  {
   "cell_type": "code",
   "execution_count": 59,
   "metadata": {},
   "outputs": [],
   "source": [
    "# STEP 3\n",
    "\n",
    "# Playing the Game. P 1 will choose a no. from 1-9 and that no. will change to either X or O\n",
    "\n",
    "def game_playing(board, P1, position):\n",
    "    \n",
    "    board[position] = P1\n",
    "   "
   ]
  },
  {
   "cell_type": "code",
   "execution_count": 60,
   "metadata": {},
   "outputs": [
    {
     "data": {
      "text/plain": [
       "['#', ' ', 'O', 'X', ' ', ' ', ' ', ' ', ' ', ' ']"
      ]
     },
     "execution_count": 60,
     "metadata": {},
     "output_type": "execute_result"
    }
   ],
   "source": [
    "board_test"
   ]
  },
  {
   "cell_type": "code",
   "execution_count": 61,
   "metadata": {},
   "outputs": [
    {
     "name": "stdout",
     "output_type": "stream",
     "text": [
      "   |   | \n",
      "---|---|---\n",
      "   |   | \n",
      "---|---|---\n",
      "   |O  |X\n"
     ]
    }
   ],
   "source": [
    "game_playing(board_test, P1, 3)\n",
    "build_game(board_test)\n",
    "\n"
   ]
  },
  {
   "cell_type": "code",
   "execution_count": 62,
   "metadata": {},
   "outputs": [],
   "source": [
    "# STEP 4 \n",
    "\n",
    "# After P 1 plays , P 2 will play (Same process as Step 3 will follow)\n",
    "\n",
    "def game_playing_repeat(board, P2, position):\n",
    "    \n",
    "    \n",
    "    board[position] = P2\n",
    "    \n",
    "    "
   ]
  },
  {
   "cell_type": "code",
   "execution_count": 63,
   "metadata": {},
   "outputs": [
    {
     "name": "stdout",
     "output_type": "stream",
     "text": [
      "   |   | \n",
      "---|---|---\n",
      "   |   | \n",
      "---|---|---\n",
      "   |O  |X\n"
     ]
    }
   ],
   "source": [
    "game_playing(board_test, P2,2)\n",
    "build_game(board_test)"
   ]
  },
  {
   "cell_type": "code",
   "execution_count": 67,
   "metadata": {},
   "outputs": [],
   "source": [
    "# STEP 5 \n",
    "\n",
    "# Checking which player wins after 5 clicks and then after every click\n",
    "\n",
    "def player_win(board,build_logic):\n",
    "    \n",
    "    if (board[7]==board[8]==board[9]==P1):\n",
    "        print('P1 wins!')\n",
    "    elif (board[4]==board[5]==board[6]==P1):\n",
    "        print('P1 wins!')\n",
    "    elif (board[1]==board[2]==board[3]==P1):\n",
    "        print('P1 wins!')\n",
    "    elif (board[1]==board[5]==board[9]==P1):\n",
    "        print('P1 wins!')\n",
    "    elif (board[3]==board[5]==board[9]==P1):\n",
    "        print('P1 wins!')\n",
    "    elif (board[1]==board[4]==board[7]==P1):\n",
    "        print('P1 wins!')\n",
    "    elif (board[2]==board[5]==board[8]==P1):\n",
    "        print('P1 wins!')\n",
    "    elif (board[3]==board[6]==board[9]==P1):\n",
    "        print('P1 wins!')\n",
    "        \n",
    "    elif (board[7]==board[8]==board[9]==P2):\n",
    "        print('P2 wins!')\n",
    "    elif (board[4]==board[5]==board[6]==P2):\n",
    "        print('P2 wins!')\n",
    "    elif (board[1]==board[2]==board[3]==P2):\n",
    "        print('P2 wins!')\n",
    "    elif (board[1]==board[5]==board[9]==P2):\n",
    "        print('P2 wins!')\n",
    "    elif (board[3]==board[5]==board[9]==P2):\n",
    "        print('P2 wins!')\n",
    "    elif (board[1]==board[4]==board[7]==P2):\n",
    "        print('P2 wins!')\n",
    "    elif (board[2]==board[5]==board[8]==P2):\n",
    "        print('P2 wins!')\n",
    "    elif (board[3]==board[6]==board[9]==P2):\n",
    "        print('P2 wins!')\n",
    "        \n",
    "    else:\n",
    "        print (\"It's a Tie!\")\n",
    "        \n",
    "    \n"
   ]
  },
  {
   "cell_type": "code",
   "execution_count": 69,
   "metadata": {},
   "outputs": [
    {
     "name": "stdout",
     "output_type": "stream",
     "text": [
      "   |   | \n",
      "---|---|---\n",
      "   |   | \n",
      "---|---|---\n",
      "   |   | \n",
      "It's a Tie!\n"
     ]
    },
    {
     "ename": "KeyboardInterrupt",
     "evalue": "",
     "output_type": "error",
     "traceback": [
      "\u001b[1;31m---------------------------------------------------------------------------\u001b[0m",
      "\u001b[1;31mKeyboardInterrupt\u001b[0m                         Traceback (most recent call last)",
      "\u001b[1;32m<ipython-input-69-e4872ee3510f>\u001b[0m in \u001b[0;36m<module>\u001b[1;34m\u001b[0m\n\u001b[0;32m     25\u001b[0m     \u001b[1;32mif\u001b[0m \u001b[1;34m'X'\u001b[0m \u001b[1;33m==\u001b[0m \u001b[0mP1\u001b[0m\u001b[1;33m:\u001b[0m\u001b[1;33m\u001b[0m\u001b[1;33m\u001b[0m\u001b[0m\n\u001b[0;32m     26\u001b[0m \u001b[1;33m\u001b[0m\u001b[0m\n\u001b[1;32m---> 27\u001b[1;33m         \u001b[0mbuild_game\u001b[0m\u001b[1;33m(\u001b[0m\u001b[0mboard\u001b[0m\u001b[1;33m)\u001b[0m\u001b[1;33m\u001b[0m\u001b[1;33m\u001b[0m\u001b[0m\n\u001b[0m\u001b[0;32m     28\u001b[0m \u001b[1;33m\u001b[0m\u001b[0m\n\u001b[0;32m     29\u001b[0m         \u001b[0mposition\u001b[0m \u001b[1;33m=\u001b[0m \u001b[0mfinding_position\u001b[0m\u001b[1;33m(\u001b[0m\u001b[0mboard\u001b[0m\u001b[1;33m)\u001b[0m\u001b[1;33m\u001b[0m\u001b[1;33m\u001b[0m\u001b[0m\n",
      "\u001b[1;32m<ipython-input-16-5a1493d533e0>\u001b[0m in \u001b[0;36mbuild_game\u001b[1;34m(board)\u001b[0m\n\u001b[0;32m      8\u001b[0m \u001b[1;33m\u001b[0m\u001b[0m\n\u001b[0;32m      9\u001b[0m \u001b[1;33m\u001b[0m\u001b[0m\n\u001b[1;32m---> 10\u001b[1;33m     \u001b[0mclear_output\u001b[0m\u001b[1;33m(\u001b[0m\u001b[1;33m)\u001b[0m\u001b[1;33m\u001b[0m\u001b[1;33m\u001b[0m\u001b[0m\n\u001b[0m\u001b[0;32m     11\u001b[0m \u001b[1;33m\u001b[0m\u001b[0m\n\u001b[0;32m     12\u001b[0m     \u001b[0mprint\u001b[0m\u001b[1;33m(\u001b[0m\u001b[0mboard\u001b[0m\u001b[1;33m[\u001b[0m\u001b[1;36m7\u001b[0m\u001b[1;33m]\u001b[0m \u001b[1;33m+\u001b[0m\u001b[1;34m'  '\u001b[0m\u001b[1;33m+\u001b[0m\u001b[1;34m'|'\u001b[0m   \u001b[1;33m+\u001b[0m\u001b[0mboard\u001b[0m\u001b[1;33m[\u001b[0m\u001b[1;36m8\u001b[0m\u001b[1;33m]\u001b[0m\u001b[1;33m+\u001b[0m\u001b[1;34m'  '\u001b[0m\u001b[1;33m+\u001b[0m  \u001b[1;34m'|'\u001b[0m\u001b[1;33m+\u001b[0m \u001b[0mboard\u001b[0m\u001b[1;33m[\u001b[0m\u001b[1;36m9\u001b[0m\u001b[1;33m]\u001b[0m\u001b[1;33m)\u001b[0m\u001b[1;33m\u001b[0m\u001b[1;33m\u001b[0m\u001b[0m\n",
      "\u001b[1;32m~\\anaconda3\\envs\\Python 38\\lib\\site-packages\\IPython\\core\\display.py\u001b[0m in \u001b[0;36mclear_output\u001b[1;34m(wait)\u001b[0m\n\u001b[0;32m   1462\u001b[0m     \u001b[1;32mfrom\u001b[0m \u001b[0mIPython\u001b[0m\u001b[1;33m.\u001b[0m\u001b[0mcore\u001b[0m\u001b[1;33m.\u001b[0m\u001b[0minteractiveshell\u001b[0m \u001b[1;32mimport\u001b[0m \u001b[0mInteractiveShell\u001b[0m\u001b[1;33m\u001b[0m\u001b[1;33m\u001b[0m\u001b[0m\n\u001b[0;32m   1463\u001b[0m     \u001b[1;32mif\u001b[0m \u001b[0mInteractiveShell\u001b[0m\u001b[1;33m.\u001b[0m\u001b[0minitialized\u001b[0m\u001b[1;33m(\u001b[0m\u001b[1;33m)\u001b[0m\u001b[1;33m:\u001b[0m\u001b[1;33m\u001b[0m\u001b[1;33m\u001b[0m\u001b[0m\n\u001b[1;32m-> 1464\u001b[1;33m         \u001b[0mInteractiveShell\u001b[0m\u001b[1;33m.\u001b[0m\u001b[0minstance\u001b[0m\u001b[1;33m(\u001b[0m\u001b[1;33m)\u001b[0m\u001b[1;33m.\u001b[0m\u001b[0mdisplay_pub\u001b[0m\u001b[1;33m.\u001b[0m\u001b[0mclear_output\u001b[0m\u001b[1;33m(\u001b[0m\u001b[0mwait\u001b[0m\u001b[1;33m)\u001b[0m\u001b[1;33m\u001b[0m\u001b[1;33m\u001b[0m\u001b[0m\n\u001b[0m\u001b[0;32m   1465\u001b[0m     \u001b[1;32melse\u001b[0m\u001b[1;33m:\u001b[0m\u001b[1;33m\u001b[0m\u001b[1;33m\u001b[0m\u001b[0m\n\u001b[0;32m   1466\u001b[0m         \u001b[0mprint\u001b[0m\u001b[1;33m(\u001b[0m\u001b[1;34m'\\033[2K\\r'\u001b[0m\u001b[1;33m,\u001b[0m \u001b[0mend\u001b[0m\u001b[1;33m=\u001b[0m\u001b[1;34m''\u001b[0m\u001b[1;33m)\u001b[0m\u001b[1;33m\u001b[0m\u001b[1;33m\u001b[0m\u001b[0m\n",
      "\u001b[1;32m~\\anaconda3\\envs\\Python 38\\lib\\site-packages\\ipykernel\\zmqshell.py\u001b[0m in \u001b[0;36mclear_output\u001b[1;34m(self, wait)\u001b[0m\n\u001b[0;32m    155\u001b[0m         \"\"\"\n\u001b[0;32m    156\u001b[0m         \u001b[0mcontent\u001b[0m \u001b[1;33m=\u001b[0m \u001b[0mdict\u001b[0m\u001b[1;33m(\u001b[0m\u001b[0mwait\u001b[0m\u001b[1;33m=\u001b[0m\u001b[0mwait\u001b[0m\u001b[1;33m)\u001b[0m\u001b[1;33m\u001b[0m\u001b[1;33m\u001b[0m\u001b[0m\n\u001b[1;32m--> 157\u001b[1;33m         \u001b[0mself\u001b[0m\u001b[1;33m.\u001b[0m\u001b[0m_flush_streams\u001b[0m\u001b[1;33m(\u001b[0m\u001b[1;33m)\u001b[0m\u001b[1;33m\u001b[0m\u001b[1;33m\u001b[0m\u001b[0m\n\u001b[0m\u001b[0;32m    158\u001b[0m         self.session.send(\n\u001b[0;32m    159\u001b[0m             \u001b[0mself\u001b[0m\u001b[1;33m.\u001b[0m\u001b[0mpub_socket\u001b[0m\u001b[1;33m,\u001b[0m \u001b[1;34mu'clear_output'\u001b[0m\u001b[1;33m,\u001b[0m \u001b[0mcontent\u001b[0m\u001b[1;33m,\u001b[0m\u001b[1;33m\u001b[0m\u001b[1;33m\u001b[0m\u001b[0m\n",
      "\u001b[1;32m~\\anaconda3\\envs\\Python 38\\lib\\site-packages\\ipykernel\\zmqshell.py\u001b[0m in \u001b[0;36m_flush_streams\u001b[1;34m(self)\u001b[0m\n\u001b[0;32m     77\u001b[0m     \u001b[1;32mdef\u001b[0m \u001b[0m_flush_streams\u001b[0m\u001b[1;33m(\u001b[0m\u001b[0mself\u001b[0m\u001b[1;33m)\u001b[0m\u001b[1;33m:\u001b[0m\u001b[1;33m\u001b[0m\u001b[1;33m\u001b[0m\u001b[0m\n\u001b[0;32m     78\u001b[0m         \u001b[1;34m\"\"\"flush IO Streams prior to display\"\"\"\u001b[0m\u001b[1;33m\u001b[0m\u001b[1;33m\u001b[0m\u001b[0m\n\u001b[1;32m---> 79\u001b[1;33m         \u001b[0msys\u001b[0m\u001b[1;33m.\u001b[0m\u001b[0mstdout\u001b[0m\u001b[1;33m.\u001b[0m\u001b[0mflush\u001b[0m\u001b[1;33m(\u001b[0m\u001b[1;33m)\u001b[0m\u001b[1;33m\u001b[0m\u001b[1;33m\u001b[0m\u001b[0m\n\u001b[0m\u001b[0;32m     80\u001b[0m         \u001b[0msys\u001b[0m\u001b[1;33m.\u001b[0m\u001b[0mstderr\u001b[0m\u001b[1;33m.\u001b[0m\u001b[0mflush\u001b[0m\u001b[1;33m(\u001b[0m\u001b[1;33m)\u001b[0m\u001b[1;33m\u001b[0m\u001b[1;33m\u001b[0m\u001b[0m\n\u001b[0;32m     81\u001b[0m \u001b[1;33m\u001b[0m\u001b[0m\n",
      "\u001b[1;32m~\\anaconda3\\envs\\Python 38\\lib\\site-packages\\ipykernel\\iostream.py\u001b[0m in \u001b[0;36mflush\u001b[1;34m(self)\u001b[0m\n\u001b[0;32m    350\u001b[0m                 \u001b[0mself\u001b[0m\u001b[1;33m.\u001b[0m\u001b[0mpub_thread\u001b[0m\u001b[1;33m.\u001b[0m\u001b[0mschedule\u001b[0m\u001b[1;33m(\u001b[0m\u001b[0mevt\u001b[0m\u001b[1;33m.\u001b[0m\u001b[0mset\u001b[0m\u001b[1;33m)\u001b[0m\u001b[1;33m\u001b[0m\u001b[1;33m\u001b[0m\u001b[0m\n\u001b[0;32m    351\u001b[0m                 \u001b[1;31m# and give a timeout to avoid\u001b[0m\u001b[1;33m\u001b[0m\u001b[1;33m\u001b[0m\u001b[1;33m\u001b[0m\u001b[0m\n\u001b[1;32m--> 352\u001b[1;33m                 \u001b[1;32mif\u001b[0m \u001b[1;32mnot\u001b[0m \u001b[0mevt\u001b[0m\u001b[1;33m.\u001b[0m\u001b[0mwait\u001b[0m\u001b[1;33m(\u001b[0m\u001b[0mself\u001b[0m\u001b[1;33m.\u001b[0m\u001b[0mflush_timeout\u001b[0m\u001b[1;33m)\u001b[0m\u001b[1;33m:\u001b[0m\u001b[1;33m\u001b[0m\u001b[1;33m\u001b[0m\u001b[0m\n\u001b[0m\u001b[0;32m    353\u001b[0m                     \u001b[1;31m# write directly to __stderr__ instead of warning because\u001b[0m\u001b[1;33m\u001b[0m\u001b[1;33m\u001b[0m\u001b[1;33m\u001b[0m\u001b[0m\n\u001b[0;32m    354\u001b[0m                     \u001b[1;31m# if this is happening sys.stderr may be the problem.\u001b[0m\u001b[1;33m\u001b[0m\u001b[1;33m\u001b[0m\u001b[1;33m\u001b[0m\u001b[0m\n",
      "\u001b[1;32m~\\anaconda3\\envs\\Python 38\\lib\\threading.py\u001b[0m in \u001b[0;36mwait\u001b[1;34m(self, timeout)\u001b[0m\n\u001b[0;32m    556\u001b[0m             \u001b[0msignaled\u001b[0m \u001b[1;33m=\u001b[0m \u001b[0mself\u001b[0m\u001b[1;33m.\u001b[0m\u001b[0m_flag\u001b[0m\u001b[1;33m\u001b[0m\u001b[1;33m\u001b[0m\u001b[0m\n\u001b[0;32m    557\u001b[0m             \u001b[1;32mif\u001b[0m \u001b[1;32mnot\u001b[0m \u001b[0msignaled\u001b[0m\u001b[1;33m:\u001b[0m\u001b[1;33m\u001b[0m\u001b[1;33m\u001b[0m\u001b[0m\n\u001b[1;32m--> 558\u001b[1;33m                 \u001b[0msignaled\u001b[0m \u001b[1;33m=\u001b[0m \u001b[0mself\u001b[0m\u001b[1;33m.\u001b[0m\u001b[0m_cond\u001b[0m\u001b[1;33m.\u001b[0m\u001b[0mwait\u001b[0m\u001b[1;33m(\u001b[0m\u001b[0mtimeout\u001b[0m\u001b[1;33m)\u001b[0m\u001b[1;33m\u001b[0m\u001b[1;33m\u001b[0m\u001b[0m\n\u001b[0m\u001b[0;32m    559\u001b[0m             \u001b[1;32mreturn\u001b[0m \u001b[0msignaled\u001b[0m\u001b[1;33m\u001b[0m\u001b[1;33m\u001b[0m\u001b[0m\n\u001b[0;32m    560\u001b[0m \u001b[1;33m\u001b[0m\u001b[0m\n",
      "\u001b[1;32m~\\anaconda3\\envs\\Python 38\\lib\\threading.py\u001b[0m in \u001b[0;36mwait\u001b[1;34m(self, timeout)\u001b[0m\n\u001b[0;32m    304\u001b[0m             \u001b[1;32melse\u001b[0m\u001b[1;33m:\u001b[0m\u001b[1;33m\u001b[0m\u001b[1;33m\u001b[0m\u001b[0m\n\u001b[0;32m    305\u001b[0m                 \u001b[1;32mif\u001b[0m \u001b[0mtimeout\u001b[0m \u001b[1;33m>\u001b[0m \u001b[1;36m0\u001b[0m\u001b[1;33m:\u001b[0m\u001b[1;33m\u001b[0m\u001b[1;33m\u001b[0m\u001b[0m\n\u001b[1;32m--> 306\u001b[1;33m                     \u001b[0mgotit\u001b[0m \u001b[1;33m=\u001b[0m \u001b[0mwaiter\u001b[0m\u001b[1;33m.\u001b[0m\u001b[0macquire\u001b[0m\u001b[1;33m(\u001b[0m\u001b[1;32mTrue\u001b[0m\u001b[1;33m,\u001b[0m \u001b[0mtimeout\u001b[0m\u001b[1;33m)\u001b[0m\u001b[1;33m\u001b[0m\u001b[1;33m\u001b[0m\u001b[0m\n\u001b[0m\u001b[0;32m    307\u001b[0m                 \u001b[1;32melse\u001b[0m\u001b[1;33m:\u001b[0m\u001b[1;33m\u001b[0m\u001b[1;33m\u001b[0m\u001b[0m\n\u001b[0;32m    308\u001b[0m                     \u001b[0mgotit\u001b[0m \u001b[1;33m=\u001b[0m \u001b[0mwaiter\u001b[0m\u001b[1;33m.\u001b[0m\u001b[0macquire\u001b[0m\u001b[1;33m(\u001b[0m\u001b[1;32mFalse\u001b[0m\u001b[1;33m)\u001b[0m\u001b[1;33m\u001b[0m\u001b[1;33m\u001b[0m\u001b[0m\n",
      "\u001b[1;31mKeyboardInterrupt\u001b[0m: "
     ]
    }
   ],
   "source": [
    "# ALL STEPS TOGETHER\n",
    "\n",
    "print('Welcome to TIC TAC TOE')\n",
    "    \n",
    "# STEP 1 - Creating a Board through a List or Dict\n",
    "\n",
    "the_board = build_game(board)\n",
    "\n",
    "\n",
    "# STEP 2 - Building the Logic of the Game. Choosing Player 1 and Player 2 through X or O.\n",
    "\n",
    "P1, P2 = build_logic()\n",
    "\n",
    "if P1 == 'X':\n",
    "    print ('Player 1 has chosen X. Player 1 Please play : ')\n",
    "    \n",
    "else:\n",
    "    print ('Player 1 has chosen O. Player 1 Please play : ')\n",
    "    \n",
    "\n",
    "# STEP 3 - Playing the Game. P 1 will choose a no. from 1-9 and that no. will change to either X or O\n",
    "\n",
    "while True:\n",
    "    \n",
    "    if 'X' == P1:\n",
    "        \n",
    "        build_game(board)\n",
    "        \n",
    "        position = finding_position(board)\n",
    "        \n",
    "        game_playing(board, P1, position)\n",
    "        \n",
    "        if player_win(board, P1):\n",
    "            build_game(board)\n",
    "            \n",
    "\n",
    "\n",
    "# STEP 4 - After P 1 plays , P 2 will play (Same process as Step 3 will follow)\n",
    "\n",
    "\n",
    "\n",
    "# STEP 5 - Checking which player wins after 5 clicks and then after every click\n",
    "\n",
    "\n",
    "\n",
    "# STEP 6 - When a player wins or the game draws, it is announced   \n",
    "\n",
    "\n",
    "\n",
    "\n"
   ]
  },
  {
   "cell_type": "code",
   "execution_count": null,
   "metadata": {},
   "outputs": [],
   "source": []
  },
  {
   "cell_type": "code",
   "execution_count": null,
   "metadata": {},
   "outputs": [],
   "source": []
  }
 ],
 "metadata": {
  "kernelspec": {
   "display_name": "Python 3",
   "language": "python",
   "name": "python3"
  },
  "language_info": {
   "codemirror_mode": {
    "name": "ipython",
    "version": 3
   },
   "file_extension": ".py",
   "mimetype": "text/x-python",
   "name": "python",
   "nbconvert_exporter": "python",
   "pygments_lexer": "ipython3",
   "version": "3.8.5"
  }
 },
 "nbformat": 4,
 "nbformat_minor": 4
}
