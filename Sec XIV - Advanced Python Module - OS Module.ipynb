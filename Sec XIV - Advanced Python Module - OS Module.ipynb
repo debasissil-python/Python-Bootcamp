{
 "cells": [
  {
   "cell_type": "markdown",
   "metadata": {},
   "source": [
    "#### OS MODULE"
   ]
  },
  {
   "cell_type": "code",
   "execution_count": 19,
   "metadata": {},
   "outputs": [],
   "source": [
    "# Special Command for Jupyter - 'Present Working Directory'\n",
    "# In Jupyter, We can simply type pwd to see the current folder we are working on"
   ]
  },
  {
   "cell_type": "code",
   "execution_count": 20,
   "metadata": {},
   "outputs": [
    {
     "data": {
      "text/plain": [
       "'C:\\\\Users\\\\LENOVO\\\\18082020'"
      ]
     },
     "execution_count": 20,
     "metadata": {},
     "output_type": "execute_result"
    }
   ],
   "source": [
    "pwd"
   ]
  },
  {
   "cell_type": "markdown",
   "metadata": {},
   "source": [
    "#### Creating, Opening, Writing and Closing different files"
   ]
  },
  {
   "cell_type": "code",
   "execution_count": 21,
   "metadata": {},
   "outputs": [],
   "source": [
    "files = open('checking.txt', 'w+')\n",
    "files.write ('Hallo, This is My First Opening of a File!')\n",
    "files.close()"
   ]
  },
  {
   "cell_type": "code",
   "execution_count": 22,
   "metadata": {},
   "outputs": [],
   "source": [
    "# os module - This module provides interaction with the operating system (os)\n",
    "\n",
    "import os"
   ]
  },
  {
   "cell_type": "code",
   "execution_count": 25,
   "metadata": {},
   "outputs": [
    {
     "data": {
      "text/plain": [
       "'C:\\\\Users\\\\LENOVO\\\\18082020'"
      ]
     },
     "execution_count": 25,
     "metadata": {},
     "output_type": "execute_result"
    }
   ],
   "source": [
    "# Get 'Current Working Directory'\n",
    "# os.getcwd gives the same result as pwd\n",
    "\n",
    "os.getcwd()"
   ]
  },
  {
   "cell_type": "code",
   "execution_count": 36,
   "metadata": {},
   "outputs": [
    {
     "data": {
      "text/plain": [
       "['.ipynb_checkpoints',\n",
       " '00-Collections-Module.ipynb',\n",
       " '00-Milestone-2-Warmup-Project.ipynb',\n",
       " '00-Warm-Up-Project-Exercises.ipynb',\n",
       " '01-Iterators and Generators.ipynb',\n",
       " '01-Milestone Project 2 - Assignment.ipynb',\n",
       " '02-Decorators Homework.ipynb',\n",
       " '02-Errors and Exceptions Homework.ipynb',\n",
       " '02-Functions.ipynb',\n",
       " '02-Iterators and Generators Homework.ipynb',\n",
       " '02-Milestone Project 1 - Walkthrough Steps Workbook.ipynb',\n",
       " '02-Milestone Project 2 - Walkthrough Steps Workbook.ipynb',\n",
       " '02-Object Oriented Programming Homework.ipynb',\n",
       " '03-Function Practice Exercises.ipynb',\n",
       " '03-Milestone Project 1 - Complete Walkthrough Solution.ipynb',\n",
       " '03-Milestone Project 2 - Complete Walkthrough Solution.ipynb',\n",
       " '04-OOP Challenge.ipynb',\n",
       " '06-Nested Statements and Scope.ipynb',\n",
       " '07-Statements Assessment Test.ipynb',\n",
       " '08-Functions and Methods Homework.ipynb',\n",
       " '09-Guessing Game Challenge.ipynb',\n",
       " '09-Objects and Data Structures Assessment Test.ipynb',\n",
       " 'checking.txt',\n",
       " 'chumu.py',\n",
       " 'Codacademy Practice different procedures.ipynb',\n",
       " 'firstnotebook.ipynb',\n",
       " 'kacha.txt',\n",
       " 'kachagolla.txt',\n",
       " 'Milestone Project 2 - Blackjack Game - Full Code with Description.ipynb',\n",
       " 'Milestone Project 2 - Blackjack Game - Full Code.ipynb',\n",
       " 'Practice Split, Slice, Enumerate, etc. etc..ipynb',\n",
       " 'Sec V  Python Statements.ipynb',\n",
       " 'Sec V  Video 36  Pass, Continue and Break.ipynb',\n",
       " 'Sec V Video 37 Useful Operators.ipynb',\n",
       " 'Sec V Video 38 List Comprehensions.ipynb',\n",
       " 'Sec VI Video 41 onwards Methods and Py Documentations.ipynb',\n",
       " 'Sec VII Milestone Project 1 - Tic Tac Toe (New Version).ipynb',\n",
       " 'Sec VII Milestone Project 1 - Tic Tac Toe.ipynb',\n",
       " 'Sec VII Milestone Project 1.ipynb',\n",
       " 'Sec VIII - Object Oriented Programming - Attributes and Class.ipynb',\n",
       " 'Sec XI - Milestone Project 2 - War Game-Copy1.ipynb',\n",
       " 'Sec XI - Milestone Project 2 - War Game.ipynb',\n",
       " 'Sec XII - Decorators.ipynb',\n",
       " 'Sec XIII - Python Generators.ipynb',\n",
       " 'Sec XIV - Advanced Python Module - Collections Module.ipynb',\n",
       " 'Sec XIV - Advanced Python Module - OS Module.ipynb',\n",
       " 'Secondnotebook.ipynb',\n",
       " 'textfiles.txt',\n",
       " 'Thirdnotebook.ipynb',\n",
       " 'Tic Tac Toe - Own Version.ipynb',\n",
       " 'Useful_Info_Notebook.ipynb',\n",
       " 'Video 49 args and  kwargs.ipynb',\n",
       " 'Video 55 Lambda, Map and Filter.ipynb',\n",
       " 'Video 56 Nested Statements and Scope.ipynb']"
      ]
     },
     "execution_count": 36,
     "metadata": {},
     "output_type": "execute_result"
    }
   ],
   "source": [
    "# Getting list of current directory\n",
    "os.listdir()"
   ]
  },
  {
   "cell_type": "code",
   "execution_count": 37,
   "metadata": {},
   "outputs": [
    {
     "data": {
      "text/plain": [
       "['All Users', 'Default', 'Default User', 'desktop.ini', 'LENOVO', 'Public']"
      ]
     },
     "execution_count": 37,
     "metadata": {},
     "output_type": "execute_result"
    }
   ],
   "source": [
    "# Getting list of any other directories\n",
    "os.listdir('C:\\\\Users')"
   ]
  },
  {
   "cell_type": "code",
   "execution_count": 38,
   "metadata": {},
   "outputs": [
    {
     "data": {
      "text/plain": [
       "['AccountPictures',\n",
       " 'Desktop',\n",
       " 'desktop.ini',\n",
       " 'Documents',\n",
       " 'Downloads',\n",
       " 'Libraries',\n",
       " 'LMDebug.log',\n",
       " 'Music',\n",
       " 'Pictures',\n",
       " 'Videos']"
      ]
     },
     "execution_count": 38,
     "metadata": {},
     "output_type": "execute_result"
    }
   ],
   "source": [
    "os.listdir('C:\\\\Users\\\\Public')"
   ]
  },
  {
   "cell_type": "code",
   "execution_count": 1,
   "metadata": {},
   "outputs": [
    {
     "ename": "FileNotFoundError",
     "evalue": "[Errno 2] No such file or directory: 'checking.txt'",
     "output_type": "error",
     "traceback": [
      "\u001b[1;31m---------------------------------------------------------------------------\u001b[0m",
      "\u001b[1;31mFileNotFoundError\u001b[0m                         Traceback (most recent call last)",
      "\u001b[1;32m~\\anaconda3\\envs\\Python 38\\lib\\shutil.py\u001b[0m in \u001b[0;36mmove\u001b[1;34m(src, dst, copy_function)\u001b[0m\n\u001b[0;32m    787\u001b[0m     \u001b[1;32mtry\u001b[0m\u001b[1;33m:\u001b[0m\u001b[1;33m\u001b[0m\u001b[1;33m\u001b[0m\u001b[0m\n\u001b[1;32m--> 788\u001b[1;33m         \u001b[0mos\u001b[0m\u001b[1;33m.\u001b[0m\u001b[0mrename\u001b[0m\u001b[1;33m(\u001b[0m\u001b[0msrc\u001b[0m\u001b[1;33m,\u001b[0m \u001b[0mreal_dst\u001b[0m\u001b[1;33m)\u001b[0m\u001b[1;33m\u001b[0m\u001b[1;33m\u001b[0m\u001b[0m\n\u001b[0m\u001b[0;32m    789\u001b[0m     \u001b[1;32mexcept\u001b[0m \u001b[0mOSError\u001b[0m\u001b[1;33m:\u001b[0m\u001b[1;33m\u001b[0m\u001b[1;33m\u001b[0m\u001b[0m\n",
      "\u001b[1;31mFileNotFoundError\u001b[0m: [WinError 2] The system cannot find the file specified: 'checking.txt' -> 'C:\\\\Users\\\\Public\\\\checking.txt'",
      "\nDuring handling of the above exception, another exception occurred:\n",
      "\u001b[1;31mFileNotFoundError\u001b[0m                         Traceback (most recent call last)",
      "\u001b[1;32m<ipython-input-1-464e906c01e5>\u001b[0m in \u001b[0;36m<module>\u001b[1;34m\u001b[0m\n\u001b[0;32m      2\u001b[0m \u001b[1;32mimport\u001b[0m \u001b[0mshutil\u001b[0m\u001b[1;33m\u001b[0m\u001b[1;33m\u001b[0m\u001b[0m\n\u001b[0;32m      3\u001b[0m \u001b[1;33m\u001b[0m\u001b[0m\n\u001b[1;32m----> 4\u001b[1;33m \u001b[0mshutil\u001b[0m\u001b[1;33m.\u001b[0m\u001b[0mmove\u001b[0m\u001b[1;33m(\u001b[0m\u001b[1;34m'checking.txt'\u001b[0m\u001b[1;33m,\u001b[0m\u001b[1;34m'C:\\\\Users\\\\Public'\u001b[0m\u001b[1;33m)\u001b[0m           \u001b[1;31m# Moving checking.txt from one folder to another\u001b[0m\u001b[1;33m\u001b[0m\u001b[1;33m\u001b[0m\u001b[0m\n\u001b[0m",
      "\u001b[1;32m~\\anaconda3\\envs\\Python 38\\lib\\shutil.py\u001b[0m in \u001b[0;36mmove\u001b[1;34m(src, dst, copy_function)\u001b[0m\n\u001b[0;32m    800\u001b[0m             \u001b[0mrmtree\u001b[0m\u001b[1;33m(\u001b[0m\u001b[0msrc\u001b[0m\u001b[1;33m)\u001b[0m\u001b[1;33m\u001b[0m\u001b[1;33m\u001b[0m\u001b[0m\n\u001b[0;32m    801\u001b[0m         \u001b[1;32melse\u001b[0m\u001b[1;33m:\u001b[0m\u001b[1;33m\u001b[0m\u001b[1;33m\u001b[0m\u001b[0m\n\u001b[1;32m--> 802\u001b[1;33m             \u001b[0mcopy_function\u001b[0m\u001b[1;33m(\u001b[0m\u001b[0msrc\u001b[0m\u001b[1;33m,\u001b[0m \u001b[0mreal_dst\u001b[0m\u001b[1;33m)\u001b[0m\u001b[1;33m\u001b[0m\u001b[1;33m\u001b[0m\u001b[0m\n\u001b[0m\u001b[0;32m    803\u001b[0m             \u001b[0mos\u001b[0m\u001b[1;33m.\u001b[0m\u001b[0munlink\u001b[0m\u001b[1;33m(\u001b[0m\u001b[0msrc\u001b[0m\u001b[1;33m)\u001b[0m\u001b[1;33m\u001b[0m\u001b[1;33m\u001b[0m\u001b[0m\n\u001b[0;32m    804\u001b[0m     \u001b[1;32mreturn\u001b[0m \u001b[0mreal_dst\u001b[0m\u001b[1;33m\u001b[0m\u001b[1;33m\u001b[0m\u001b[0m\n",
      "\u001b[1;32m~\\anaconda3\\envs\\Python 38\\lib\\shutil.py\u001b[0m in \u001b[0;36mcopy2\u001b[1;34m(src, dst, follow_symlinks)\u001b[0m\n\u001b[0;32m    430\u001b[0m     \u001b[1;32mif\u001b[0m \u001b[0mos\u001b[0m\u001b[1;33m.\u001b[0m\u001b[0mpath\u001b[0m\u001b[1;33m.\u001b[0m\u001b[0misdir\u001b[0m\u001b[1;33m(\u001b[0m\u001b[0mdst\u001b[0m\u001b[1;33m)\u001b[0m\u001b[1;33m:\u001b[0m\u001b[1;33m\u001b[0m\u001b[1;33m\u001b[0m\u001b[0m\n\u001b[0;32m    431\u001b[0m         \u001b[0mdst\u001b[0m \u001b[1;33m=\u001b[0m \u001b[0mos\u001b[0m\u001b[1;33m.\u001b[0m\u001b[0mpath\u001b[0m\u001b[1;33m.\u001b[0m\u001b[0mjoin\u001b[0m\u001b[1;33m(\u001b[0m\u001b[0mdst\u001b[0m\u001b[1;33m,\u001b[0m \u001b[0mos\u001b[0m\u001b[1;33m.\u001b[0m\u001b[0mpath\u001b[0m\u001b[1;33m.\u001b[0m\u001b[0mbasename\u001b[0m\u001b[1;33m(\u001b[0m\u001b[0msrc\u001b[0m\u001b[1;33m)\u001b[0m\u001b[1;33m)\u001b[0m\u001b[1;33m\u001b[0m\u001b[1;33m\u001b[0m\u001b[0m\n\u001b[1;32m--> 432\u001b[1;33m     \u001b[0mcopyfile\u001b[0m\u001b[1;33m(\u001b[0m\u001b[0msrc\u001b[0m\u001b[1;33m,\u001b[0m \u001b[0mdst\u001b[0m\u001b[1;33m,\u001b[0m \u001b[0mfollow_symlinks\u001b[0m\u001b[1;33m=\u001b[0m\u001b[0mfollow_symlinks\u001b[0m\u001b[1;33m)\u001b[0m\u001b[1;33m\u001b[0m\u001b[1;33m\u001b[0m\u001b[0m\n\u001b[0m\u001b[0;32m    433\u001b[0m     \u001b[0mcopystat\u001b[0m\u001b[1;33m(\u001b[0m\u001b[0msrc\u001b[0m\u001b[1;33m,\u001b[0m \u001b[0mdst\u001b[0m\u001b[1;33m,\u001b[0m \u001b[0mfollow_symlinks\u001b[0m\u001b[1;33m=\u001b[0m\u001b[0mfollow_symlinks\u001b[0m\u001b[1;33m)\u001b[0m\u001b[1;33m\u001b[0m\u001b[1;33m\u001b[0m\u001b[0m\n\u001b[0;32m    434\u001b[0m     \u001b[1;32mreturn\u001b[0m \u001b[0mdst\u001b[0m\u001b[1;33m\u001b[0m\u001b[1;33m\u001b[0m\u001b[0m\n",
      "\u001b[1;32m~\\anaconda3\\envs\\Python 38\\lib\\shutil.py\u001b[0m in \u001b[0;36mcopyfile\u001b[1;34m(src, dst, follow_symlinks)\u001b[0m\n\u001b[0;32m    259\u001b[0m         \u001b[0mos\u001b[0m\u001b[1;33m.\u001b[0m\u001b[0msymlink\u001b[0m\u001b[1;33m(\u001b[0m\u001b[0mos\u001b[0m\u001b[1;33m.\u001b[0m\u001b[0mreadlink\u001b[0m\u001b[1;33m(\u001b[0m\u001b[0msrc\u001b[0m\u001b[1;33m)\u001b[0m\u001b[1;33m,\u001b[0m \u001b[0mdst\u001b[0m\u001b[1;33m)\u001b[0m\u001b[1;33m\u001b[0m\u001b[1;33m\u001b[0m\u001b[0m\n\u001b[0;32m    260\u001b[0m     \u001b[1;32melse\u001b[0m\u001b[1;33m:\u001b[0m\u001b[1;33m\u001b[0m\u001b[1;33m\u001b[0m\u001b[0m\n\u001b[1;32m--> 261\u001b[1;33m         \u001b[1;32mwith\u001b[0m \u001b[0mopen\u001b[0m\u001b[1;33m(\u001b[0m\u001b[0msrc\u001b[0m\u001b[1;33m,\u001b[0m \u001b[1;34m'rb'\u001b[0m\u001b[1;33m)\u001b[0m \u001b[1;32mas\u001b[0m \u001b[0mfsrc\u001b[0m\u001b[1;33m,\u001b[0m \u001b[0mopen\u001b[0m\u001b[1;33m(\u001b[0m\u001b[0mdst\u001b[0m\u001b[1;33m,\u001b[0m \u001b[1;34m'wb'\u001b[0m\u001b[1;33m)\u001b[0m \u001b[1;32mas\u001b[0m \u001b[0mfdst\u001b[0m\u001b[1;33m:\u001b[0m\u001b[1;33m\u001b[0m\u001b[1;33m\u001b[0m\u001b[0m\n\u001b[0m\u001b[0;32m    262\u001b[0m             \u001b[1;31m# macOS\u001b[0m\u001b[1;33m\u001b[0m\u001b[1;33m\u001b[0m\u001b[1;33m\u001b[0m\u001b[0m\n\u001b[0;32m    263\u001b[0m             \u001b[1;32mif\u001b[0m \u001b[0m_HAS_FCOPYFILE\u001b[0m\u001b[1;33m:\u001b[0m\u001b[1;33m\u001b[0m\u001b[1;33m\u001b[0m\u001b[0m\n",
      "\u001b[1;31mFileNotFoundError\u001b[0m: [Errno 2] No such file or directory: 'checking.txt'"
     ]
    }
   ],
   "source": [
    "# Show Utility - 'shutil' helps to move files around from one folder to another\n",
    "import shutil\n",
    "\n",
    "shutil.move('checking.txt','C:\\\\Users\\\\Public')           # Moving checking.txt from one folder to another"
   ]
  },
  {
   "cell_type": "code",
   "execution_count": 42,
   "metadata": {},
   "outputs": [
    {
     "data": {
      "text/plain": [
       "['AccountPictures',\n",
       " 'checking.txt',\n",
       " 'Desktop',\n",
       " 'desktop.ini',\n",
       " 'Documents',\n",
       " 'Downloads',\n",
       " 'Libraries',\n",
       " 'LMDebug.log',\n",
       " 'Music',\n",
       " 'Pictures',\n",
       " 'Videos']"
      ]
     },
     "execution_count": 42,
     "metadata": {},
     "output_type": "execute_result"
    }
   ],
   "source": [
    "os.listdir('C:\\\\Users\\\\Public')          # We can see that checking.txt is here now. whereas, it was not there previously"
   ]
  },
  {
   "cell_type": "code",
   "execution_count": 59,
   "metadata": {},
   "outputs": [],
   "source": [
    "# Moving checking.txt back to its original folder\n",
    "\n",
    "# shutil.move('C:\\\\Users\\\\Public\\\\checking.txt','C:\\\\Users\\\\LENOVO\\\\18082020')\n",
    "# shutil.move('C:\\\\Users\\\\Public\\\\checking.txt',os.getcwd())"
   ]
  },
  {
   "cell_type": "markdown",
   "metadata": {},
   "source": [
    "#### Deleting Files and Folders"
   ]
  },
  {
   "cell_type": "code",
   "execution_count": 49,
   "metadata": {},
   "outputs": [],
   "source": [
    "# Deleting a file \n",
    "\n",
    "os.unlink('Untitled.ipynb')"
   ]
  },
  {
   "cell_type": "code",
   "execution_count": 54,
   "metadata": {},
   "outputs": [],
   "source": [
    "# Deleting a Folder - Remove Directory\n",
    "\n",
    "os.rmdir('Untitled Folder')"
   ]
  },
  {
   "cell_type": "markdown",
   "metadata": {},
   "source": [
    "##### As the below mentioned code is irreversable , it's best that we don't use it"
   ]
  },
  {
   "cell_type": "code",
   "execution_count": 56,
   "metadata": {},
   "outputs": [],
   "source": [
    "# Deleting everything including files and folders -- MOST DANGEROUS\n",
    "\n",
    "# shutil.rmtree(path)"
   ]
  },
  {
   "cell_type": "markdown",
   "metadata": {},
   "source": [
    "##### Rather use send2trash module"
   ]
  },
  {
   "cell_type": "code",
   "execution_count": 62,
   "metadata": {},
   "outputs": [],
   "source": [
    "import send2trash\n",
    "\n",
    "send2trash.send2trash('checking.txt')        # checking.txt has been sent to trash"
   ]
  },
  {
   "cell_type": "markdown",
   "metadata": {},
   "source": [
    "### MOST IMPORTANT AND USEFUL TO USE"
   ]
  },
  {
   "cell_type": "code",
   "execution_count": 98,
   "metadata": {},
   "outputs": [
    {
     "data": {
      "text/plain": [
       "'C:\\\\Users\\\\LENOVO\\\\18082020'"
      ]
     },
     "execution_count": 98,
     "metadata": {},
     "output_type": "execute_result"
    }
   ],
   "source": [
    "os.getcwd()"
   ]
  },
  {
   "cell_type": "code",
   "execution_count": 99,
   "metadata": {},
   "outputs": [
    {
     "data": {
      "text/plain": [
       "['.ipynb_checkpoints',\n",
       " '00-Collections-Module.ipynb',\n",
       " '00-Milestone-2-Warmup-Project.ipynb',\n",
       " '00-Warm-Up-Project-Exercises.ipynb',\n",
       " '01-Iterators and Generators.ipynb',\n",
       " '01-Milestone Project 2 - Assignment.ipynb',\n",
       " '02-Decorators Homework.ipynb',\n",
       " '02-Errors and Exceptions Homework.ipynb',\n",
       " '02-Functions.ipynb',\n",
       " '02-Iterators and Generators Homework.ipynb',\n",
       " '02-Milestone Project 1 - Walkthrough Steps Workbook.ipynb',\n",
       " '02-Milestone Project 2 - Walkthrough Steps Workbook.ipynb',\n",
       " '02-Object Oriented Programming Homework.ipynb',\n",
       " '03-Function Practice Exercises.ipynb',\n",
       " '03-Milestone Project 1 - Complete Walkthrough Solution.ipynb',\n",
       " '03-Milestone Project 2 - Complete Walkthrough Solution.ipynb',\n",
       " '04-OOP Challenge.ipynb',\n",
       " '06-Nested Statements and Scope.ipynb',\n",
       " '07-Statements Assessment Test.ipynb',\n",
       " '08-Functions and Methods Homework.ipynb',\n",
       " '09-Guessing Game Challenge.ipynb',\n",
       " '09-Objects and Data Structures Assessment Test.ipynb',\n",
       " 'chumu.py',\n",
       " 'Codacademy Practice different procedures.ipynb',\n",
       " 'firstnotebook.ipynb',\n",
       " 'kacha.txt',\n",
       " 'kachagolla.txt',\n",
       " 'Milestone Project 2 - Blackjack Game - Full Code with Description.ipynb',\n",
       " 'Milestone Project 2 - Blackjack Game - Full Code.ipynb',\n",
       " 'Practice Split, Slice, Enumerate, etc. etc..ipynb',\n",
       " 'Practice_Folder',\n",
       " 'Sec V  Python Statements.ipynb',\n",
       " 'Sec V  Video 36  Pass, Continue and Break.ipynb',\n",
       " 'Sec V Video 37 Useful Operators.ipynb',\n",
       " 'Sec V Video 38 List Comprehensions.ipynb',\n",
       " 'Sec VI Video 41 onwards Methods and Py Documentations.ipynb',\n",
       " 'Sec VII Milestone Project 1 - Tic Tac Toe (New Version).ipynb',\n",
       " 'Sec VII Milestone Project 1 - Tic Tac Toe.ipynb',\n",
       " 'Sec VII Milestone Project 1.ipynb',\n",
       " 'Sec VIII - Object Oriented Programming - Attributes and Class.ipynb',\n",
       " 'Sec XI - Milestone Project 2 - War Game-Copy1.ipynb',\n",
       " 'Sec XI - Milestone Project 2 - War Game.ipynb',\n",
       " 'Sec XII - Decorators.ipynb',\n",
       " 'Sec XIII - Python Generators.ipynb',\n",
       " 'Sec XIV - Advanced Python Module - Collections Module.ipynb',\n",
       " 'Sec XIV - Advanced Python Module - OS Module.ipynb',\n",
       " 'Secondnotebook.ipynb',\n",
       " 'textfiles.txt',\n",
       " 'Thirdnotebook.ipynb',\n",
       " 'Tic Tac Toe - Own Version.ipynb',\n",
       " 'Untitled.ipynb',\n",
       " 'Useful_Info_Notebook.ipynb',\n",
       " 'Video 49 args and  kwargs.ipynb',\n",
       " 'Video 55 Lambda, Map and Filter.ipynb',\n",
       " 'Video 56 Nested Statements and Scope.ipynb']"
      ]
     },
     "execution_count": 99,
     "metadata": {},
     "output_type": "execute_result"
    }
   ],
   "source": [
    "os.listdir()"
   ]
  },
  {
   "cell_type": "code",
   "execution_count": 100,
   "metadata": {},
   "outputs": [],
   "source": [
    "Practice_Directory = 'C:\\\\Users\\\\LENOVO\\\\18082020\\\\Practice_Folder'"
   ]
  },
  {
   "cell_type": "code",
   "execution_count": 106,
   "metadata": {},
   "outputs": [
    {
     "name": "stdout",
     "output_type": "stream",
     "text": [
      "Currently looking at C:\\Users\\LENOVO\\18082020\\Practice_Folder\n",
      "\n",
      "\n",
      "\t Inside the C:\\Users\\LENOVO\\18082020\\Practice_Folder we have .ipynb_checkpoints\n",
      "\t Inside the C:\\Users\\LENOVO\\18082020\\Practice_Folder we have Practice_folder_check_1\n",
      "\t Inside the C:\\Users\\LENOVO\\18082020\\Practice_Folder we have Practice_folder_check_2\n",
      "\n",
      "\n",
      "\t The file inside the folder is Practice_Text_File_Outside\n",
      "\n",
      "\n",
      "Currently looking at C:\\Users\\LENOVO\\18082020\\Practice_Folder\\.ipynb_checkpoints\n",
      "\n",
      "\n",
      "\n",
      "\n",
      "\n",
      "\n",
      "Currently looking at C:\\Users\\LENOVO\\18082020\\Practice_Folder\\Practice_folder_check_1\n",
      "\n",
      "\n",
      "\t Inside the C:\\Users\\LENOVO\\18082020\\Practice_Folder\\Practice_folder_check_1 we have .ipynb_checkpoints\n",
      "\n",
      "\n",
      "\t The file inside the folder is Practice_file_check_1\n",
      "\t The file inside the folder is Practice_file_check_2\n",
      "\n",
      "\n",
      "Currently looking at C:\\Users\\LENOVO\\18082020\\Practice_Folder\\Practice_folder_check_1\\.ipynb_checkpoints\n",
      "\n",
      "\n",
      "\n",
      "\n",
      "\n",
      "\n",
      "Currently looking at C:\\Users\\LENOVO\\18082020\\Practice_Folder\\Practice_folder_check_2\n",
      "\n",
      "\n",
      "\n",
      "\n",
      "\n",
      "\n"
     ]
    }
   ],
   "source": [
    "# os.walk\n",
    "\n",
    "for folder, sub_folders, files in os.walk(Practice_Directory):\n",
    "    \n",
    "    print (f'Currently looking at {folder}')\n",
    "    print ('\\n')\n",
    "    \n",
    "    for sub_folds in sub_folders:\n",
    "        print (f'\\t Inside the {folder} we have {sub_folds}')\n",
    "    print ('\\n')\n",
    "    \n",
    "    for files in files:\n",
    "        print (f'\\t The file inside the folder is {files}')\n",
    "    print ('\\n')\n",
    "       "
   ]
  },
  {
   "cell_type": "markdown",
   "metadata": {},
   "source": [
    "#### To Move a File or Folder from one path to another"
   ]
  },
  {
   "cell_type": "code",
   "execution_count": 2,
   "metadata": {},
   "outputs": [],
   "source": [
    "import shutil"
   ]
  },
  {
   "cell_type": "code",
   "execution_count": 4,
   "metadata": {},
   "outputs": [],
   "source": [
    "# shutil.move(source, destination)"
   ]
  },
  {
   "cell_type": "code",
   "execution_count": 26,
   "metadata": {},
   "outputs": [
    {
     "data": {
      "text/plain": [
       "'C:\\\\Users\\\\LENOVO\\\\18082020\\\\MCQ_Final.doc'"
      ]
     },
     "execution_count": 26,
     "metadata": {},
     "output_type": "execute_result"
    }
   ],
   "source": [
    "shutil.move('C:\\\\Users\\\\LENOVO\\\\Desktop\\\\MCQ_Final.doc', os.getcwd())"
   ]
  },
  {
   "cell_type": "code",
   "execution_count": 27,
   "metadata": {},
   "outputs": [
    {
     "data": {
      "text/plain": [
       "['.ipynb_checkpoints',\n",
       " '00-Collections-Module.ipynb',\n",
       " '00-Milestone-2-Warmup-Project.ipynb',\n",
       " '00-Warm-Up-Project-Exercises.ipynb',\n",
       " '01-Iterators and Generators.ipynb',\n",
       " '01-Milestone Project 2 - Assignment.ipynb',\n",
       " '02-Decorators Homework.ipynb',\n",
       " '02-Errors and Exceptions Homework.ipynb',\n",
       " '02-Functions.ipynb',\n",
       " '02-Iterators and Generators Homework.ipynb',\n",
       " '02-Milestone Project 1 - Walkthrough Steps Workbook.ipynb',\n",
       " '02-Milestone Project 2 - Walkthrough Steps Workbook.ipynb',\n",
       " '02-Object Oriented Programming Homework.ipynb',\n",
       " '03-Function Practice Exercises.ipynb',\n",
       " '03-Milestone Project 1 - Complete Walkthrough Solution.ipynb',\n",
       " '03-Milestone Project 2 - Complete Walkthrough Solution.ipynb',\n",
       " '04-OOP Challenge.ipynb',\n",
       " '06-Nested Statements and Scope.ipynb',\n",
       " '07-Statements Assessment Test.ipynb',\n",
       " '08-Functions and Methods Homework.ipynb',\n",
       " '09-Guessing Game Challenge.ipynb',\n",
       " '09-Objects and Data Structures Assessment Test.ipynb',\n",
       " 'chumu.py',\n",
       " 'Codacademy Practice different procedures.ipynb',\n",
       " 'firstnotebook.ipynb',\n",
       " 'kacha.txt',\n",
       " 'kachagolla.txt',\n",
       " 'MCQ_Final.doc',\n",
       " 'Milestone Project 2 - Blackjack Game - Full Code with Description.ipynb',\n",
       " 'Milestone Project 2 - Blackjack Game - Full Code.ipynb',\n",
       " 'Practice Split, Slice, Enumerate, etc. etc..ipynb',\n",
       " 'Practice_Folder',\n",
       " 'Sec V  Python Statements.ipynb',\n",
       " 'Sec V  Video 36  Pass, Continue and Break.ipynb',\n",
       " 'Sec V Video 37 Useful Operators.ipynb',\n",
       " 'Sec V Video 38 List Comprehensions.ipynb',\n",
       " 'Sec VI Video 41 onwards Methods and Py Documentations.ipynb',\n",
       " 'Sec VII Milestone Project 1 - Tic Tac Toe (New Version).ipynb',\n",
       " 'Sec VII Milestone Project 1 - Tic Tac Toe.ipynb',\n",
       " 'Sec VII Milestone Project 1.ipynb',\n",
       " 'Sec VIII - Object Oriented Programming - Attributes and Class.ipynb',\n",
       " 'Sec XI - Milestone Project 2 - War Game-Copy1.ipynb',\n",
       " 'Sec XI - Milestone Project 2 - War Game.ipynb',\n",
       " 'Sec XII - Decorators.ipynb',\n",
       " 'Sec XIII - Python Generators.ipynb',\n",
       " 'Sec XIV - Advanced Python Module - Collections Module.ipynb',\n",
       " 'Sec XIV - Advanced Python Module - OS Module.ipynb',\n",
       " 'Secondnotebook.ipynb',\n",
       " 'textfiles.txt',\n",
       " 'Thirdnotebook.ipynb',\n",
       " 'Tic Tac Toe - Own Version.ipynb',\n",
       " 'Untitled.ipynb',\n",
       " 'Useful_Info_Notebook.ipynb',\n",
       " 'Video 49 args and  kwargs.ipynb',\n",
       " 'Video 55 Lambda, Map and Filter.ipynb',\n",
       " 'Video 56 Nested Statements and Scope.ipynb']"
      ]
     },
     "execution_count": 27,
     "metadata": {},
     "output_type": "execute_result"
    }
   ],
   "source": [
    "os.listdir()"
   ]
  },
  {
   "cell_type": "markdown",
   "metadata": {},
   "source": [
    "#### To Delete the File and send it to trash"
   ]
  },
  {
   "cell_type": "code",
   "execution_count": 28,
   "metadata": {},
   "outputs": [],
   "source": [
    "import send2trash"
   ]
  },
  {
   "cell_type": "code",
   "execution_count": 29,
   "metadata": {},
   "outputs": [],
   "source": [
    "send2trash.send2trash('MCQ_Final.doc')"
   ]
  },
  {
   "cell_type": "raw",
   "metadata": {},
   "source": [
    "# Now it is Deleted from the current directory"
   ]
  },
  {
   "cell_type": "code",
   "execution_count": 30,
   "metadata": {},
   "outputs": [
    {
     "data": {
      "text/plain": [
       "['.ipynb_checkpoints',\n",
       " '00-Collections-Module.ipynb',\n",
       " '00-Milestone-2-Warmup-Project.ipynb',\n",
       " '00-Warm-Up-Project-Exercises.ipynb',\n",
       " '01-Iterators and Generators.ipynb',\n",
       " '01-Milestone Project 2 - Assignment.ipynb',\n",
       " '02-Decorators Homework.ipynb',\n",
       " '02-Errors and Exceptions Homework.ipynb',\n",
       " '02-Functions.ipynb',\n",
       " '02-Iterators and Generators Homework.ipynb',\n",
       " '02-Milestone Project 1 - Walkthrough Steps Workbook.ipynb',\n",
       " '02-Milestone Project 2 - Walkthrough Steps Workbook.ipynb',\n",
       " '02-Object Oriented Programming Homework.ipynb',\n",
       " '03-Function Practice Exercises.ipynb',\n",
       " '03-Milestone Project 1 - Complete Walkthrough Solution.ipynb',\n",
       " '03-Milestone Project 2 - Complete Walkthrough Solution.ipynb',\n",
       " '04-OOP Challenge.ipynb',\n",
       " '06-Nested Statements and Scope.ipynb',\n",
       " '07-Statements Assessment Test.ipynb',\n",
       " '08-Functions and Methods Homework.ipynb',\n",
       " '09-Guessing Game Challenge.ipynb',\n",
       " '09-Objects and Data Structures Assessment Test.ipynb',\n",
       " 'chumu.py',\n",
       " 'Codacademy Practice different procedures.ipynb',\n",
       " 'firstnotebook.ipynb',\n",
       " 'kacha.txt',\n",
       " 'kachagolla.txt',\n",
       " 'Milestone Project 2 - Blackjack Game - Full Code with Description.ipynb',\n",
       " 'Milestone Project 2 - Blackjack Game - Full Code.ipynb',\n",
       " 'Practice Split, Slice, Enumerate, etc. etc..ipynb',\n",
       " 'Practice_Folder',\n",
       " 'Sec V  Python Statements.ipynb',\n",
       " 'Sec V  Video 36  Pass, Continue and Break.ipynb',\n",
       " 'Sec V Video 37 Useful Operators.ipynb',\n",
       " 'Sec V Video 38 List Comprehensions.ipynb',\n",
       " 'Sec VI Video 41 onwards Methods and Py Documentations.ipynb',\n",
       " 'Sec VII Milestone Project 1 - Tic Tac Toe (New Version).ipynb',\n",
       " 'Sec VII Milestone Project 1 - Tic Tac Toe.ipynb',\n",
       " 'Sec VII Milestone Project 1.ipynb',\n",
       " 'Sec VIII - Object Oriented Programming - Attributes and Class.ipynb',\n",
       " 'Sec XI - Milestone Project 2 - War Game-Copy1.ipynb',\n",
       " 'Sec XI - Milestone Project 2 - War Game.ipynb',\n",
       " 'Sec XII - Decorators.ipynb',\n",
       " 'Sec XIII - Python Generators.ipynb',\n",
       " 'Sec XIV - Advanced Python Module - Collections Module.ipynb',\n",
       " 'Sec XIV - Advanced Python Module - OS Module.ipynb',\n",
       " 'Secondnotebook.ipynb',\n",
       " 'textfiles.txt',\n",
       " 'Thirdnotebook.ipynb',\n",
       " 'Tic Tac Toe - Own Version.ipynb',\n",
       " 'Untitled.ipynb',\n",
       " 'Useful_Info_Notebook.ipynb',\n",
       " 'Video 49 args and  kwargs.ipynb',\n",
       " 'Video 55 Lambda, Map and Filter.ipynb',\n",
       " 'Video 56 Nested Statements and Scope.ipynb']"
      ]
     },
     "execution_count": 30,
     "metadata": {},
     "output_type": "execute_result"
    }
   ],
   "source": [
    "os.listdir()"
   ]
  },
  {
   "cell_type": "code",
   "execution_count": null,
   "metadata": {},
   "outputs": [],
   "source": []
  },
  {
   "cell_type": "code",
   "execution_count": null,
   "metadata": {},
   "outputs": [],
   "source": []
  }
 ],
 "metadata": {
  "kernelspec": {
   "display_name": "Python 3",
   "language": "python",
   "name": "python3"
  },
  "language_info": {
   "codemirror_mode": {
    "name": "ipython",
    "version": 3
   },
   "file_extension": ".py",
   "mimetype": "text/x-python",
   "name": "python",
   "nbconvert_exporter": "python",
   "pygments_lexer": "ipython3",
   "version": "3.8.5"
  }
 },
 "nbformat": 4,
 "nbformat_minor": 4
}
