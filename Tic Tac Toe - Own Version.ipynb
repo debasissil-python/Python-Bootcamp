{
 "cells": [
  {
   "cell_type": "markdown",
   "metadata": {},
   "source": [
    "Tic Tac Toe - Own Version"
   ]
  },
  {
   "cell_type": "code",
   "execution_count": 1,
   "metadata": {},
   "outputs": [],
   "source": [
    "# Step 1 - Built a Board\n",
    "# Step 2 - \n",
    "# Step 3 - \n"
   ]
  },
  {
   "cell_type": "code",
   "execution_count": 2,
   "metadata": {},
   "outputs": [
    {
     "name": "stdout",
     "output_type": "stream",
     "text": [
      "Welcome to Tic Tac Toe !\n"
     ]
    }
   ],
   "source": [
    "# Tic Tac Toe - Own Version\n",
    "\n",
    "print ('Welcome to Tic Tac Toe !')\n",
    "\n",
    "board = [' '] * 10\n",
    "\n",
    "def built_board (board):\n",
    "    \n",
    "    print (board[7] +'  ' + '|' + board[8] +'  ' + '|' + board[9])\n",
    "    print ('---|---|---')\n",
    "    print (board[5] +'  ' + '|' + board[5] +'  ' + '|' + board[6])\n",
    "    print ('---|---|---')\n",
    "    print (board[1] +'  ' + '|' + board[2] +'  ' + '|' + board[3])"
   ]
  },
  {
   "cell_type": "code",
   "execution_count": 3,
   "metadata": {},
   "outputs": [],
   "source": [
    "#built_board(board)"
   ]
  },
  {
   "cell_type": "code",
   "execution_count": 4,
   "metadata": {},
   "outputs": [
    {
     "name": "stdout",
     "output_type": "stream",
     "text": [
      "Welcome to TIC TAC TOE !\n",
      "What's Your Name Player 1: \n",
      "Thank You \n",
      "What's Your Name Player 2: \n",
      "Thank You \n",
      "Let's Play  and \n"
     ]
    }
   ],
   "source": [
    "# Building a Board Game - TIC TAC TOE. Welcoming and Asking Players Name and making it personalised.\n",
    "\n",
    "board_dict = {'7':' ', '8':' ', '9':' ',\n",
    "              '4':' ', '5':' ', '6':' ',\n",
    "              '1':' ', '2':' ', '3':' '}\n",
    "\n",
    "print ('Welcome to TIC TAC TOE !')\n",
    "\n",
    "name = input(\"What's Your Name Player 1: \")\n",
    "print ('Thank You ' + name)\n",
    "name1 = input(\"What's Your Name Player 2: \")\n",
    "print ('Thank You ' + name1)\n",
    "print (\"Let's Play \" + name + ' and ' + name1)\n",
    "\n",
    "\n",
    "def built_board_dict(board_dict):\n",
    "    \n",
    "    from IPython.display import clear_output\n",
    "    \n",
    "    \n",
    "    print (board[7] +'  ' + '|' + board[8] +'  ' + '|' + board[9])\n",
    "    print ('---|---|---')\n",
    "    print (board[4] +'  ' + '|' + board[5] +'  ' + '|' + board[6])\n",
    "    print ('---|---|---')\n",
    "    print (board[1] +'  ' + '|' + board[2] +'  ' + '|' + board[3])    \n",
    "    "
   ]
  },
  {
   "cell_type": "code",
   "execution_count": 5,
   "metadata": {
    "scrolled": true
   },
   "outputs": [
    {
     "name": "stdout",
     "output_type": "stream",
     "text": [
      "   |   | \n",
      "---|---|---\n",
      "   |   | \n",
      "---|---|---\n",
      "   |   | \n"
     ]
    }
   ],
   "source": [
    "built_board_dict (board_dict)"
   ]
  },
  {
   "cell_type": "code",
   "execution_count": 6,
   "metadata": {},
   "outputs": [],
   "source": [
    "# Choosing X or O\n",
    "\n",
    "\n",
    "def random_player_choosing():\n",
    "    \n",
    "    while True:\n",
    "        \n",
    "        print ('Player 1 gets to choose X or O')\n",
    "        \n",
    "        try:\n",
    "            ask = str(input('What do you choose (X or O)? \\n')).upper()\n",
    "                \n",
    "        except ValueError:\n",
    "            print('Please enter either X or O only \\n')\n",
    "            continue\n",
    "            \n",
    "        if ask == 'X':\n",
    "            print (name + \" You have chosen X. Now let's play \\n\")\n",
    "            break \n",
    "            \n",
    "        elif ask == 'O':\n",
    "                print (name + \" You have chosen O. Now let's play\")\n",
    "                break\n",
    "               "
   ]
  },
  {
   "cell_type": "code",
   "execution_count": 7,
   "metadata": {},
   "outputs": [
    {
     "name": "stdout",
     "output_type": "stream",
     "text": [
      "Player 1 gets to choose X or O\n",
      "What do you choose (X or O)? \n",
      "o\n",
      " You have chosen O. Now let's play\n"
     ]
    }
   ],
   "source": [
    "random_player_choosing()"
   ]
  },
  {
   "cell_type": "code",
   "execution_count": 10,
   "metadata": {},
   "outputs": [],
   "source": [
    "def play():\n",
    "    \n",
    "    while True:\n",
    "        \n",
    "        try:\n",
    "            built_board_dict (board_dict)\n",
    "            check = int(input('Choose Your Position(1-9): '))\n",
    "            \n",
    "        except ValueError:\n",
    "            continue\n",
    "        \n",
    "        if check < 1 or check > 9:\n",
    "            continue   \n",
    "            \n",
    "        if name == 'X':\n",
    "            board[check] = ' '\n",
    "            board[check] = name\n",
    "            \n",
    "        elif name == 'O':\n",
    "            board[check] = ' '\n",
    "            board[check] = name\n",
    "        \n",
    "        \n",
    "        else:\n",
    "            print ('That position is already filled. Please choose an empty place')\n",
    "            continue\n",
    "        \n",
    "        "
   ]
  },
  {
   "cell_type": "code",
   "execution_count": 11,
   "metadata": {},
   "outputs": [
    {
     "name": "stdout",
     "output_type": "stream",
     "text": [
      "   |   | \n",
      "---|---|---\n",
      "   |   | \n",
      "---|---|---\n",
      "   |   | \n",
      "Choose Your Position(1-9): 1\n",
      "That position is already filled. Please choose an empty place\n",
      "   |   | \n",
      "---|---|---\n",
      "   |   | \n",
      "---|---|---\n",
      "   |   | \n",
      "Choose Your Position(1-9): 9\n",
      "That position is already filled. Please choose an empty place\n",
      "   |   | \n",
      "---|---|---\n",
      "   |   | \n",
      "---|---|---\n",
      "   |   | \n"
     ]
    },
    {
     "ename": "KeyboardInterrupt",
     "evalue": "Interrupted by user",
     "output_type": "error",
     "traceback": [
      "\u001b[1;31m---------------------------------------------------------------------------\u001b[0m",
      "\u001b[1;31mKeyboardInterrupt\u001b[0m                         Traceback (most recent call last)",
      "\u001b[1;32m<ipython-input-11-425fd712de3c>\u001b[0m in \u001b[0;36m<module>\u001b[1;34m\u001b[0m\n\u001b[1;32m----> 1\u001b[1;33m \u001b[0mplay\u001b[0m\u001b[1;33m(\u001b[0m\u001b[1;33m)\u001b[0m\u001b[1;33m\u001b[0m\u001b[1;33m\u001b[0m\u001b[0m\n\u001b[0m",
      "\u001b[1;32m<ipython-input-10-e80e89ff43a9>\u001b[0m in \u001b[0;36mplay\u001b[1;34m()\u001b[0m\n\u001b[0;32m      5\u001b[0m         \u001b[1;32mtry\u001b[0m\u001b[1;33m:\u001b[0m\u001b[1;33m\u001b[0m\u001b[1;33m\u001b[0m\u001b[0m\n\u001b[0;32m      6\u001b[0m             \u001b[0mbuilt_board_dict\u001b[0m \u001b[1;33m(\u001b[0m\u001b[0mboard_dict\u001b[0m\u001b[1;33m)\u001b[0m\u001b[1;33m\u001b[0m\u001b[1;33m\u001b[0m\u001b[0m\n\u001b[1;32m----> 7\u001b[1;33m             \u001b[0mcheck\u001b[0m \u001b[1;33m=\u001b[0m \u001b[0mint\u001b[0m\u001b[1;33m(\u001b[0m\u001b[0minput\u001b[0m\u001b[1;33m(\u001b[0m\u001b[1;34m'Choose Your Position(1-9): '\u001b[0m\u001b[1;33m)\u001b[0m\u001b[1;33m)\u001b[0m\u001b[1;33m\u001b[0m\u001b[1;33m\u001b[0m\u001b[0m\n\u001b[0m\u001b[0;32m      8\u001b[0m \u001b[1;33m\u001b[0m\u001b[0m\n\u001b[0;32m      9\u001b[0m         \u001b[1;32mexcept\u001b[0m \u001b[0mValueError\u001b[0m\u001b[1;33m:\u001b[0m\u001b[1;33m\u001b[0m\u001b[1;33m\u001b[0m\u001b[0m\n",
      "\u001b[1;32m~\\anaconda3\\envs\\Python 38\\lib\\site-packages\\ipykernel\\kernelbase.py\u001b[0m in \u001b[0;36mraw_input\u001b[1;34m(self, prompt)\u001b[0m\n\u001b[0;32m    858\u001b[0m                 \u001b[1;34m\"raw_input was called, but this frontend does not support input requests.\"\u001b[0m\u001b[1;33m\u001b[0m\u001b[1;33m\u001b[0m\u001b[0m\n\u001b[0;32m    859\u001b[0m             )\n\u001b[1;32m--> 860\u001b[1;33m         return self._input_request(str(prompt),\n\u001b[0m\u001b[0;32m    861\u001b[0m             \u001b[0mself\u001b[0m\u001b[1;33m.\u001b[0m\u001b[0m_parent_ident\u001b[0m\u001b[1;33m,\u001b[0m\u001b[1;33m\u001b[0m\u001b[1;33m\u001b[0m\u001b[0m\n\u001b[0;32m    862\u001b[0m             \u001b[0mself\u001b[0m\u001b[1;33m.\u001b[0m\u001b[0m_parent_header\u001b[0m\u001b[1;33m,\u001b[0m\u001b[1;33m\u001b[0m\u001b[1;33m\u001b[0m\u001b[0m\n",
      "\u001b[1;32m~\\anaconda3\\envs\\Python 38\\lib\\site-packages\\ipykernel\\kernelbase.py\u001b[0m in \u001b[0;36m_input_request\u001b[1;34m(self, prompt, ident, parent, password)\u001b[0m\n\u001b[0;32m    902\u001b[0m             \u001b[1;32mexcept\u001b[0m \u001b[0mKeyboardInterrupt\u001b[0m\u001b[1;33m:\u001b[0m\u001b[1;33m\u001b[0m\u001b[1;33m\u001b[0m\u001b[0m\n\u001b[0;32m    903\u001b[0m                 \u001b[1;31m# re-raise KeyboardInterrupt, to truncate traceback\u001b[0m\u001b[1;33m\u001b[0m\u001b[1;33m\u001b[0m\u001b[1;33m\u001b[0m\u001b[0m\n\u001b[1;32m--> 904\u001b[1;33m                 \u001b[1;32mraise\u001b[0m \u001b[0mKeyboardInterrupt\u001b[0m\u001b[1;33m(\u001b[0m\u001b[1;34m\"Interrupted by user\"\u001b[0m\u001b[1;33m)\u001b[0m \u001b[1;32mfrom\u001b[0m \u001b[1;32mNone\u001b[0m\u001b[1;33m\u001b[0m\u001b[1;33m\u001b[0m\u001b[0m\n\u001b[0m\u001b[0;32m    905\u001b[0m             \u001b[1;32mexcept\u001b[0m \u001b[0mException\u001b[0m \u001b[1;32mas\u001b[0m \u001b[0me\u001b[0m\u001b[1;33m:\u001b[0m\u001b[1;33m\u001b[0m\u001b[1;33m\u001b[0m\u001b[0m\n\u001b[0;32m    906\u001b[0m                 \u001b[0mself\u001b[0m\u001b[1;33m.\u001b[0m\u001b[0mlog\u001b[0m\u001b[1;33m.\u001b[0m\u001b[0mwarning\u001b[0m\u001b[1;33m(\u001b[0m\u001b[1;34m\"Invalid Message:\"\u001b[0m\u001b[1;33m,\u001b[0m \u001b[0mexc_info\u001b[0m\u001b[1;33m=\u001b[0m\u001b[1;32mTrue\u001b[0m\u001b[1;33m)\u001b[0m\u001b[1;33m\u001b[0m\u001b[1;33m\u001b[0m\u001b[0m\n",
      "\u001b[1;31mKeyboardInterrupt\u001b[0m: Interrupted by user"
     ]
    }
   ],
   "source": [
    "play()"
   ]
  },
  {
   "cell_type": "code",
   "execution_count": 20,
   "metadata": {},
   "outputs": [],
   "source": [
    "# Positioning the game. Choosing a place in the board.\n",
    "\n",
    "def choose_position(random_player_choosing, board_dict):\n",
    "\n",
    "    \n",
    "    while True:\n",
    "        \n",
    "        try:\n",
    "            built_board_dict(board_dict)\n",
    "            again_ask = int(input('Choose Your Position(1-9): '))   \n",
    "            \n",
    "        except ValueError:\n",
    "            continue\n",
    "        \n",
    "        if again_ask < 1 or again_ask > 9:\n",
    "            continue       \n",
    "            \n",
    "        if ask == 'X':\n",
    "            board[again_ask] = ' '\n",
    "            board[again_ask] = ask\n",
    "        \n",
    "        \n",
    "        elif ask == 'O':\n",
    "            board[again_ask] = ' '\n",
    "            board[again_ask] = ask\n",
    "        \n",
    "        \n",
    "        else:\n",
    "            print ('That position is already filled. Please choose an empty place')\n",
    "            continue"
   ]
  },
  {
   "cell_type": "code",
   "execution_count": 18,
   "metadata": {
    "scrolled": true
   },
   "outputs": [
    {
     "name": "stdout",
     "output_type": "stream",
     "text": [
      "   |   | \n",
      "---|---|---\n",
      "   |   | \n",
      "---|---|---\n",
      "   |   | \n",
      "Choose Your Position(1-9): 1\n"
     ]
    },
    {
     "ename": "NameError",
     "evalue": "name 'ask' is not defined",
     "output_type": "error",
     "traceback": [
      "\u001b[1;31m---------------------------------------------------------------------------\u001b[0m",
      "\u001b[1;31mNameError\u001b[0m                                 Traceback (most recent call last)",
      "\u001b[1;32m<ipython-input-18-902246551083>\u001b[0m in \u001b[0;36m<module>\u001b[1;34m\u001b[0m\n\u001b[1;32m----> 1\u001b[1;33m \u001b[0mchoose_position\u001b[0m\u001b[1;33m(\u001b[0m\u001b[0mrandom_player_choosing\u001b[0m\u001b[1;33m,\u001b[0m \u001b[0mboard_dict\u001b[0m\u001b[1;33m)\u001b[0m\u001b[1;33m\u001b[0m\u001b[1;33m\u001b[0m\u001b[0m\n\u001b[0m",
      "\u001b[1;32m<ipython-input-17-e71a2daa030d>\u001b[0m in \u001b[0;36mchoose_position\u001b[1;34m(random_player_choosing, board_dict)\u001b[0m\n\u001b[0;32m     16\u001b[0m             \u001b[1;32mcontinue\u001b[0m\u001b[1;33m\u001b[0m\u001b[1;33m\u001b[0m\u001b[0m\n\u001b[0;32m     17\u001b[0m \u001b[1;33m\u001b[0m\u001b[0m\n\u001b[1;32m---> 18\u001b[1;33m         \u001b[1;32mif\u001b[0m \u001b[0mask\u001b[0m \u001b[1;33m==\u001b[0m \u001b[1;34m'X'\u001b[0m\u001b[1;33m:\u001b[0m\u001b[1;33m\u001b[0m\u001b[1;33m\u001b[0m\u001b[0m\n\u001b[0m\u001b[0;32m     19\u001b[0m             \u001b[0mboard\u001b[0m\u001b[1;33m[\u001b[0m\u001b[0magain_ask\u001b[0m\u001b[1;33m]\u001b[0m \u001b[1;33m=\u001b[0m \u001b[1;34m' '\u001b[0m\u001b[1;33m\u001b[0m\u001b[1;33m\u001b[0m\u001b[0m\n\u001b[0;32m     20\u001b[0m             \u001b[0mboard\u001b[0m\u001b[1;33m[\u001b[0m\u001b[0magain_ask\u001b[0m\u001b[1;33m]\u001b[0m \u001b[1;33m=\u001b[0m \u001b[0mask\u001b[0m\u001b[1;33m\u001b[0m\u001b[1;33m\u001b[0m\u001b[0m\n",
      "\u001b[1;31mNameError\u001b[0m: name 'ask' is not defined"
     ]
    }
   ],
   "source": [
    "choose_position(random_player_choosing, board_dict)"
   ]
  },
  {
   "cell_type": "code",
   "execution_count": 11,
   "metadata": {},
   "outputs": [],
   "source": [
    "#choose_position_again()"
   ]
  },
  {
   "cell_type": "code",
   "execution_count": 12,
   "metadata": {},
   "outputs": [
    {
     "name": "stdout",
     "output_type": "stream",
     "text": [
      "It's a Tie!\n"
     ]
    }
   ],
   "source": [
    "\n",
    "        if (board[7]==board[8]==board[9]=='X'):\n",
    "            print(name+ ' wins!')\n",
    "        elif (board[4]==board[5]==board[6]=='X'):\n",
    "            print(name+ ' wins!')\n",
    "        elif (board[1]==board[2]==board[3]=='X'):\n",
    "            print(name+ ' wins!')\n",
    "        elif (board[1]==board[5]==board[9]=='X'):\n",
    "            print(name+ ' wins!')\n",
    "        elif (board[3]==board[5]==board[9]=='X'):\n",
    "            print(name+ ' wins!')\n",
    "        elif (board[1]==board[4]==board[7]=='X'):\n",
    "            print(name+ ' wins!')\n",
    "        elif (board[2]==board[5]==board[8]=='X'):\n",
    "            print(name+ ' wins!')\n",
    "        elif (board[3]==board[6]==board[9]=='X'):\n",
    "            print(name+ ' wins!')\n",
    "        \n",
    "        elif (board[7]==board[8]==board[9]=='O'):\n",
    "            print(name1 + ' wins!')\n",
    "        elif (board[4]==board[5]==board[6]=='O'):\n",
    "            print(name1 + ' wins!')\n",
    "        elif (board[1]==board[2]==board[3]=='O'):\n",
    "            print(name1 + ' wins!')\n",
    "        elif (board[1]==board[5]==board[9]=='O'):\n",
    "            print(name1 + ' wins!')\n",
    "        elif (board[3]==board[5]==board[9]=='O'):\n",
    "            print(name1 + ' wins!')\n",
    "        elif (board[1]==board[4]==board[7]=='O'):\n",
    "            print(name1 + ' wins!')\n",
    "        elif (board[2]==board[5]==board[8]=='O'):\n",
    "            print(name1 + ' wins!')\n",
    "        elif (board[3]==board[6]==board[9]=='O'):\n",
    "            print(name1 + ' wins!')\n",
    "        \n",
    "        else:\n",
    "            print (\"It's a Tie!\")\n",
    "        \n",
    "     "
   ]
  },
  {
   "cell_type": "code",
   "execution_count": 13,
   "metadata": {},
   "outputs": [
    {
     "ename": "NameError",
     "evalue": "name 'ask' is not defined",
     "output_type": "error",
     "traceback": [
      "\u001b[1;31m---------------------------------------------------------------------------\u001b[0m",
      "\u001b[1;31mNameError\u001b[0m                                 Traceback (most recent call last)",
      "\u001b[1;32m<ipython-input-13-ebe3961a80e6>\u001b[0m in \u001b[0;36m<module>\u001b[1;34m\u001b[0m\n\u001b[1;32m----> 1\u001b[1;33m \u001b[1;32mif\u001b[0m \u001b[0mask\u001b[0m \u001b[1;33m==\u001b[0m\u001b[1;34m'X'\u001b[0m\u001b[1;33m:\u001b[0m\u001b[1;33m\u001b[0m\u001b[1;33m\u001b[0m\u001b[0m\n\u001b[0m\u001b[0;32m      2\u001b[0m     \u001b[0mask\u001b[0m \u001b[1;33m=\u001b[0m \u001b[1;34m'O'\u001b[0m\u001b[1;33m\u001b[0m\u001b[1;33m\u001b[0m\u001b[0m\n\u001b[0;32m      3\u001b[0m \u001b[1;32melse\u001b[0m\u001b[1;33m:\u001b[0m\u001b[1;33m\u001b[0m\u001b[1;33m\u001b[0m\u001b[0m\n\u001b[0;32m      4\u001b[0m     \u001b[0mask\u001b[0m \u001b[1;33m=\u001b[0m \u001b[1;34m'X'\u001b[0m\u001b[1;33m\u001b[0m\u001b[1;33m\u001b[0m\u001b[0m\n",
      "\u001b[1;31mNameError\u001b[0m: name 'ask' is not defined"
     ]
    }
   ],
   "source": [
    "if ask =='X':\n",
    "    ask = 'O'\n",
    "else:\n",
    "    ask = 'X'"
   ]
  },
  {
   "cell_type": "code",
   "execution_count": null,
   "metadata": {},
   "outputs": [],
   "source": []
  },
  {
   "cell_type": "code",
   "execution_count": 14,
   "metadata": {},
   "outputs": [
    {
     "name": "stdout",
     "output_type": "stream",
     "text": [
      "Welcome to TIC TAC TOE !\n",
      "\n",
      "What's Your Name Player 1: 54\n",
      "\n",
      "Thank You 54\n",
      "What's Your Name Player 2:  20\n",
      "\n",
      "Thank You 20\n",
      "\n",
      "Let's Play 54 and 20\n",
      "   |   | \n",
      "---|---|---\n",
      "   |   | \n",
      "---|---|---\n",
      "   |   | \n",
      "Player 1 gets to choose X or O\n",
      "What do you choose (X or O)? \n",
      "o\n",
      "54 You have chosen O. Now let's play\n",
      "   |   | \n",
      "---|---|---\n",
      "   |   | \n",
      "---|---|---\n",
      "   |   | \n",
      "Choose Your Position(1-9): 1\n",
      "   |   | \n",
      "---|---|---\n",
      "   |   | \n",
      "---|---|---\n",
      "X  |   | \n",
      "Choose Your Position(1-9): 2\n",
      "   |   | \n",
      "---|---|---\n",
      "   |   | \n",
      "---|---|---\n",
      "X  |X  | \n"
     ]
    },
    {
     "ename": "KeyboardInterrupt",
     "evalue": "Interrupted by user",
     "output_type": "error",
     "traceback": [
      "\u001b[1;31m---------------------------------------------------------------------------\u001b[0m",
      "\u001b[1;31mKeyboardInterrupt\u001b[0m                         Traceback (most recent call last)",
      "\u001b[1;32m<ipython-input-14-c0e22a244c0e>\u001b[0m in \u001b[0;36m<module>\u001b[1;34m\u001b[0m\n\u001b[0;32m     13\u001b[0m \u001b[0mrandom_player_choosing\u001b[0m\u001b[1;33m(\u001b[0m\u001b[1;33m)\u001b[0m\u001b[1;33m\u001b[0m\u001b[1;33m\u001b[0m\u001b[0m\n\u001b[0;32m     14\u001b[0m \u001b[1;33m\u001b[0m\u001b[0m\n\u001b[1;32m---> 15\u001b[1;33m \u001b[0mchoose_position\u001b[0m\u001b[1;33m(\u001b[0m\u001b[1;33m)\u001b[0m\u001b[1;33m\u001b[0m\u001b[1;33m\u001b[0m\u001b[0m\n\u001b[0m\u001b[0;32m     16\u001b[0m \u001b[1;33m\u001b[0m\u001b[0m\n\u001b[0;32m     17\u001b[0m \u001b[1;32mif\u001b[0m \u001b[0mask\u001b[0m \u001b[1;33m==\u001b[0m\u001b[1;34m'X'\u001b[0m\u001b[1;33m:\u001b[0m\u001b[1;33m\u001b[0m\u001b[1;33m\u001b[0m\u001b[0m\n",
      "\u001b[1;32m<ipython-input-8-7b1c71eeb479>\u001b[0m in \u001b[0;36mchoose_position\u001b[1;34m()\u001b[0m\n\u001b[0;32m      8\u001b[0m         \u001b[1;32mtry\u001b[0m\u001b[1;33m:\u001b[0m\u001b[1;33m\u001b[0m\u001b[1;33m\u001b[0m\u001b[0m\n\u001b[0;32m      9\u001b[0m             \u001b[0mbuilt_board_dict\u001b[0m\u001b[1;33m(\u001b[0m\u001b[0mboard_dict\u001b[0m\u001b[1;33m)\u001b[0m\u001b[1;33m\u001b[0m\u001b[1;33m\u001b[0m\u001b[0m\n\u001b[1;32m---> 10\u001b[1;33m             \u001b[0magain_ask\u001b[0m \u001b[1;33m=\u001b[0m \u001b[0mint\u001b[0m\u001b[1;33m(\u001b[0m\u001b[0minput\u001b[0m\u001b[1;33m(\u001b[0m\u001b[1;34m'Choose Your Position(1-9): '\u001b[0m\u001b[1;33m)\u001b[0m\u001b[1;33m)\u001b[0m\u001b[1;33m\u001b[0m\u001b[1;33m\u001b[0m\u001b[0m\n\u001b[0m\u001b[0;32m     11\u001b[0m \u001b[1;33m\u001b[0m\u001b[0m\n\u001b[0;32m     12\u001b[0m         \u001b[1;32mexcept\u001b[0m \u001b[0mValueError\u001b[0m\u001b[1;33m:\u001b[0m\u001b[1;33m\u001b[0m\u001b[1;33m\u001b[0m\u001b[0m\n",
      "\u001b[1;32m~\\anaconda3\\envs\\Python 38\\lib\\site-packages\\ipykernel\\kernelbase.py\u001b[0m in \u001b[0;36mraw_input\u001b[1;34m(self, prompt)\u001b[0m\n\u001b[0;32m    858\u001b[0m                 \u001b[1;34m\"raw_input was called, but this frontend does not support input requests.\"\u001b[0m\u001b[1;33m\u001b[0m\u001b[1;33m\u001b[0m\u001b[0m\n\u001b[0;32m    859\u001b[0m             )\n\u001b[1;32m--> 860\u001b[1;33m         return self._input_request(str(prompt),\n\u001b[0m\u001b[0;32m    861\u001b[0m             \u001b[0mself\u001b[0m\u001b[1;33m.\u001b[0m\u001b[0m_parent_ident\u001b[0m\u001b[1;33m,\u001b[0m\u001b[1;33m\u001b[0m\u001b[1;33m\u001b[0m\u001b[0m\n\u001b[0;32m    862\u001b[0m             \u001b[0mself\u001b[0m\u001b[1;33m.\u001b[0m\u001b[0m_parent_header\u001b[0m\u001b[1;33m,\u001b[0m\u001b[1;33m\u001b[0m\u001b[1;33m\u001b[0m\u001b[0m\n",
      "\u001b[1;32m~\\anaconda3\\envs\\Python 38\\lib\\site-packages\\ipykernel\\kernelbase.py\u001b[0m in \u001b[0;36m_input_request\u001b[1;34m(self, prompt, ident, parent, password)\u001b[0m\n\u001b[0;32m    902\u001b[0m             \u001b[1;32mexcept\u001b[0m \u001b[0mKeyboardInterrupt\u001b[0m\u001b[1;33m:\u001b[0m\u001b[1;33m\u001b[0m\u001b[1;33m\u001b[0m\u001b[0m\n\u001b[0;32m    903\u001b[0m                 \u001b[1;31m# re-raise KeyboardInterrupt, to truncate traceback\u001b[0m\u001b[1;33m\u001b[0m\u001b[1;33m\u001b[0m\u001b[1;33m\u001b[0m\u001b[0m\n\u001b[1;32m--> 904\u001b[1;33m                 \u001b[1;32mraise\u001b[0m \u001b[0mKeyboardInterrupt\u001b[0m\u001b[1;33m(\u001b[0m\u001b[1;34m\"Interrupted by user\"\u001b[0m\u001b[1;33m)\u001b[0m \u001b[1;32mfrom\u001b[0m \u001b[1;32mNone\u001b[0m\u001b[1;33m\u001b[0m\u001b[1;33m\u001b[0m\u001b[0m\n\u001b[0m\u001b[0;32m    905\u001b[0m             \u001b[1;32mexcept\u001b[0m \u001b[0mException\u001b[0m \u001b[1;32mas\u001b[0m \u001b[0me\u001b[0m\u001b[1;33m:\u001b[0m\u001b[1;33m\u001b[0m\u001b[1;33m\u001b[0m\u001b[0m\n\u001b[0;32m    906\u001b[0m                 \u001b[0mself\u001b[0m\u001b[1;33m.\u001b[0m\u001b[0mlog\u001b[0m\u001b[1;33m.\u001b[0m\u001b[0mwarning\u001b[0m\u001b[1;33m(\u001b[0m\u001b[1;34m\"Invalid Message:\"\u001b[0m\u001b[1;33m,\u001b[0m \u001b[0mexc_info\u001b[0m\u001b[1;33m=\u001b[0m\u001b[1;32mTrue\u001b[0m\u001b[1;33m)\u001b[0m\u001b[1;33m\u001b[0m\u001b[1;33m\u001b[0m\u001b[0m\n",
      "\u001b[1;31mKeyboardInterrupt\u001b[0m: Interrupted by user"
     ]
    }
   ],
   "source": [
    "# Actual Code\n",
    "\n",
    "print ('Welcome to TIC TAC TOE !')\n",
    "print()\n",
    "name = input(\"What's Your Name Player 1: \")\n",
    "print ('\\nThank You ' + name )\n",
    "name1 = input(\"What's Your Name Player 2:  \")\n",
    "print ('\\nThank You ' + name1 )\n",
    "print (\"\\nLet's Play \" + name + ' and ' + name1)\n",
    "\n",
    "built_board_dict(board_dict)\n",
    "\n",
    "random_player_choosing()\n",
    "\n",
    "choose_position()\n",
    "\n",
    "if ask =='X':\n",
    "    ask = 'O'\n",
    "else:\n",
    "    ask = 'X'\n",
    "    \n",
    "choose_position_again()\n",
    "        \n",
    "if (board[7]==board[8]==board[9]=='X'):\n",
    "    print(name+ ' wins!')\n",
    "elif (board[4]==board[5]==board[6]=='X'):\n",
    "    print(name+ ' wins!')\n",
    "elif (board[1]==board[2]==board[3]=='X'):\n",
    "    print(name+ ' wins!')\n",
    "elif (board[1]==board[5]==board[9]=='X'):\n",
    "    print(name+ ' wins!')\n",
    "elif (board[3]==board[5]==board[9]=='X'):\n",
    "    print(name+ ' wins!')\n",
    "elif (board[1]==board[4]==board[7]=='X'):\n",
    "    print(name+ ' wins!')\n",
    "elif (board[2]==board[5]==board[8]=='X'):\n",
    "    print(name+ ' wins!')\n",
    "elif (board[3]==board[6]==board[9]=='X'):\n",
    "    print(name+ ' wins!')\n",
    "        \n",
    "elif (board[7]==board[8]==board[9]=='O'):\n",
    "    print(name1 + ' wins!')\n",
    "elif (board[4]==board[5]==board[6]=='O'):\n",
    "    print(name1 + ' wins!')\n",
    "elif (board[1]==board[2]==board[3]=='O'):\n",
    "    print(name1 + ' wins!')\n",
    "elif (board[1]==board[5]==board[9]=='O'):\n",
    "    print(name1 + ' wins!')\n",
    "elif (board[3]==board[5]==board[9]=='O'):\n",
    "    print(name1 + ' wins!')\n",
    "elif (board[1]==board[4]==board[7]=='O'):\n",
    "    print(name1 + ' wins!')\n",
    "elif (board[2]==board[5]==board[8]=='O'):\n",
    "    print(name1 + ' wins!')\n",
    "elif (board[3]==board[6]==board[9]=='O'):\n",
    "    print(name1 + ' wins!')\n",
    "        \n",
    "else:\n",
    "    print (\"It's a Tie!\")\n",
    "        \n"
   ]
  },
  {
   "cell_type": "code",
   "execution_count": null,
   "metadata": {},
   "outputs": [],
   "source": []
  },
  {
   "cell_type": "code",
   "execution_count": null,
   "metadata": {},
   "outputs": [],
   "source": []
  }
 ],
 "metadata": {
  "kernelspec": {
   "display_name": "Python 3",
   "language": "python",
   "name": "python3"
  },
  "language_info": {
   "codemirror_mode": {
    "name": "ipython",
    "version": 3
   },
   "file_extension": ".py",
   "mimetype": "text/x-python",
   "name": "python",
   "nbconvert_exporter": "python",
   "pygments_lexer": "ipython3",
   "version": "3.8.5"
  }
 },
 "nbformat": 4,
 "nbformat_minor": 4
}
