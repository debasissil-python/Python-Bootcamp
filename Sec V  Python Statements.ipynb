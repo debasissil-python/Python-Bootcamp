{
 "cells": [
  {
   "cell_type": "markdown",
   "metadata": {},
   "source": [
    "If Elif Else Statements"
   ]
  },
  {
   "cell_type": "code",
   "execution_count": 1,
   "metadata": {},
   "outputs": [
    {
     "name": "stdout",
     "output_type": "stream",
     "text": [
      "Coffee will be refreshing\n"
     ]
    }
   ],
   "source": [
    "time = 'Morning'\n",
    "\n",
    "\n",
    "if time == 'Evening':\n",
    "    print (\"Let's have some tea.\")\n",
    "elif time == 'Morning':\n",
    "    print ('Coffee will be refreshing')\n",
    "else:\n",
    "    print ('Fuck off')"
   ]
  },
  {
   "cell_type": "code",
   "execution_count": 2,
   "metadata": {},
   "outputs": [
    {
     "name": "stdout",
     "output_type": "stream",
     "text": [
      "Fantabulous!\n"
     ]
    }
   ],
   "source": [
    "score = 11\n",
    "\n",
    "if score <= 5:\n",
    "    print (\"Won by a small margin\")\n",
    "elif score <= 10:\n",
    "    print ('Well played')\n",
    "else:\n",
    "    print ('Fantabulous!')\n"
   ]
  },
  {
   "cell_type": "markdown",
   "metadata": {},
   "source": [
    "For Loop"
   ]
  },
  {
   "cell_type": "code",
   "execution_count": 3,
   "metadata": {},
   "outputs": [
    {
     "name": "stdout",
     "output_type": "stream",
     "text": [
      "13\n",
      "14\n",
      "15\n",
      "16\n"
     ]
    }
   ],
   "source": [
    "age_cat = [13, 14, 15, 16]\n",
    "\n",
    "for variety_age in age_cat:\n",
    "    print(variety_age)"
   ]
  },
  {
   "cell_type": "code",
   "execution_count": 4,
   "metadata": {},
   "outputs": [
    {
     "name": "stdout",
     "output_type": "stream",
     "text": [
      "icecream\n",
      "icecream\n",
      "icecream\n",
      "icecream\n"
     ]
    }
   ],
   "source": [
    "for variety_age in age_cat:\n",
    "    print('icecream') # notice the ''"
   ]
  },
  {
   "cell_type": "code",
   "execution_count": 5,
   "metadata": {},
   "outputs": [
    {
     "name": "stdout",
     "output_type": "stream",
     "text": [
      "23\n",
      "24\n",
      "25\n",
      "26\n"
     ]
    }
   ],
   "source": [
    "# Addition\n",
    "\n",
    "for additions in age_cat:\n",
    "    print (additions + 10)"
   ]
  },
  {
   "cell_type": "code",
   "execution_count": 6,
   "metadata": {},
   "outputs": [
    {
     "name": "stdout",
     "output_type": "stream",
     "text": [
      "130\n",
      "140\n",
      "150\n",
      "160\n"
     ]
    }
   ],
   "source": [
    "# Multuiplications\n",
    "\n",
    "for mul in age_cat:\n",
    "    print (mul * 10)"
   ]
  },
  {
   "cell_type": "code",
   "execution_count": 7,
   "metadata": {},
   "outputs": [
    {
     "name": "stdout",
     "output_type": "stream",
     "text": [
      "6.5\n",
      "7.0\n",
      "7.5\n",
      "8.0\n"
     ]
    }
   ],
   "source": [
    "# Div \n",
    "\n",
    "age_cat = [13, 14, 15, 16]\n",
    "\n",
    "for divi in age_cat:\n",
    "    print (divi / 2)"
   ]
  },
  {
   "cell_type": "code",
   "execution_count": 8,
   "metadata": {},
   "outputs": [
    {
     "name": "stdout",
     "output_type": "stream",
     "text": [
      "3\n",
      "4\n",
      "5\n",
      "6\n"
     ]
    }
   ],
   "source": [
    "# Substraction\n",
    "\n",
    "for subs in age_cat:\n",
    "    print (subs - 10)"
   ]
  },
  {
   "cell_type": "code",
   "execution_count": 10,
   "metadata": {},
   "outputs": [
    {
     "name": "stdout",
     "output_type": "stream",
     "text": [
      "46\n"
     ]
    }
   ],
   "source": [
    "# Summing a list. Adding whatever is in the list\n",
    "age_cats = [10,11,12,13]\n",
    "\n",
    "print (sum(age_cats))"
   ]
  },
  {
   "cell_type": "code",
   "execution_count": 30,
   "metadata": {},
   "outputs": [
    {
     "name": "stdout",
     "output_type": "stream",
     "text": [
      "46\n"
     ]
    }
   ],
   "source": [
    "age_cats = [10,11,12,13]\n",
    "x = 0\n",
    "for nums in age_cats:\n",
    "    x += nums\n",
    "print (x)"
   ]
  },
  {
   "cell_type": "code",
   "execution_count": 9,
   "metadata": {},
   "outputs": [
    {
     "name": "stdout",
     "output_type": "stream",
     "text": [
      "3\n",
      "4\n",
      "0\n",
      "1\n"
     ]
    }
   ],
   "source": [
    "# Modulo\n",
    "\n",
    "for mod in age_cat:\n",
    "    print (mod % 5)"
   ]
  },
  {
   "cell_type": "code",
   "execution_count": 10,
   "metadata": {},
   "outputs": [
    {
     "name": "stdout",
     "output_type": "stream",
     "text": [
      "raja\n",
      "rani\n",
      "prema\n",
      "sweety\n"
     ]
    }
   ],
   "source": [
    "names = ['raja' , 'rani', 'prema' , 'sweety']\n",
    "\n",
    "for members in names:\n",
    "    print (members)"
   ]
  },
  {
   "cell_type": "code",
   "execution_count": 11,
   "metadata": {},
   "outputs": [
    {
     "name": "stdout",
     "output_type": "stream",
     "text": [
      "rajarajarajarajaraja\n",
      "raniraniraniranirani\n",
      "premapremapremapremaprema\n",
      "sweetysweetysweetysweetysweety\n"
     ]
    }
   ],
   "source": [
    "for members_of_hn in names:\n",
    "    print (members_of_hn * 5)"
   ]
  },
  {
   "cell_type": "code",
   "execution_count": 12,
   "metadata": {},
   "outputs": [
    {
     "name": "stdout",
     "output_type": "stream",
     "text": [
      "d\n",
      "o\n",
      "t\n",
      "a\n",
      "r\n",
      "a\n"
     ]
    }
   ],
   "source": [
    "strings = 'dotara'\n",
    "\n",
    "for music in strings:\n",
    "    print (music)"
   ]
  },
  {
   "cell_type": "code",
   "execution_count": 13,
   "metadata": {},
   "outputs": [
    {
     "name": "stdout",
     "output_type": "stream",
     "text": [
      "d\n",
      "o\n",
      "t\n",
      "a\n",
      "r\n",
      "a\n"
     ]
    }
   ],
   "source": [
    "# we can use the strings directly\n",
    "\n",
    "for music in 'dotara':\n",
    "    print (music)"
   ]
  },
  {
   "cell_type": "code",
   "execution_count": 14,
   "metadata": {},
   "outputs": [
    {
     "name": "stdout",
     "output_type": "stream",
     "text": [
      "1\n",
      "2\n",
      "3\n",
      "dotara\n"
     ]
    }
   ],
   "source": [
    "# we can use lists and strs directly\n",
    "\n",
    "for prices in [1,2,3,'dotara']:\n",
    "    print (prices)"
   ]
  },
  {
   "cell_type": "code",
   "execution_count": 15,
   "metadata": {},
   "outputs": [
    {
     "name": "stdout",
     "output_type": "stream",
     "text": [
      "18\n",
      "19\n",
      "20\n"
     ]
    }
   ],
   "source": [
    "# we can use tuples directly\n",
    "\n",
    "for age_grps in (18, 19, 20):\n",
    "    print (age_grps)"
   ]
  },
  {
   "cell_type": "code",
   "execution_count": 16,
   "metadata": {},
   "outputs": [
    {
     "data": {
      "text/plain": [
       "3"
      ]
     },
     "execution_count": 16,
     "metadata": {},
     "output_type": "execute_result"
    }
   ],
   "source": [
    "# List and Tuples together\n",
    "\n",
    "z = [(9,8), ('kavita', 'savita'),(9899, 2332)]\n",
    "\n",
    "len(z) # length of lists are 3 as tuples are clubbed together"
   ]
  },
  {
   "cell_type": "code",
   "execution_count": 17,
   "metadata": {},
   "outputs": [
    {
     "name": "stdout",
     "output_type": "stream",
     "text": [
      "(9, 8)\n",
      "('kavita', 'savita')\n",
      "(9899, 2332)\n"
     ]
    }
   ],
   "source": [
    "for all_view in z:\n",
    "    print (all_view)\n"
   ]
  },
  {
   "cell_type": "code",
   "execution_count": 18,
   "metadata": {},
   "outputs": [
    {
     "name": "stdout",
     "output_type": "stream",
     "text": [
      "9\n",
      "8\n",
      "kavita\n",
      "savita\n",
      "9899\n",
      "2332\n"
     ]
    }
   ],
   "source": [
    "for (a,b) in z:\n",
    "    print (a)\n",
    "    print (b)"
   ]
  },
  {
   "cell_type": "code",
   "execution_count": 19,
   "metadata": {},
   "outputs": [
    {
     "name": "stdout",
     "output_type": "stream",
     "text": [
      "8\n",
      "savita\n",
      "2332\n"
     ]
    }
   ],
   "source": [
    "for (a,b) in z:\n",
    "    print (b)"
   ]
  },
  {
   "cell_type": "code",
   "execution_count": 20,
   "metadata": {},
   "outputs": [
    {
     "name": "stdout",
     "output_type": "stream",
     "text": [
      "9\n",
      "kavita\n",
      "9899\n"
     ]
    }
   ],
   "source": [
    "for a,b in z:\n",
    "    print (a)"
   ]
  },
  {
   "cell_type": "code",
   "execution_count": 21,
   "metadata": {},
   "outputs": [
    {
     "data": {
      "text/plain": [
       "3"
      ]
     },
     "execution_count": 21,
     "metadata": {},
     "output_type": "execute_result"
    }
   ],
   "source": [
    "kind_school = [('Principal','Vice','TinC','HOD'), (100000, 80000, 70000, 65000), ('30 yrs','22 yrs','20 yrs','17 yrs')]\n",
    "\n",
    "len(kind_school)"
   ]
  },
  {
   "cell_type": "code",
   "execution_count": 22,
   "metadata": {},
   "outputs": [
    {
     "name": "stdout",
     "output_type": "stream",
     "text": [
      "('Principal', 'Vice', 'TinC', 'HOD')\n",
      "(100000, 80000, 70000, 65000)\n",
      "('30 yrs', '22 yrs', '20 yrs', '17 yrs')\n"
     ]
    }
   ],
   "source": [
    "for report in kind_school:\n",
    "    print(report)"
   ]
  },
  {
   "cell_type": "code",
   "execution_count": 23,
   "metadata": {},
   "outputs": [
    {
     "name": "stdout",
     "output_type": "stream",
     "text": [
      "Principal\n",
      "Vice\n",
      "TinC\n",
      "HOD\n",
      "100000\n",
      "80000\n",
      "70000\n",
      "65000\n",
      "30 yrs\n",
      "22 yrs\n",
      "20 yrs\n",
      "17 yrs\n"
     ]
    }
   ],
   "source": [
    "for Princi,VP, TIC, Head in kind_school:\n",
    "    print(Princi)\n",
    "    print(VP)\n",
    "    print(TIC)\n",
    "    print(Head)"
   ]
  },
  {
   "cell_type": "code",
   "execution_count": 24,
   "metadata": {},
   "outputs": [
    {
     "data": {
      "text/plain": [
       "9"
      ]
     },
     "execution_count": 24,
     "metadata": {},
     "output_type": "execute_result"
    }
   ],
   "source": [
    "# Dictionaries\n",
    "\n",
    "more = {'Cheese': 450, \"Paste\":145, 'Juice':120, \"Parsley\":59, 'Fish':120, 'Sausage':550, \"shirts\":780, 'Slippers':300,\"Dal\":250}\n",
    "\n",
    "len(more)"
   ]
  },
  {
   "cell_type": "code",
   "execution_count": 25,
   "metadata": {},
   "outputs": [
    {
     "name": "stdout",
     "output_type": "stream",
     "text": [
      "Cheese\n",
      "Paste\n",
      "Juice\n",
      "Parsley\n",
      "Fish\n",
      "Sausage\n",
      "shirts\n",
      "Slippers\n",
      "Dal\n"
     ]
    }
   ],
   "source": [
    "# By default only 'KEYS' will be printed. We can also use .keys() after variable . Eg.,more.keys():\n",
    "\n",
    "for item_names in more:\n",
    "    print(item_names)"
   ]
  },
  {
   "cell_type": "code",
   "execution_count": 26,
   "metadata": {},
   "outputs": [
    {
     "name": "stdout",
     "output_type": "stream",
     "text": [
      "('Cheese', 450)\n",
      "('Paste', 145)\n",
      "('Juice', 120)\n",
      "('Parsley', 59)\n",
      "('Fish', 120)\n",
      "('Sausage', 550)\n",
      "('shirts', 780)\n",
      "('Slippers', 300)\n",
      "('Dal', 250)\n"
     ]
    }
   ],
   "source": [
    "# If we want both KEYS and Values then put .items():\n",
    "\n",
    "for item_details in more.items():\n",
    "    print (item_details)"
   ]
  },
  {
   "cell_type": "code",
   "execution_count": 27,
   "metadata": {},
   "outputs": [
    {
     "name": "stdout",
     "output_type": "stream",
     "text": [
      "450\n",
      "145\n",
      "120\n",
      "59\n",
      "120\n",
      "550\n",
      "780\n",
      "300\n",
      "250\n"
     ]
    }
   ],
   "source": [
    "# For only values, put .values():\n",
    "\n",
    "for item_details in more.values():\n",
    "    print (item_details)"
   ]
  },
  {
   "cell_type": "code",
   "execution_count": 28,
   "metadata": {},
   "outputs": [
    {
     "name": "stdout",
     "output_type": "stream",
     "text": [
      "{'Cheese': 450, 'Paste': 145, 'Juice': 120, 'Parsley': 59, 'Fish': 120, 'Sausage': 550, 'shirts': 780, 'Slippers': 300, 'Dal': 250}\n"
     ]
    }
   ],
   "source": [
    "print (more)"
   ]
  },
  {
   "cell_type": "code",
   "execution_count": 29,
   "metadata": {},
   "outputs": [
    {
     "name": "stdout",
     "output_type": "stream",
     "text": [
      "{'Cheese': 450, 'Paste': 145, 'Juice': 120, 'Parsley': 59, 'Fish': 120, 'Sausage': 550, 'shirts': 780, 'Slippers': 300, 'Dal': 250}\n",
      "{'Cheese': 450, 'Paste': 145, 'Juice': 120, 'Parsley': 59, 'Fish': 120, 'Sausage': 550, 'shirts': 780, 'Slippers': 300, 'Dal': 250}\n",
      "{'Cheese': 450, 'Paste': 145, 'Juice': 120, 'Parsley': 59, 'Fish': 120, 'Sausage': 550, 'shirts': 780, 'Slippers': 300, 'Dal': 250}\n",
      "{'Cheese': 450, 'Paste': 145, 'Juice': 120, 'Parsley': 59, 'Fish': 120, 'Sausage': 550, 'shirts': 780, 'Slippers': 300, 'Dal': 250}\n",
      "{'Cheese': 450, 'Paste': 145, 'Juice': 120, 'Parsley': 59, 'Fish': 120, 'Sausage': 550, 'shirts': 780, 'Slippers': 300, 'Dal': 250}\n",
      "{'Cheese': 450, 'Paste': 145, 'Juice': 120, 'Parsley': 59, 'Fish': 120, 'Sausage': 550, 'shirts': 780, 'Slippers': 300, 'Dal': 250}\n",
      "{'Cheese': 450, 'Paste': 145, 'Juice': 120, 'Parsley': 59, 'Fish': 120, 'Sausage': 550, 'shirts': 780, 'Slippers': 300, 'Dal': 250}\n",
      "{'Cheese': 450, 'Paste': 145, 'Juice': 120, 'Parsley': 59, 'Fish': 120, 'Sausage': 550, 'shirts': 780, 'Slippers': 300, 'Dal': 250}\n",
      "{'Cheese': 450, 'Paste': 145, 'Juice': 120, 'Parsley': 59, 'Fish': 120, 'Sausage': 550, 'shirts': 780, 'Slippers': 300, 'Dal': 250}\n"
     ]
    }
   ],
   "source": [
    "for _ in more:\n",
    "    print (more)"
   ]
  },
  {
   "cell_type": "code",
   "execution_count": 30,
   "metadata": {},
   "outputs": [
    {
     "data": {
      "text/plain": [
       "120"
      ]
     },
     "execution_count": 30,
     "metadata": {},
     "output_type": "execute_result"
    }
   ],
   "source": [
    "# For specific Values of a key\n",
    "\n",
    "more['Juice']"
   ]
  },
  {
   "cell_type": "code",
   "execution_count": 31,
   "metadata": {},
   "outputs": [
    {
     "data": {
      "text/plain": [
       "250"
      ]
     },
     "execution_count": 31,
     "metadata": {},
     "output_type": "execute_result"
    }
   ],
   "source": [
    "more['Dal']"
   ]
  },
  {
   "cell_type": "code",
   "execution_count": 32,
   "metadata": {},
   "outputs": [
    {
     "name": "stdout",
     "output_type": "stream",
     "text": [
      "The results are 2\n",
      "The results are 4\n",
      "The results are 8\n",
      "The End!\n"
     ]
    }
   ],
   "source": [
    "z = 2\n",
    "\n",
    "while z < 10:\n",
    "    print (f'The results are {z}')\n",
    "    \n",
    "    z *= 2\n",
    "    \n",
    "else:\n",
    "    print(f'The End!')"
   ]
  },
  {
   "cell_type": "code",
   "execution_count": 33,
   "metadata": {},
   "outputs": [
    {
     "name": "stdout",
     "output_type": "stream",
     "text": [
      "For Ina salary will be 10000 in Year 1\n",
      "For Mina salary will be 10000 in Year 1\n",
      "For Tina salary will be 10000 in Year 1\n",
      "For Ina salary will be 11000 in Year 2\n",
      "For Mina salary will be 11000 in Year 2\n",
      "For Tina salary will be 11000 in Year 2\n",
      "For Ina salary will be 12000 in Year 3\n",
      "For Mina salary will be 12000 in Year 3\n",
      "For Tina salary will be 12000 in Year 3\n",
      "This is the complete list\n"
     ]
    }
   ],
   "source": [
    "n = ['Ina', \"Mina\", 'Tina']\n",
    "y = 1\n",
    "s = 10000\n",
    "\n",
    "while y <= 3 or s <= 3:\n",
    "    print(f\"For {n[0]} salary will be {s} in Year {y}\")\n",
    "    \n",
    "    print(f\"For {n[1]} salary will be {s} in Year {y}\")\n",
    "    \n",
    "    print(f\"For {n[2]} salary will be {s} in Year {y}\")\n",
    "    \n",
    "    y +=1\n",
    "    s +=1000\n",
    "    \n",
    "else:\n",
    "    print(f'This is the complete list')"
   ]
  },
  {
   "cell_type": "code",
   "execution_count": 40,
   "metadata": {},
   "outputs": [
    {
     "name": "stdout",
     "output_type": "stream",
     "text": [
      "For Ina salary will be 16000 in Year 1\n",
      "For Mina salary will be 21000 in Year 1\n",
      "For Tina salary will be 27000 in Year 1\n",
      "For Ina salary will be 16000 in Year 2\n",
      "For Mina salary will be 21000 in Year 2\n",
      "For Tina salary will be 27000 in Year 2\n",
      "For Ina salary will be 16000 in Year 3\n",
      "For Mina salary will be 21000 in Year 3\n",
      "For Tina salary will be 27000 in Year 3\n"
     ]
    },
    {
     "ename": "TypeError",
     "evalue": "'list' object is not callable",
     "output_type": "error",
     "traceback": [
      "\u001b[1;31m---------------------------------------------------------------------------\u001b[0m",
      "\u001b[1;31mTypeError\u001b[0m                                 Traceback (most recent call last)",
      "\u001b[1;32m<ipython-input-40-83a222c2e07d>\u001b[0m in \u001b[0;36m<module>\u001b[1;34m\u001b[0m\n\u001b[0;32m      5\u001b[0m \u001b[0ma\u001b[0m \u001b[1;33m=\u001b[0m \u001b[1;33m[\u001b[0m\u001b[1;36m10000\u001b[0m\u001b[1;33m,\u001b[0m \u001b[1;36m12000\u001b[0m\u001b[1;33m,\u001b[0m \u001b[1;36m15000\u001b[0m\u001b[1;33m]\u001b[0m\u001b[1;33m\u001b[0m\u001b[1;33m\u001b[0m\u001b[0m\n\u001b[0;32m      6\u001b[0m \u001b[1;33m\u001b[0m\u001b[0m\n\u001b[1;32m----> 7\u001b[1;33m \u001b[1;32mwhile\u001b[0m \u001b[0my\u001b[0m \u001b[1;33m<=\u001b[0m \u001b[1;36m3\u001b[0m \u001b[1;32mor\u001b[0m \u001b[0msal\u001b[0m\u001b[1;33m(\u001b[0m\u001b[0ma\u001b[0m\u001b[1;33m)\u001b[0m \u001b[1;33m<=\u001b[0m \u001b[1;36m25000\u001b[0m\u001b[1;33m:\u001b[0m\u001b[1;33m\u001b[0m\u001b[1;33m\u001b[0m\u001b[0m\n\u001b[0m\u001b[0;32m      8\u001b[0m     \u001b[0mprint\u001b[0m\u001b[1;33m(\u001b[0m\u001b[1;34mf\"For {n[0]} salary will be {sal[0]} in Year {y}\"\u001b[0m\u001b[1;33m)\u001b[0m\u001b[1;33m\u001b[0m\u001b[1;33m\u001b[0m\u001b[0m\n\u001b[0;32m      9\u001b[0m     \u001b[0mprint\u001b[0m\u001b[1;33m(\u001b[0m\u001b[1;34mf\"For {n[1]} salary will be {sal[1]} in Year {y}\"\u001b[0m\u001b[1;33m)\u001b[0m\u001b[1;33m\u001b[0m\u001b[1;33m\u001b[0m\u001b[0m\n",
      "\u001b[1;31mTypeError\u001b[0m: 'list' object is not callable"
     ]
    }
   ],
   "source": [
    "# When I want to give different salaries to different people with different increments in different years\n",
    "\n",
    "n = ['Ina', \"Mina\", 'Tina']\n",
    "y = 1\n",
    "a = [10000, 12000, 15000]\n",
    "\n",
    "while y <= 3 or sal(a) <= 25000:\n",
    "    print(f\"For {n[0]} salary will be {sal[0]} in Year {y}\")   \n",
    "    print(f\"For {n[1]} salary will be {sal[1]} in Year {y}\")\n",
    "    print(f\"For {n[2]} salary will be {sal[2]} in Year {y}\")  \n",
    "    \n",
    "    y +=1\n",
    "    a[0] +=1000\n",
    "    a[1] +=1500\n",
    "    a[2] +=2000    \n",
    "else:\n",
    "    print(f'This is the complete list')"
   ]
  },
  {
   "cell_type": "code",
   "execution_count": 34,
   "metadata": {},
   "outputs": [
    {
     "name": "stdout",
     "output_type": "stream",
     "text": [
      "84466\n"
     ]
    }
   ],
   "source": [
    "digit_sum = [199,2228,32165,49874]\n",
    "\n",
    "print (sum(digit_sum))\n"
   ]
  },
  {
   "cell_type": "code",
   "execution_count": null,
   "metadata": {},
   "outputs": [],
   "source": []
  }
 ],
 "metadata": {
  "kernelspec": {
   "display_name": "Python 3",
   "language": "python",
   "name": "python3"
  },
  "language_info": {
   "codemirror_mode": {
    "name": "ipython",
    "version": 3
   },
   "file_extension": ".py",
   "mimetype": "text/x-python",
   "name": "python",
   "nbconvert_exporter": "python",
   "pygments_lexer": "ipython3",
   "version": "3.8.5"
  }
 },
 "nbformat": 4,
 "nbformat_minor": 4
}
