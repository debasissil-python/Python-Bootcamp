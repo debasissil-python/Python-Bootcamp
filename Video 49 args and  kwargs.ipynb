{
 "cells": [
  {
   "cell_type": "markdown",
   "metadata": {},
   "source": [
    "*args"
   ]
  },
  {
   "cell_type": "markdown",
   "metadata": {},
   "source": [
    "#*args are used when many values are put in the lists"
   ]
  },
  {
   "cell_type": "code",
   "execution_count": 32,
   "metadata": {},
   "outputs": [],
   "source": [
    "def my_function(x,y):\n",
    "    # this returns the sum of x and y and multiplies by 10%\n",
    "    return sum([x,y]) * 0.1"
   ]
  },
  {
   "cell_type": "code",
   "execution_count": 35,
   "metadata": {},
   "outputs": [
    {
     "data": {
      "text/plain": [
       "100.0"
      ]
     },
     "execution_count": 35,
     "metadata": {},
     "output_type": "execute_result"
    }
   ],
   "source": [
    "my_function(800,200)"
   ]
  },
  {
   "cell_type": "code",
   "execution_count": 74,
   "metadata": {},
   "outputs": [],
   "source": [
    "# Here z,a & c are given default numbers meaning if no nums are given it won't effect output but any values can also be given\n",
    "\n",
    "\n",
    "def my_function(x,y,z = 0, a = 0, c=0):         \n",
    "    # this returns the sum of x and y and multiplies by 10%\n",
    "    print (x,y,z,a,c)\n",
    "    return sum([x,y,z,a,c]) * 0.1"
   ]
  },
  {
   "cell_type": "code",
   "execution_count": 75,
   "metadata": {},
   "outputs": [
    {
     "name": "stdout",
     "output_type": "stream",
     "text": [
      "800 200 0 0 0\n"
     ]
    },
    {
     "data": {
      "text/plain": [
       "100.0"
      ]
     },
     "execution_count": 75,
     "metadata": {},
     "output_type": "execute_result"
    }
   ],
   "source": [
    "my_function(800,200)"
   ]
  },
  {
   "cell_type": "code",
   "execution_count": 76,
   "metadata": {},
   "outputs": [
    {
     "name": "stdout",
     "output_type": "stream",
     "text": [
      "800 200 300 100 0\n"
     ]
    },
    {
     "data": {
      "text/plain": [
       "140.0"
      ]
     },
     "execution_count": 76,
     "metadata": {},
     "output_type": "execute_result"
    }
   ],
   "source": [
    "my_function(800,200,300,100) # Note that only 4 values are given instead of 5"
   ]
  },
  {
   "cell_type": "code",
   "execution_count": 77,
   "metadata": {},
   "outputs": [
    {
     "ename": "TypeError",
     "evalue": "my_function() takes from 2 to 5 positional arguments but 6 were given",
     "output_type": "error",
     "traceback": [
      "\u001b[1;31m---------------------------------------------------------------------------\u001b[0m",
      "\u001b[1;31mTypeError\u001b[0m                                 Traceback (most recent call last)",
      "\u001b[1;32m<ipython-input-77-f038112f2f10>\u001b[0m in \u001b[0;36m<module>\u001b[1;34m\u001b[0m\n\u001b[1;32m----> 1\u001b[1;33m \u001b[0mmy_function\u001b[0m\u001b[1;33m(\u001b[0m\u001b[1;36m800\u001b[0m\u001b[1;33m,\u001b[0m\u001b[1;36m200\u001b[0m\u001b[1;33m,\u001b[0m\u001b[1;36m300\u001b[0m\u001b[1;33m,\u001b[0m\u001b[1;36m100\u001b[0m\u001b[1;33m,\u001b[0m\u001b[1;36m500\u001b[0m\u001b[1;33m,\u001b[0m\u001b[1;36m600\u001b[0m\u001b[1;33m)\u001b[0m                 \u001b[1;31m# The moment we gave more than 5 values it gave an error\u001b[0m\u001b[1;33m\u001b[0m\u001b[1;33m\u001b[0m\u001b[0m\n\u001b[0m",
      "\u001b[1;31mTypeError\u001b[0m: my_function() takes from 2 to 5 positional arguments but 6 were given"
     ]
    }
   ],
   "source": [
    "my_function(800,200,300,100,500,600)                 # The moment we gave more than 5 values it gave an error"
   ]
  },
  {
   "cell_type": "markdown",
   "metadata": {},
   "source": [
    "#HERE *args COME TO PLAY"
   ]
  },
  {
   "cell_type": "code",
   "execution_count": 78,
   "metadata": {},
   "outputs": [],
   "source": [
    "def my_function(*args):\n",
    "    # this returns the sum of x and y and multiplies by 10%\n",
    "    return sum((args)) * .1\n",
    "  "
   ]
  },
  {
   "cell_type": "code",
   "execution_count": 79,
   "metadata": {},
   "outputs": [
    {
     "data": {
      "text/plain": [
       "100.0"
      ]
     },
     "execution_count": 79,
     "metadata": {},
     "output_type": "execute_result"
    }
   ],
   "source": [
    "my_function(800,200)                                         # here we can put any values we want"
   ]
  },
  {
   "cell_type": "code",
   "execution_count": 80,
   "metadata": {},
   "outputs": [
    {
     "data": {
      "text/plain": [
       "250.0"
      ]
     },
     "execution_count": 80,
     "metadata": {},
     "output_type": "execute_result"
    }
   ],
   "source": [
    "my_function(800,200,300,100,500,600)                         # Have put 6 values"
   ]
  },
  {
   "cell_type": "code",
   "execution_count": 81,
   "metadata": {},
   "outputs": [
    {
     "data": {
      "text/plain": [
       "272.40000000000003"
      ]
     },
     "execution_count": 81,
     "metadata": {},
     "output_type": "execute_result"
    }
   ],
   "source": [
    "my_function(800,200,300,100,500,600,5,55,65,99)              # Have put 10 values"
   ]
  },
  {
   "cell_type": "code",
   "execution_count": 82,
   "metadata": {},
   "outputs": [],
   "source": [
    "def myfunc(*args):\n",
    "    print(args)"
   ]
  },
  {
   "cell_type": "code",
   "execution_count": 83,
   "metadata": {},
   "outputs": [
    {
     "name": "stdout",
     "output_type": "stream",
     "text": [
      "(2, 3, 4, 5, 56)\n"
     ]
    }
   ],
   "source": [
    "myfunc(2,3,4,5,56) # When you print args it gives the values in tuples"
   ]
  },
  {
   "cell_type": "code",
   "execution_count": null,
   "metadata": {},
   "outputs": [],
   "source": []
  },
  {
   "cell_type": "markdown",
   "metadata": {},
   "source": [
    "#kwargs are used when many values are put in DICTIONARY"
   ]
  },
  {
   "cell_type": "code",
   "execution_count": 1,
   "metadata": {},
   "outputs": [],
   "source": [
    "def new_func(**kwargs):\n",
    "    if 'eyes' in kwargs:\n",
    "        print (\"Lessie's eyes are {}\".format(kwargs['eyes'])) \n",
    "    elif 'hair' in kwargs:\n",
    "        print (\"Ruben's hair is {} Brown\".format(kwargs['hair']))\n",
    "    else:\n",
    "        print ('Bye')"
   ]
  },
  {
   "cell_type": "code",
   "execution_count": 2,
   "metadata": {},
   "outputs": [
    {
     "name": "stdout",
     "output_type": "stream",
     "text": [
      "Lessie's eyes are Brown\n"
     ]
    }
   ],
   "source": [
    "new_func(eyes= 'Brown', hair = 'Golden')"
   ]
  },
  {
   "cell_type": "code",
   "execution_count": 309,
   "metadata": {},
   "outputs": [],
   "source": [
    "def new_func(**kwargs):\n",
    "    \n",
    "    print (kwargs)            \n",
    "    \n",
    "    if 'eyes''color''hair''face' and 'behaviour' in kwargs:             # Is this alright? It shows error when I put ','\n",
    "        \n",
    "        print (\"Leslie's eyes are {1} and {0}\".format(kwargs['eyes'],kwargs['color']))   # We need to use kwargs everytime...\n",
    "                                                                                       # ...we pass a value\n",
    "        print (\"Ruben's hair is {}\".format(kwargs['hair'])) \n",
    "        print (\"Lily's face is {}\".format(kwargs['face']))\n",
    "        print (\"Mallika's behaviour is {}\".format(kwargs['behaviour']))\n",
    "        \n",
    "    else:\n",
    "        print ('Bye')"
   ]
  },
  {
   "cell_type": "code",
   "execution_count": 310,
   "metadata": {},
   "outputs": [
    {
     "name": "stdout",
     "output_type": "stream",
     "text": [
      "{'eyes': 'Brown', 'color': 'Beautiful', 'hair': 'Golden', 'face': 'Sweet', 'behaviour': 'Excellent'}\n",
      "Leslie's eyes are Beautiful and Brown\n",
      "Ruben's hair is Golden\n",
      "Lily's face is Sweet\n",
      "Mallika's behaviour is Excellent\n"
     ]
    }
   ],
   "source": [
    "new_func(eyes = 'Brown', color = 'Beautiful', hair ='Golden', face ='Sweet', behaviour ='Excellent')"
   ]
  },
  {
   "cell_type": "code",
   "execution_count": null,
   "metadata": {},
   "outputs": [],
   "source": []
  },
  {
   "cell_type": "markdown",
   "metadata": {},
   "source": [
    "#Using args and kwargs together"
   ]
  },
  {
   "cell_type": "code",
   "execution_count": 3,
   "metadata": {},
   "outputs": [],
   "source": [
    "# Using *args and **kwargs together\n",
    "# For args use index numbers 0,1,2,3,etc...\n",
    "# For kwargs use inputs\n",
    "\n",
    "# The symetry has to be maintained. If * args is placed before then the calling will have to be accordingly\n",
    "\n",
    "\n",
    "def my_func(*args, **kwargs):\n",
    "    print ([args])                                                          # Gives out Tuples\n",
    "    print (kwargs)                                                        # Gives out Dictionary\n",
    "    print (\"He got {} % in {}\".format(args[2], kwargs['paper3'])) \n",
    "    print (\"I got {} % in {}\".format(args[1], kwargs['paper1']))"
   ]
  },
  {
   "cell_type": "code",
   "execution_count": 4,
   "metadata": {},
   "outputs": [
    {
     "name": "stdout",
     "output_type": "stream",
     "text": [
      "[(92, 90, 98)]\n",
      "{'paper1': 'History', 'paper2': 'Physics', 'paper3': 'Computer'}\n",
      "He got 98 % in Computer\n",
      "I got 90 % in History\n"
     ]
    }
   ],
   "source": [
    "my_func( 92,90,98, paper1 = 'History', paper2 ='Physics' , paper3 = 'Computer')"
   ]
  },
  {
   "cell_type": "code",
   "execution_count": null,
   "metadata": {},
   "outputs": [],
   "source": []
  },
  {
   "cell_type": "markdown",
   "metadata": {},
   "source": [
    "#Returning a List of Even Numbers using *args"
   ]
  },
  {
   "cell_type": "code",
   "execution_count": 55,
   "metadata": {},
   "outputs": [
    {
     "data": {
      "text/plain": [
       "[2, 4, 6, 8]"
      ]
     },
     "execution_count": 55,
     "metadata": {},
     "output_type": "execute_result"
    }
   ],
   "source": [
    "# Returning a list of even numbers using *args\n",
    "\n",
    "# Option I\n",
    "\n",
    "def my_func(*args):\n",
    "    return [even for even in args if even %2 == 0]\n",
    "\n",
    "my_func(1,2,3,4,5,6,7,8,9)"
   ]
  },
  {
   "cell_type": "code",
   "execution_count": 56,
   "metadata": {},
   "outputs": [
    {
     "data": {
      "text/plain": [
       "[2, 4, 6, 8]"
      ]
     },
     "execution_count": 56,
     "metadata": {},
     "output_type": "execute_result"
    }
   ],
   "source": [
    "# Option II\n",
    "\n",
    "def my_func(*args):\n",
    "    even = []\n",
    "    for even_nos in args:\n",
    "        if even_nos %2 == 0:\n",
    "            even.append(even_nos)\n",
    "        \n",
    "    return even\n",
    "\n",
    "my_func(1,2,3,4,5,6,7,8,9)"
   ]
  },
  {
   "cell_type": "markdown",
   "metadata": {},
   "source": [
    "Skyline"
   ]
  },
  {
   "cell_type": "code",
   "execution_count": 5,
   "metadata": {},
   "outputs": [
    {
     "data": {
      "text/plain": [
       "'SwAzIlAnD'"
      ]
     },
     "execution_count": 5,
     "metadata": {},
     "output_type": "execute_result"
    }
   ],
   "source": [
    "# Define a function which will take a string whose output will have all Even in Capitals and all Odds in Small letters\n",
    "\n",
    "# Option I\n",
    "\n",
    "def myfunc(*args):\n",
    "    new_str = []\n",
    "    for index, char in enumerate(*args):\n",
    "        if index %2 == 0:\n",
    "            new_str.append(char.upper())\n",
    "        else:\n",
    "            new_str.append(char.lower())\n",
    "            \n",
    "    return ''.join(new_str)    \n",
    "        \n",
    "myfunc ('Swaziland')"
   ]
  },
  {
   "cell_type": "code",
   "execution_count": 7,
   "metadata": {},
   "outputs": [
    {
     "data": {
      "text/plain": [
       "'SwAzIlAnD'"
      ]
     },
     "execution_count": 7,
     "metadata": {},
     "output_type": "execute_result"
    }
   ],
   "source": [
    "# Option II\n",
    "\n",
    "\n",
    "def my_func(*args):\n",
    "    new_str = []\n",
    "    for index in range(len('Swaziland')):\n",
    "        if index % 2 == 0:\n",
    "            new_str.append('Swaziland'[index].upper())\n",
    "        else:\n",
    "            new_str.append('Swaziland'[index].lower())\n",
    "\n",
    "    return ''.join(new_str)\n",
    "\n",
    "my_func('Swaziland')"
   ]
  },
  {
   "cell_type": "code",
   "execution_count": null,
   "metadata": {},
   "outputs": [],
   "source": []
  },
  {
   "cell_type": "code",
   "execution_count": null,
   "metadata": {},
   "outputs": [],
   "source": []
  }
 ],
 "metadata": {
  "kernelspec": {
   "display_name": "Python 3",
   "language": "python",
   "name": "python3"
  },
  "language_info": {
   "codemirror_mode": {
    "name": "ipython",
    "version": 3
   },
   "file_extension": ".py",
   "mimetype": "text/x-python",
   "name": "python",
   "nbconvert_exporter": "python",
   "pygments_lexer": "ipython3",
   "version": "3.8.5"
  }
 },
 "nbformat": 4,
 "nbformat_minor": 4
}
