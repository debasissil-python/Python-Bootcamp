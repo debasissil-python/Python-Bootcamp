{
 "cells": [
  {
   "cell_type": "markdown",
   "metadata": {},
   "source": [
    "## Building Blackjack Game"
   ]
  },
  {
   "cell_type": "markdown",
   "metadata": {},
   "source": [
    "#### Step I"
   ]
  },
  {
   "cell_type": "code",
   "execution_count": 1,
   "metadata": {},
   "outputs": [],
   "source": [
    "from random import shuffle \n",
    "\n",
    "suits = ('Hearts', 'Spades', 'Diamonds', 'Clubs')\n",
    "ranks = ( 'Two', 'Three', 'Four', 'Five', 'Six', 'Seven', 'Eight', 'Nine', 'Ten', 'Jack', 'Queen', 'King', 'Ace')\n",
    "values = {'Two':2 , 'Three':3, 'Four':4, 'Five':5, 'Six':6, 'Seven':7, 'Eight':8, \n",
    "            'Nine':9, 'Ten':10, 'Jack':10, 'Queen':10, 'King':10, 'Ace':11}\n",
    "\n",
    "playing = True"
   ]
  },
  {
   "cell_type": "markdown",
   "metadata": {},
   "source": [
    "#### Step 2"
   ]
  },
  {
   "cell_type": "code",
   "execution_count": 2,
   "metadata": {},
   "outputs": [],
   "source": [
    "class Card():\n",
    "    \n",
    "    def __init__(self, suit, rank):\n",
    "        \n",
    "        self.suit = suit\n",
    "        self.rank = rank       \n",
    "        \n",
    "    def __str__(self):\n",
    "        \n",
    "        return self.rank +' of ' + self.suit\n",
    "        "
   ]
  },
  {
   "cell_type": "markdown",
   "metadata": {},
   "source": [
    "#### Step 3"
   ]
  },
  {
   "cell_type": "code",
   "execution_count": 3,
   "metadata": {},
   "outputs": [],
   "source": [
    "class Deck():\n",
    "    \n",
    "    def __init__(self):\n",
    "        \n",
    "        self.all_cards = []\n",
    "        \n",
    "        for suit in suits:\n",
    "            for rank in ranks:                           \n",
    "                self.all_cards.append(Card(suit,rank))\n",
    "                shuffle(self.all_cards)\n",
    "                \n",
    "    def __str__(self):\n",
    "        \n",
    "        no_of_cards = ''\n",
    "        \n",
    "        for card in self.deck:\n",
    "            no_of_cards += card.__str__()\n",
    "            return \"The cards in deck are\" + no_of_cards\n",
    "            \n",
    "        \n",
    "    def remove_cards(self):        \n",
    "        removed_card = self.all_cards.pop()\n",
    "        return removed_card   "
   ]
  },
  {
   "cell_type": "markdown",
   "metadata": {},
   "source": [
    "#### Step 4"
   ]
  },
  {
   "cell_type": "code",
   "execution_count": 4,
   "metadata": {},
   "outputs": [],
   "source": [
    "class Hand():\n",
    "    \n",
    "    def __init__(self):        \n",
    "        self.card = []\n",
    "        self.value = 0\n",
    "        self.aces = 0\n",
    "           \n",
    "    def add_cards(self,card):\n",
    "        self.card.append(card)\n",
    "        self.value += values[card.rank] \n",
    "        \n",
    "        if card.rank == 'Ace':\n",
    "            self.aces += 1\n",
    "                   \n",
    "    def aces_value(self):        \n",
    "        while self.value > 21 and self.aces:            \n",
    "            self.value -= 10\n",
    "            self.aces -= 1                       "
   ]
  },
  {
   "cell_type": "markdown",
   "metadata": {},
   "source": [
    "#### Step 5"
   ]
  },
  {
   "cell_type": "code",
   "execution_count": 5,
   "metadata": {},
   "outputs": [],
   "source": [
    "class Chips():\n",
    "    \n",
    "    def __init__(self, total_chips = 100):         \n",
    "        self.total_chips = 100\n",
    "        self.total_bets = 0\n",
    "        \n",
    "    def win_bets(self):                    \n",
    "        self.total_chips += self.total_bets\n",
    "        \n",
    "    def lost_bets(self):                   \n",
    "        self.total_chips -= self.total_bets"
   ]
  },
  {
   "cell_type": "markdown",
   "metadata": {},
   "source": [
    "#### Function for Taking Bets"
   ]
  },
  {
   "cell_type": "markdown",
   "metadata": {},
   "source": [
    "#### Step 6"
   ]
  },
  {
   "cell_type": "code",
   "execution_count": 6,
   "metadata": {},
   "outputs": [],
   "source": [
    "def take_bets(chips):\n",
    "    \n",
    "    while True:\n",
    "        try:\n",
    "            chips.total_bets = int(input(\"\\nHow many Chips You want to Bet: \"))            \n",
    "        except ValueError:            \n",
    "            print (\"Please put in a number\")\n",
    "            \n",
    "        else:\n",
    "            if chips.total_bets > chips.total_chips:\n",
    "                print (\"Please enter a number within {}\".format(chips.total_chips))\n",
    "            \n",
    "            else:\n",
    "                break"
   ]
  },
  {
   "cell_type": "markdown",
   "metadata": {},
   "source": [
    "#### Step 7"
   ]
  },
  {
   "cell_type": "code",
   "execution_count": 7,
   "metadata": {},
   "outputs": [],
   "source": [
    "def take_hits(deck,hand):\n",
    "    \n",
    "    hand.add_cards(deck.remove_cards())     # A Card is taken from Deck and added to valueathand\n",
    "    hand.aces_value()                     # Then it is adjusted in case of Ace"
   ]
  },
  {
   "cell_type": "markdown",
   "metadata": {},
   "source": [
    "#### Step 8"
   ]
  },
  {
   "cell_type": "code",
   "execution_count": 8,
   "metadata": {},
   "outputs": [],
   "source": [
    "def hit_or_stand(deck,hand):    \n",
    "    global playing\n",
    "\n",
    "    while True:\n",
    "        \n",
    "        x = str(input(\"\\nDo You want to Hit or Stand: \"))\n",
    "\n",
    "        if x[0].lower() == 'h':\n",
    "            print (\"\\nPlayer Hits! Dealer Wait\")\n",
    "            take_hits(deck,hand)           \n",
    "\n",
    "        elif x[0].lower() == 's':\n",
    "            print (\"\\nPlayer Stands! Dealer's Turn\")\n",
    "            playing = False\n",
    "\n",
    "        else: \n",
    "            print (\"Please select either 'Hit' or 'Stand'\")\n",
    "            continue\n",
    "        break       "
   ]
  },
  {
   "cell_type": "markdown",
   "metadata": {},
   "source": [
    "#### Step 9"
   ]
  },
  {
   "cell_type": "code",
   "execution_count": 12,
   "metadata": {},
   "outputs": [],
   "source": [
    "def display_some(player, dealer):\n",
    "    \n",
    "    print (\"\\n Dealer's Hand\")\n",
    "    print(\" <card hidden>\")\n",
    "    print('',dealer.card[1])  \n",
    "    print(\"\\nPlayer's Hand:\", *player.card, sep='\\n ')\n",
    "    print(\"Player's Hand =\",player.value)\n",
    "    \n",
    "def display_all(player,dealer):\n",
    "    \n",
    "    print(\"\\nDealer's Hand:\", *dealer.card, sep='\\n ')\n",
    "    print(\"Dealer's Hand =\",dealer.value)\n",
    "    print(\"\\nPlayer's Hand:\", *player.card, sep='\\n ')\n",
    "    print(\"Player's Hand =\",player.value)    "
   ]
  },
  {
   "cell_type": "markdown",
   "metadata": {},
   "source": [
    "The asterisk <code>*</code> symbol is used to print every item in a collection, \n",
    "and the <code>sep='\\n '</code> argument prints each item on a separate line.\n"
   ]
  },
  {
   "cell_type": "markdown",
   "metadata": {},
   "source": [
    "##### Step 10"
   ]
  },
  {
   "cell_type": "code",
   "execution_count": 13,
   "metadata": {},
   "outputs": [],
   "source": [
    "def player_busts(player, dealer, chips):    \n",
    "    print (\"Player Busts. Dealer Wins!\")\n",
    "    chips.lost_bets()\n",
    "    \n",
    "def player_wins(player, dealer, chips):    \n",
    "    print (\"Player wins! Dealer Busts\")\n",
    "    chips.win_bets()\n",
    "    \n",
    "def dealer_busts(player, dealer, chips):    \n",
    "    print (\"Dealer Busts. Player Wins!\")\n",
    "    chips.lost_bets()\n",
    "    \n",
    "def dealer_wins(player, dealer, chips):    \n",
    "    print (\"Dealer wins! Player Busts!\")\n",
    "    chips.win_bets()\n",
    "    \n",
    "def push(player, dealer):    \n",
    "    print (\"It's a Push! Tie between Player and Dealer\")"
   ]
  },
  {
   "cell_type": "markdown",
   "metadata": {},
   "source": [
    "## Final Coding for the Game"
   ]
  },
  {
   "cell_type": "code",
   "execution_count": 14,
   "metadata": {},
   "outputs": [
    {
     "name": "stdout",
     "output_type": "stream",
     "text": [
      "\n",
      "Welcome to Black Jack!\n",
      "\n",
      "Try to Get as close to 21 as You can without going over!\n",
      "\n",
      "Dealer hits until she reaches 21. Aces count as 1 or 11.\n",
      "\n",
      "Jack, King & Queen count as 10. All the Best! Happy Playing :D\n",
      "\n",
      "How many Chips You want to Bet: 78\n",
      "\n",
      " Dealer's Hand\n",
      " <card hidden>\n",
      " King of Diamonds\n",
      "\n",
      "Player's Hand:\n",
      " Ten of Diamonds\n",
      " Five of Hearts\n",
      "Player's Hand = 15\n",
      "\n",
      "Dealer's Hand:\n",
      " Nine of Diamonds\n",
      " King of Diamonds\n",
      " Three of Clubs\n",
      "Dealer's Hand = 22\n",
      "\n",
      "Player's Hand:\n",
      " Ten of Diamonds\n",
      " Five of Hearts\n",
      "Player's Hand = 15\n",
      "Dealer Busts. Player Wins!\n",
      "Do You want to Play Another Game: n\n",
      "Thank's for playing\n"
     ]
    }
   ],
   "source": [
    "while True:\n",
    "    \n",
    "    print ('\\nWelcome to Black Jack!')\n",
    "    print(\"\\nTry to Get as close to 21 as You can without going over!\")\n",
    "    print(\"\\nDealer hits until she reaches 21. Aces count as 1 or 11.\")\n",
    "    print(\"\\nJack, King & Queen count as 10. All the Best! Happy Playing :D\")\n",
    "\n",
    "    # Call the Deck Class\n",
    "    deck = Deck()\n",
    "\n",
    "    # Call the Player Card\n",
    "    players_card = Hand()\n",
    "    players_card.add_cards(deck.remove_cards())\n",
    "    players_card.add_cards(deck.remove_cards())\n",
    "\n",
    "\n",
    "    # Call the Dealer Card\n",
    "    dealers_card = Hand()\n",
    "    dealers_card.add_cards(deck.remove_cards())\n",
    "    dealers_card.add_cards(deck.remove_cards())\n",
    "\n",
    "    players_chips = Chips() # Default value is 100\n",
    "\n",
    "    # Now the player take bets\n",
    "    take_bets(players_chips)\n",
    "\n",
    "    # Show cards\n",
    "    display_some(players_card, dealers_card)\n",
    "\n",
    "    while playing:     \n",
    "        hit_or_stand(deck, players_card)\n",
    "\n",
    "        display_some(players_card, dealers_card)\n",
    "        \n",
    "\n",
    "        if players_card.value > 21:\n",
    "            player_busts(players_card, dealers_card, players_chips)\n",
    "            break\n",
    "\n",
    "    # If Stand\n",
    "    if players_card.value <= 21:\n",
    "        \n",
    "        # Scenario 1\n",
    "        while dealers_card.value < 21:\n",
    "            take_hits(deck, dealers_card)   \n",
    "            display_all(players_card, dealers_card)\n",
    "\n",
    "        # Scenario 2\n",
    "        if dealers_card.value > 21:\n",
    "            dealer_busts(players_card, dealers_card, players_chips)\n",
    "\n",
    "        elif dealers_card.value > players_card.value:\n",
    "            dealer_wins(players_card, dealers_card, players_chips)\n",
    "\n",
    "        elif dealers_card.value < players_card.value:\n",
    "            player_wins(players_card, dealers_card, players_chips)\n",
    "\n",
    "        elif dealers_card.value == players_card.value:\n",
    "            push(players_card, dealers_card)   \n",
    "\n",
    "\n",
    "    play_again = input('Do You want to Play Another Game: ')\n",
    "\n",
    "    if play_again[0].upper() == 'Y':\n",
    "        playing = True\n",
    "        continue\n",
    "\n",
    "    else:\n",
    "        print(\"Thank's for playing\")\n",
    "        break"
   ]
  },
  {
   "cell_type": "code",
   "execution_count": null,
   "metadata": {},
   "outputs": [],
   "source": []
  },
  {
   "cell_type": "code",
   "execution_count": null,
   "metadata": {},
   "outputs": [],
   "source": []
  },
  {
   "cell_type": "code",
   "execution_count": null,
   "metadata": {},
   "outputs": [],
   "source": []
  },
  {
   "cell_type": "code",
   "execution_count": null,
   "metadata": {},
   "outputs": [],
   "source": []
  },
  {
   "cell_type": "code",
   "execution_count": null,
   "metadata": {},
   "outputs": [],
   "source": []
  }
 ],
 "metadata": {
  "kernelspec": {
   "display_name": "Python 3",
   "language": "python",
   "name": "python3"
  },
  "language_info": {
   "codemirror_mode": {
    "name": "ipython",
    "version": 3
   },
   "file_extension": ".py",
   "mimetype": "text/x-python",
   "name": "python",
   "nbconvert_exporter": "python",
   "pygments_lexer": "ipython3",
   "version": "3.8.5"
  }
 },
 "nbformat": 4,
 "nbformat_minor": 4
}
