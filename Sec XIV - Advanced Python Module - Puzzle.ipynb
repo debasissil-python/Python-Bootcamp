{
 "cells": [
  {
   "cell_type": "markdown",
   "metadata": {},
   "source": [
    "# Section 14: Video 114: Advanced Python Module Puzzle - Solving Problems"
   ]
  },
  {
   "cell_type": "markdown",
   "metadata": {},
   "source": [
    "#### Unzip the 'Unzip me for instruction.zip' file"
   ]
  },
  {
   "cell_type": "code",
   "execution_count": 2,
   "metadata": {},
   "outputs": [],
   "source": [
    "import os"
   ]
  },
  {
   "cell_type": "code",
   "execution_count": 3,
   "metadata": {},
   "outputs": [],
   "source": [
    "import shutil"
   ]
  },
  {
   "cell_type": "code",
   "execution_count": 4,
   "metadata": {},
   "outputs": [
    {
     "data": {
      "text/plain": [
       "'C:\\\\Users\\\\LENOVO\\\\18082020'"
      ]
     },
     "execution_count": 4,
     "metadata": {},
     "output_type": "execute_result"
    }
   ],
   "source": [
    "os.getcwd()"
   ]
  },
  {
   "cell_type": "code",
   "execution_count": 25,
   "metadata": {},
   "outputs": [
    {
     "data": {
      "text/plain": [
       "['.ipynb_checkpoints',\n",
       " '07-Advanced-Modules-Exercise-Puzzle.ipynb',\n",
       " '08-Advanced-Modules-Exercise-Solutions.ipynb',\n",
       " 'extracted_content',\n",
       " 'unzip_me_for_instructions.zip']"
      ]
     },
     "execution_count": 25,
     "metadata": {},
     "output_type": "execute_result"
    }
   ],
   "source": [
    "os.listdir('D:\\\\Complete-Python-3-Bootcamp-master\\\\Complete-Python-3-Bootcamp-master\\\\12-Advanced Python Modules\\\\08-Advanced-Python-Module-Exercise')"
   ]
  },
  {
   "cell_type": "code",
   "execution_count": 26,
   "metadata": {},
   "outputs": [],
   "source": [
    "unzip_me_for_instructions = 'D:\\\\Complete-Python-3-Bootcamp-master\\\\Complete-Python-3-Bootcamp-master\\\\12-Advanced Python Modules\\\\08-Advanced-Python-Module-Exercise\\\\unzip_me_for_instructions.zip'"
   ]
  },
  {
   "cell_type": "code",
   "execution_count": 27,
   "metadata": {},
   "outputs": [
    {
     "data": {
      "text/plain": [
       "'C:\\\\Users\\\\LENOVO\\\\18082020\\\\unzip_me_for_instructions.zip'"
      ]
     },
     "execution_count": 27,
     "metadata": {},
     "output_type": "execute_result"
    }
   ],
   "source": [
    "shutil.move(unzip_me_for_instructions,'C:\\\\Users\\\\LENOVO\\\\18082020')"
   ]
  },
  {
   "cell_type": "code",
   "execution_count": 28,
   "metadata": {},
   "outputs": [
    {
     "data": {
      "text/plain": [
       "['.ipynb_checkpoints',\n",
       " '00-Collections-Module.ipynb',\n",
       " '00-Milestone-2-Warmup-Project.ipynb',\n",
       " '00-Warm-Up-Project-Exercises.ipynb',\n",
       " '01-Iterators and Generators.ipynb',\n",
       " '01-Milestone Project 2 - Assignment.ipynb',\n",
       " '02-Decorators Homework.ipynb',\n",
       " '02-Errors and Exceptions Homework.ipynb',\n",
       " '02-Functions.ipynb',\n",
       " '02-Iterators and Generators Homework.ipynb',\n",
       " '02-Milestone Project 1 - Walkthrough Steps Workbook.ipynb',\n",
       " '02-Milestone Project 2 - Walkthrough Steps Workbook.ipynb',\n",
       " '02-Object Oriented Programming Homework.ipynb',\n",
       " '03-Function Practice Exercises.ipynb',\n",
       " '03-Milestone Project 1 - Complete Walkthrough Solution.ipynb',\n",
       " '03-Milestone Project 2 - Complete Walkthrough Solution.ipynb',\n",
       " '04-OOP Challenge.ipynb',\n",
       " '05-Overview-of-Regular-Expressions.ipynb',\n",
       " '06-Nested Statements and Scope.ipynb',\n",
       " '07-Statements Assessment Test.ipynb',\n",
       " '08-Functions and Methods Homework.ipynb',\n",
       " '09-Guessing Game Challenge.ipynb',\n",
       " '09-Objects and Data Structures Assessment Test.ipynb',\n",
       " 'chumu.py',\n",
       " 'Codacademy Practice different procedures.ipynb',\n",
       " 'Debasis Sil - Copy',\n",
       " 'firstnotebook.ipynb',\n",
       " 'kacha.txt',\n",
       " 'kachagolla.txt',\n",
       " 'Milestone Project 2 - Blackjack Game - Full Code with Description.ipynb',\n",
       " 'Milestone Project 2 - Blackjack Game - Full Code.ipynb',\n",
       " 'Newfile.txt',\n",
       " 'NewFile.zip',\n",
       " 'NewFileTwo.txt',\n",
       " 'NewZip.zip',\n",
       " 'Practice Split, Slice, Enumerate, etc. etc..ipynb',\n",
       " 'Practice_Folder',\n",
       " 'Sec V  Python Statements.ipynb',\n",
       " 'Sec V  Video 36  Pass, Continue and Break.ipynb',\n",
       " 'Sec V Video 37 Useful Operators.ipynb',\n",
       " 'Sec V Video 38 List Comprehensions.ipynb',\n",
       " 'Sec VI Video 41 onwards Methods and Py Documentations.ipynb',\n",
       " 'Sec VII Milestone Project 1 - Tic Tac Toe (New Version).ipynb',\n",
       " 'Sec VII Milestone Project 1 - Tic Tac Toe.ipynb',\n",
       " 'Sec VII Milestone Project 1.ipynb',\n",
       " 'Sec VIII - Object Oriented Programming - Attributes and Class.ipynb',\n",
       " 'Sec XI - Milestone Project 2 - War Game-Copy1.ipynb',\n",
       " 'Sec XI - Milestone Project 2 - War Game.ipynb',\n",
       " 'Sec XII - Decorators.ipynb',\n",
       " 'Sec XIII - Python Generators.ipynb',\n",
       " 'Sec XIV - Advanced Python Module - Collections Module.ipynb',\n",
       " 'Sec XIV - Advanced Python Module - Datetime Module.ipynb',\n",
       " 'Sec XIV - Advanced Python Module - Math and Random Module.ipynb',\n",
       " 'Sec XIV - Advanced Python Module - OS Module.ipynb',\n",
       " 'Sec XIV - Advanced Python Module - Puzzle.ipynb',\n",
       " 'Sec XIV - Advanced Python Module - Py Regular Expressions.ipynb',\n",
       " 'Sec XIV - Advanced python Module - Python Debugger.ipynb',\n",
       " 'Sec XIV - Advanced Python Module - Timing Your Python Code.ipynb',\n",
       " 'Sec XIV - Advanced Python Module - Zipping and Unzipping Files.ipynb',\n",
       " 'Secondnotebook.ipynb',\n",
       " 'textfiles.txt',\n",
       " 'Thirdnotebook.ipynb',\n",
       " 'Tic Tac Toe - Own Version.ipynb',\n",
       " 'Untitled.ipynb',\n",
       " 'Untitled1.ipynb',\n",
       " 'unzip_me_for_instructions.zip',\n",
       " 'Useful_Info_Notebook.ipynb',\n",
       " 'Video 49 args and  kwargs.ipynb',\n",
       " 'Video 55 Lambda, Map and Filter.ipynb',\n",
       " 'Video 56 Nested Statements and Scope.ipynb',\n",
       " 'Zip_Extracts']"
      ]
     },
     "execution_count": 28,
     "metadata": {},
     "output_type": "execute_result"
    }
   ],
   "source": [
    "os.listdir()"
   ]
  },
  {
   "cell_type": "code",
   "execution_count": 31,
   "metadata": {},
   "outputs": [],
   "source": [
    "shutil.unpack_archive('C:\\\\Users\\\\LENOVO\\\\18082020\\\\unzip_me_for_instructions.zip','unzipped_for_instructions','zip')"
   ]
  },
  {
   "cell_type": "code",
   "execution_count": null,
   "metadata": {},
   "outputs": [],
   "source": []
  },
  {
   "cell_type": "code",
   "execution_count": null,
   "metadata": {},
   "outputs": [],
   "source": []
  },
  {
   "cell_type": "code",
   "execution_count": null,
   "metadata": {},
   "outputs": [],
   "source": []
  },
  {
   "cell_type": "code",
   "execution_count": null,
   "metadata": {},
   "outputs": [],
   "source": []
  },
  {
   "cell_type": "code",
   "execution_count": null,
   "metadata": {},
   "outputs": [],
   "source": []
  },
  {
   "cell_type": "code",
   "execution_count": null,
   "metadata": {},
   "outputs": [],
   "source": []
  }
 ],
 "metadata": {
  "kernelspec": {
   "display_name": "Python 3",
   "language": "python",
   "name": "python3"
  },
  "language_info": {
   "codemirror_mode": {
    "name": "ipython",
    "version": 3
   },
   "file_extension": ".py",
   "mimetype": "text/x-python",
   "name": "python",
   "nbconvert_exporter": "python",
   "pygments_lexer": "ipython3",
   "version": "3.8.5"
  }
 },
 "nbformat": 4,
 "nbformat_minor": 4
}
